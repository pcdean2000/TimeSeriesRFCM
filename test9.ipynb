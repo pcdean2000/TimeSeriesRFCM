{
 "cells": [
  {
   "cell_type": "code",
   "execution_count": 22,
   "metadata": {},
   "outputs": [],
   "source": [
    "# Importing libraries\n",
    "  \n",
    "import numpy as np\n",
    "import pandas as pd\n",
    "from tslearn.utils import to_pyts_dataset\n",
    "from tslearn.generators import random_walks\n",
    "from tslearn.barycenters import softdtw_barycenter, euclidean_barycenter"
   ]
  },
  {
   "cell_type": "code",
   "execution_count": 5,
   "metadata": {},
   "outputs": [],
   "source": [
    "class TimeSeries:\n",
    "    def __init__(self, data: list):\n",
    "        self.data = np.array(data)\n",
    "    \n",
    "    def __add__(self, other):\n",
    "        if isinstance(other, TimeSeries):\n",
    "            return TimeSeries(self.data + other.data)\n",
    "        elif isinstance(other, int):\n",
    "            return TimeSeries(self.data + other)\n",
    "        elif isinstance(other, float):\n",
    "            return TimeSeries(self.data + other)\n",
    "        elif isinstance(other, np.ndarray):\n",
    "            return TimeSeries(self.data + other)\n",
    "        \n",
    "    def __radd__(self, other):\n",
    "        return self + other\n",
    "        \n",
    "    def __sub__(self, other):\n",
    "        if isinstance(other, TimeSeries):\n",
    "            return TimeSeries(self.data - other.data)\n",
    "        elif isinstance(other, int):\n",
    "            return TimeSeries(self.data - other)\n",
    "        elif isinstance(other, float):\n",
    "            return TimeSeries(self.data - other)\n",
    "        elif isinstance(other, np.ndarray):\n",
    "            return TimeSeries(self.data - other)\n",
    "    \n",
    "    def __rsub__(self, other):\n",
    "        return -self + other\n",
    "    \n",
    "    def __mul__(self, other):\n",
    "        if isinstance(other, TimeSeries):\n",
    "            return TimeSeries(self.data * other.data)\n",
    "        elif isinstance(other, int):\n",
    "            return TimeSeries(self.data * other)\n",
    "        elif isinstance(other, float):\n",
    "            return TimeSeries(self.data * other)\n",
    "        elif isinstance(other, np.ndarray):\n",
    "            return TimeSeries(self.data * other)\n",
    "    \n",
    "    def __rmul__(self, other):\n",
    "        return self * other\n",
    "        \n",
    "    def __truediv__(self, other):\n",
    "        if isinstance(other, TimeSeries):\n",
    "            return TimeSeries(self.data / other.data)\n",
    "        elif isinstance(other, int):\n",
    "            return TimeSeries(self.data / other)\n",
    "        elif isinstance(other, float):\n",
    "            return TimeSeries(self.data / other)\n",
    "        elif isinstance(other, np.ndarray):\n",
    "            return TimeSeries(self.data / other)\n",
    "    \n",
    "    def __floordiv__(self, other):\n",
    "        if isinstance(other, TimeSeries):\n",
    "            return TimeSeries(self.data // other.data)\n",
    "        elif isinstance(other, int):\n",
    "            return TimeSeries(self.data // other)\n",
    "        elif isinstance(other, float):\n",
    "            return TimeSeries(self.data // other)\n",
    "        elif isinstance(other, np.ndarray):\n",
    "            return TimeSeries(self.data // other)\n",
    "        \n",
    "    def __pow__(self, other):\n",
    "        if isinstance(other, TimeSeries):\n",
    "            return TimeSeries(self.data ** other.data)\n",
    "        elif isinstance(other, int):\n",
    "            return TimeSeries(self.data ** other)\n",
    "        elif isinstance(other, float):\n",
    "            return TimeSeries(self.data ** other)\n",
    "        elif isinstance(other, np.ndarray):\n",
    "            return TimeSeries(self.data ** other)\n",
    "        \n",
    "    def __neg__(self):\n",
    "        return TimeSeries(-self.data)\n",
    "    \n",
    "    def __repr__(self):\n",
    "        return str(self.data)\n",
    "    \n",
    "    def __len__(self):\n",
    "        return len(self.data)\n",
    "    \n",
    "    def append(self, other):\n",
    "        self.data = np.append(self.data, other)\n",
    "        return self\n",
    "    \n",
    "    def extend(self, other):\n",
    "        self.data = np.append(self.data, other.data)\n",
    "        return self\n",
    "    \n",
    "    def size(self):\n",
    "        return len(self.data)\n",
    "    \n",
    "    def get_data(self):\n",
    "        return self.data"
   ]
  },
  {
   "cell_type": "code",
   "execution_count": 6,
   "metadata": {},
   "outputs": [],
   "source": [
    "# calculateMahalanobis function to calculate\n",
    "# the Mahalanobis distance\n",
    "def calculateMahalanobis(y=None, data=None, cov=None):\n",
    "  \n",
    "    y_mu = y - np.mean(data)\n",
    "    if not cov:\n",
    "        cov = np.cov(data.values.T)\n",
    "    inv_covmat = np.linalg.inv(cov)\n",
    "    left = np.dot(y_mu, inv_covmat)\n",
    "    mahal = np.dot(left, y_mu.T)\n",
    "    return mahal.diagonal()"
   ]
  },
  {
   "cell_type": "code",
   "execution_count": 97,
   "metadata": {},
   "outputs": [
    {
     "data": {
      "text/plain": [
       "array([[[3, 0, 0],\n",
       "        [4, 3, 4]],\n",
       "\n",
       "       [[3, 3, 3],\n",
       "        [2, 2, 1]],\n",
       "\n",
       "       [[3, 1, 3],\n",
       "        [2, 0, 2]],\n",
       "\n",
       "       [[4, 2, 1],\n",
       "        [4, 0, 4]]])"
      ]
     },
     "execution_count": 97,
     "metadata": {},
     "output_type": "execute_result"
    }
   ],
   "source": [
    "# data\n",
    "# data = { 'Price': [100000, 800000, 650000, 700000, \n",
    "#                    860000, 730000, 400000, 870000,\n",
    "#                    780000, 400000],\n",
    "#          'Distance': [16000, 60000, 300000, 10000, \n",
    "#                       252000, 350000, 260000, 510000, \n",
    "#                       2000, 5000],\n",
    "#          'Emission': [300, 400, 1230, 300, 400, 104,\n",
    "#                       632, 221, 142, 267],\n",
    "#          'Performance': [60, 88, 90, 87, 83, 81, 72, \n",
    "#                          91, 90, 93],\n",
    "#          'Mileage': [76, 89, 89, 57, 79, 84, 78, 99, \n",
    "#                      97, 99]\n",
    "#            }\n",
    "x = np.random.randint(5, size=(4, 2, 3))\n",
    "x"
   ]
  },
  {
   "cell_type": "code",
   "execution_count": 103,
   "metadata": {},
   "outputs": [
    {
     "data": {
      "text/plain": [
       "array([[[ 0.35416667,  1.77083333,  1.54166667],\n",
       "        [-0.3125    , -0.3125    , -1.45833333],\n",
       "        [-0.3125    , -0.47916667, -1.04166667],\n",
       "        [ 0.27083333, -0.97916667,  0.95833333]],\n",
       "\n",
       "       [[-0.3125    , -0.3125    , -1.45833333],\n",
       "        [ 0.35416667,  0.9375    ,  1.54166667],\n",
       "        [ 0.35416667, -0.5625    ,  0.95833333],\n",
       "        [-0.39583333, -0.0625    , -1.04166667]],\n",
       "\n",
       "       [[-0.3125    , -0.47916667, -1.04166667],\n",
       "        [ 0.35416667, -0.5625    ,  0.95833333],\n",
       "        [ 0.35416667,  0.60416667,  0.70833333],\n",
       "        [-0.39583333,  0.4375    , -0.625     ]],\n",
       "\n",
       "       [[ 0.27083333, -0.97916667,  0.95833333],\n",
       "        [-0.39583333, -0.0625    , -1.04166667],\n",
       "        [-0.39583333,  0.4375    , -0.625     ],\n",
       "        [ 0.52083333,  0.60416667,  0.70833333]]])"
      ]
     },
     "execution_count": 103,
     "metadata": {},
     "output_type": "execute_result"
    }
   ],
   "source": [
    "N = x.shape[0]\n",
    "m1 = x - x.sum(0,keepdims=1)/N\n",
    "cov = np.einsum('ijk,ljk->ilk',m1,m1) /(N - 1)\n",
    "cov"
   ]
  },
  {
   "cell_type": "code",
   "execution_count": 108,
   "metadata": {},
   "outputs": [
    {
     "ename": "LinAlgError",
     "evalue": "Last 2 dimensions of the array must be square",
     "output_type": "error",
     "traceback": [
      "\u001b[1;31m---------------------------------------------------------------------------\u001b[0m",
      "\u001b[1;31mLinAlgError\u001b[0m                               Traceback (most recent call last)",
      "Cell \u001b[1;32mIn[108], line 1\u001b[0m\n\u001b[1;32m----> 1\u001b[0m np\u001b[39m.\u001b[39;49mlinalg\u001b[39m.\u001b[39;49minv(cov)\n",
      "File \u001b[1;32m<__array_function__ internals>:180\u001b[0m, in \u001b[0;36minv\u001b[1;34m(*args, **kwargs)\u001b[0m\n",
      "File \u001b[1;32mc:\\Users\\pcdea\\AppData\\Local\\Programs\\Python\\Python310\\lib\\site-packages\\numpy\\linalg\\linalg.py:547\u001b[0m, in \u001b[0;36minv\u001b[1;34m(a)\u001b[0m\n\u001b[0;32m    545\u001b[0m a, wrap \u001b[39m=\u001b[39m _makearray(a)\n\u001b[0;32m    546\u001b[0m _assert_stacked_2d(a)\n\u001b[1;32m--> 547\u001b[0m _assert_stacked_square(a)\n\u001b[0;32m    548\u001b[0m t, result_t \u001b[39m=\u001b[39m _commonType(a)\n\u001b[0;32m    550\u001b[0m signature \u001b[39m=\u001b[39m \u001b[39m'\u001b[39m\u001b[39mD->D\u001b[39m\u001b[39m'\u001b[39m \u001b[39mif\u001b[39;00m isComplexType(t) \u001b[39melse\u001b[39;00m \u001b[39m'\u001b[39m\u001b[39md->d\u001b[39m\u001b[39m'\u001b[39m\n",
      "File \u001b[1;32mc:\\Users\\pcdea\\AppData\\Local\\Programs\\Python\\Python310\\lib\\site-packages\\numpy\\linalg\\linalg.py:204\u001b[0m, in \u001b[0;36m_assert_stacked_square\u001b[1;34m(*arrays)\u001b[0m\n\u001b[0;32m    202\u001b[0m m, n \u001b[39m=\u001b[39m a\u001b[39m.\u001b[39mshape[\u001b[39m-\u001b[39m\u001b[39m2\u001b[39m:]\n\u001b[0;32m    203\u001b[0m \u001b[39mif\u001b[39;00m m \u001b[39m!=\u001b[39m n:\n\u001b[1;32m--> 204\u001b[0m     \u001b[39mraise\u001b[39;00m LinAlgError(\u001b[39m'\u001b[39m\u001b[39mLast 2 dimensions of the array must be square\u001b[39m\u001b[39m'\u001b[39m)\n",
      "\u001b[1;31mLinAlgError\u001b[0m: Last 2 dimensions of the array must be square"
     ]
    }
   ],
   "source": [
    "np.linalg.inv(cov, )"
   ]
  },
  {
   "cell_type": "code",
   "execution_count": 110,
   "metadata": {},
   "outputs": [
    {
     "data": {
      "text/plain": [
       "array([[1., 0., 0.],\n",
       "       [0., 1., 0.],\n",
       "       [0., 0., 1.]])"
      ]
     },
     "execution_count": 110,
     "metadata": {},
     "output_type": "execute_result"
    }
   ],
   "source": [
    "np.identity(3)"
   ]
  },
  {
   "cell_type": "code",
   "execution_count": 109,
   "metadata": {},
   "outputs": [
    {
     "ename": "LinAlgError",
     "evalue": "Last 2 dimensions of the array must be square",
     "output_type": "error",
     "traceback": [
      "\u001b[1;31m---------------------------------------------------------------------------\u001b[0m",
      "\u001b[1;31mLinAlgError\u001b[0m                               Traceback (most recent call last)",
      "Cell \u001b[1;32mIn[109], line 1\u001b[0m\n\u001b[1;32m----> 1\u001b[0m inv_cov \u001b[39m=\u001b[39m np\u001b[39m.\u001b[39;49mlinalg\u001b[39m.\u001b[39;49mtensorinv(cov, ind\u001b[39m=\u001b[39;49m\u001b[39m2\u001b[39;49m)\n",
      "File \u001b[1;32m<__array_function__ internals>:180\u001b[0m, in \u001b[0;36mtensorinv\u001b[1;34m(*args, **kwargs)\u001b[0m\n",
      "File \u001b[1;32mc:\\Users\\pcdea\\AppData\\Local\\Programs\\Python\\Python310\\lib\\site-packages\\numpy\\linalg\\linalg.py:473\u001b[0m, in \u001b[0;36mtensorinv\u001b[1;34m(a, ind)\u001b[0m\n\u001b[0;32m    471\u001b[0m     \u001b[39mraise\u001b[39;00m \u001b[39mValueError\u001b[39;00m(\u001b[39m\"\u001b[39m\u001b[39mInvalid ind argument.\u001b[39m\u001b[39m\"\u001b[39m)\n\u001b[0;32m    472\u001b[0m a \u001b[39m=\u001b[39m a\u001b[39m.\u001b[39mreshape(prod, \u001b[39m-\u001b[39m\u001b[39m1\u001b[39m)\n\u001b[1;32m--> 473\u001b[0m ia \u001b[39m=\u001b[39m inv(a)\n\u001b[0;32m    474\u001b[0m \u001b[39mreturn\u001b[39;00m ia\u001b[39m.\u001b[39mreshape(\u001b[39m*\u001b[39minvshape)\n",
      "File \u001b[1;32m<__array_function__ internals>:180\u001b[0m, in \u001b[0;36minv\u001b[1;34m(*args, **kwargs)\u001b[0m\n",
      "File \u001b[1;32mc:\\Users\\pcdea\\AppData\\Local\\Programs\\Python\\Python310\\lib\\site-packages\\numpy\\linalg\\linalg.py:547\u001b[0m, in \u001b[0;36minv\u001b[1;34m(a)\u001b[0m\n\u001b[0;32m    545\u001b[0m a, wrap \u001b[39m=\u001b[39m _makearray(a)\n\u001b[0;32m    546\u001b[0m _assert_stacked_2d(a)\n\u001b[1;32m--> 547\u001b[0m _assert_stacked_square(a)\n\u001b[0;32m    548\u001b[0m t, result_t \u001b[39m=\u001b[39m _commonType(a)\n\u001b[0;32m    550\u001b[0m signature \u001b[39m=\u001b[39m \u001b[39m'\u001b[39m\u001b[39mD->D\u001b[39m\u001b[39m'\u001b[39m \u001b[39mif\u001b[39;00m isComplexType(t) \u001b[39melse\u001b[39;00m \u001b[39m'\u001b[39m\u001b[39md->d\u001b[39m\u001b[39m'\u001b[39m\n",
      "File \u001b[1;32mc:\\Users\\pcdea\\AppData\\Local\\Programs\\Python\\Python310\\lib\\site-packages\\numpy\\linalg\\linalg.py:204\u001b[0m, in \u001b[0;36m_assert_stacked_square\u001b[1;34m(*arrays)\u001b[0m\n\u001b[0;32m    202\u001b[0m m, n \u001b[39m=\u001b[39m a\u001b[39m.\u001b[39mshape[\u001b[39m-\u001b[39m\u001b[39m2\u001b[39m:]\n\u001b[0;32m    203\u001b[0m \u001b[39mif\u001b[39;00m m \u001b[39m!=\u001b[39m n:\n\u001b[1;32m--> 204\u001b[0m     \u001b[39mraise\u001b[39;00m LinAlgError(\u001b[39m'\u001b[39m\u001b[39mLast 2 dimensions of the array must be square\u001b[39m\u001b[39m'\u001b[39m)\n",
      "\u001b[1;31mLinAlgError\u001b[0m: Last 2 dimensions of the array must be square"
     ]
    }
   ],
   "source": [
    "inv_cov = np.linalg.tensorinv(cov, ind=2)"
   ]
  },
  {
   "cell_type": "code",
   "execution_count": 83,
   "metadata": {},
   "outputs": [
    {
     "data": {
      "text/plain": [
       "array([[1, 0],\n",
       "       [1, 4],\n",
       "       [4, 0],\n",
       "       [0, 0]])"
      ]
     },
     "execution_count": 83,
     "metadata": {},
     "output_type": "execute_result"
    }
   ],
   "source": [
    "data = np.random.randint(5, size=(4, 2))\n",
    "data"
   ]
  },
  {
   "cell_type": "code",
   "execution_count": 84,
   "metadata": {},
   "outputs": [
    {
     "data": {
      "text/plain": [
       "array([[ 0.5, -1.5,  2. ,  0. ],\n",
       "       [-1.5,  4.5, -6. ,  0. ],\n",
       "       [ 2. , -6. ,  8. ,  0. ],\n",
       "       [ 0. ,  0. ,  0. ,  0. ]])"
      ]
     },
     "execution_count": 84,
     "metadata": {},
     "output_type": "execute_result"
    }
   ],
   "source": [
    "np.cov(data)"
   ]
  },
  {
   "cell_type": "code",
   "execution_count": 57,
   "metadata": {},
   "outputs": [
    {
     "data": {
      "text/plain": [
       "array([[[1, 2, 3, 4],\n",
       "        [3, 4, 5, 6],\n",
       "        [5, 6, 7, 8]],\n",
       "\n",
       "       [[2, 3, 4, 5],\n",
       "        [4, 5, 6, 7],\n",
       "        [6, 7, 8, 9]]])"
      ]
     },
     "execution_count": 57,
     "metadata": {},
     "output_type": "execute_result"
    }
   ],
   "source": [
    "np.transpose(data, (1, 0, 2))"
   ]
  },
  {
   "cell_type": "code",
   "execution_count": 43,
   "metadata": {},
   "outputs": [],
   "source": [
    "x = data"
   ]
  },
  {
   "cell_type": "code",
   "execution_count": 44,
   "metadata": {},
   "outputs": [
    {
     "data": {
      "text/plain": [
       "10"
      ]
     },
     "execution_count": 44,
     "metadata": {},
     "output_type": "execute_result"
    }
   ],
   "source": [
    "N = x.shape[0]\n",
    "N"
   ]
  },
  {
   "cell_type": "code",
   "execution_count": 45,
   "metadata": {},
   "outputs": [
    {
     "data": {
      "text/plain": [
       "array([[-0.86557046, -0.61443859, -0.50824325,  0.29412327, -1.17867698],\n",
       "       [ 0.39816941,  0.74053315,  0.33091491,  0.02902028,  1.16368194]])"
      ]
     },
     "execution_count": 45,
     "metadata": {},
     "output_type": "execute_result"
    }
   ],
   "source": [
    "m = x[0, :, :]\n",
    "m"
   ]
  },
  {
   "cell_type": "code",
   "execution_count": 51,
   "metadata": {},
   "outputs": [
    {
     "data": {
      "text/plain": [
       "array([[ 0.13562241,  0.73423937,  0.8029737 ,  1.1198561 ,  0.88859473],\n",
       "       [ 0.12659499,  0.23373692,  0.1436549 , -0.11167652, -0.25775   ]])"
      ]
     },
     "execution_count": 51,
     "metadata": {},
     "output_type": "execute_result"
    }
   ],
   "source": [
    "np.mean(x, axis=0)"
   ]
  },
  {
   "cell_type": "code",
   "execution_count": 52,
   "metadata": {},
   "outputs": [
    {
     "data": {
      "text/plain": [
       "array([[[ 0.13562241,  0.73423937,  0.8029737 ,  1.1198561 ,\n",
       "          0.88859473],\n",
       "        [ 0.12659499,  0.23373692,  0.1436549 , -0.11167652,\n",
       "         -0.25775   ]]])"
      ]
     },
     "execution_count": 52,
     "metadata": {},
     "output_type": "execute_result"
    }
   ],
   "source": [
    "x.sum(axis=0, keepdims=True) / N"
   ]
  },
  {
   "cell_type": "code",
   "execution_count": 21,
   "metadata": {},
   "outputs": [],
   "source": [
    "def to_timeseries(data):\n",
    "    new_data = []\n",
    "    for i in range(len(data)):\n",
    "        inner_data = []\n",
    "        for j in range(len(data[i])):\n",
    "            inner_data.append(TimeSeries(data[i][j]))\n",
    "        new_data.append(inner_data)\n",
    "    return new_data\n",
    "\n",
    "def to_numpy(data):\n",
    "    new_data = []\n",
    "    for i in range(len(data)):\n",
    "        inner_data = []\n",
    "        for j in range(len(data[i])):\n",
    "            inner_data.append(data[i][j].data)\n",
    "        new_data.append(inner_data)\n",
    "    return np.array(new_data)"
   ]
  },
  {
   "cell_type": "code",
   "execution_count": 32,
   "metadata": {},
   "outputs": [],
   "source": [
    "new_data = to_timeseries(data)"
   ]
  },
  {
   "cell_type": "code",
   "execution_count": 33,
   "metadata": {},
   "outputs": [],
   "source": [
    "np_new_data = np.array(new_data)"
   ]
  },
  {
   "cell_type": "code",
   "execution_count": 39,
   "metadata": {},
   "outputs": [
    {
     "data": {
      "text/plain": [
       "array([[0.13562241 0.73423937 0.8029737  1.1198561  0.88859473],\n",
       "       [ 0.12659499  0.23373692  0.1436549  -0.11167652 -0.25775   ]],\n",
       "      dtype=object)"
      ]
     },
     "execution_count": 39,
     "metadata": {},
     "output_type": "execute_result"
    }
   ],
   "source": [
    "np.mean(np_new_data, axis=0)"
   ]
  },
  {
   "cell_type": "code",
   "execution_count": 42,
   "metadata": {},
   "outputs": [
    {
     "ename": "ValueError",
     "evalue": "m has more than 2 dimensions",
     "output_type": "error",
     "traceback": [
      "\u001b[1;31m---------------------------------------------------------------------------\u001b[0m",
      "\u001b[1;31mValueError\u001b[0m                                Traceback (most recent call last)",
      "Cell \u001b[1;32mIn[42], line 1\u001b[0m\n\u001b[1;32m----> 1\u001b[0m np\u001b[39m.\u001b[39;49mcov(data, rowvar\u001b[39m=\u001b[39;49m\u001b[39mFalse\u001b[39;49;00m)\n",
      "File \u001b[1;32m<__array_function__ internals>:180\u001b[0m, in \u001b[0;36mcov\u001b[1;34m(*args, **kwargs)\u001b[0m\n",
      "File \u001b[1;32mc:\\Users\\pcdea\\AppData\\Local\\Programs\\Python\\Python310\\lib\\site-packages\\numpy\\lib\\function_base.py:2617\u001b[0m, in \u001b[0;36mcov\u001b[1;34m(m, y, rowvar, bias, ddof, fweights, aweights, dtype)\u001b[0m\n\u001b[0;32m   2615\u001b[0m m \u001b[39m=\u001b[39m np\u001b[39m.\u001b[39masarray(m)\n\u001b[0;32m   2616\u001b[0m \u001b[39mif\u001b[39;00m m\u001b[39m.\u001b[39mndim \u001b[39m>\u001b[39m \u001b[39m2\u001b[39m:\n\u001b[1;32m-> 2617\u001b[0m     \u001b[39mraise\u001b[39;00m \u001b[39mValueError\u001b[39;00m(\u001b[39m\"\u001b[39m\u001b[39mm has more than 2 dimensions\u001b[39m\u001b[39m\"\u001b[39m)\n\u001b[0;32m   2619\u001b[0m \u001b[39mif\u001b[39;00m y \u001b[39mis\u001b[39;00m \u001b[39mnot\u001b[39;00m \u001b[39mNone\u001b[39;00m:\n\u001b[0;32m   2620\u001b[0m     y \u001b[39m=\u001b[39m np\u001b[39m.\u001b[39masarray(y)\n",
      "\u001b[1;31mValueError\u001b[0m: m has more than 2 dimensions"
     ]
    }
   ],
   "source": [
    "np.cov(data, rowvar=False)"
   ]
  },
  {
   "cell_type": "code",
   "execution_count": 34,
   "metadata": {},
   "outputs": [],
   "source": [
    "y = data[0]"
   ]
  },
  {
   "cell_type": "code",
   "execution_count": 35,
   "metadata": {},
   "outputs": [
    {
     "data": {
      "text/plain": [
       "array([[ 0.98000723,  1.12008055,  2.44036502,  4.82350001,  3.68844372],\n",
       "       [-1.07306635, -0.45691828, -0.30805465,  1.80594941,  2.26949636]])"
      ]
     },
     "execution_count": 35,
     "metadata": {},
     "output_type": "execute_result"
    }
   ],
   "source": [
    "y"
   ]
  },
  {
   "cell_type": "code",
   "execution_count": 36,
   "metadata": {},
   "outputs": [],
   "source": [
    "data = data[1:]"
   ]
  },
  {
   "cell_type": "code",
   "execution_count": 37,
   "metadata": {},
   "outputs": [],
   "source": [
    "y_mu = y - np.mean(data)"
   ]
  },
  {
   "cell_type": "code",
   "execution_count": 40,
   "metadata": {},
   "outputs": [
    {
     "ename": "ValueError",
     "evalue": "m has more than 2 dimensions",
     "output_type": "error",
     "traceback": [
      "\u001b[1;31m---------------------------------------------------------------------------\u001b[0m",
      "\u001b[1;31mValueError\u001b[0m                                Traceback (most recent call last)",
      "Cell \u001b[1;32mIn[40], line 1\u001b[0m\n\u001b[1;32m----> 1\u001b[0m cov \u001b[39m=\u001b[39m np\u001b[39m.\u001b[39;49mcov(data\u001b[39m.\u001b[39;49mT)\n",
      "File \u001b[1;32m<__array_function__ internals>:180\u001b[0m, in \u001b[0;36mcov\u001b[1;34m(*args, **kwargs)\u001b[0m\n",
      "File \u001b[1;32mc:\\Users\\pcdea\\AppData\\Local\\Programs\\Python\\Python310\\lib\\site-packages\\numpy\\lib\\function_base.py:2617\u001b[0m, in \u001b[0;36mcov\u001b[1;34m(m, y, rowvar, bias, ddof, fweights, aweights, dtype)\u001b[0m\n\u001b[0;32m   2615\u001b[0m m \u001b[39m=\u001b[39m np\u001b[39m.\u001b[39masarray(m)\n\u001b[0;32m   2616\u001b[0m \u001b[39mif\u001b[39;00m m\u001b[39m.\u001b[39mndim \u001b[39m>\u001b[39m \u001b[39m2\u001b[39m:\n\u001b[1;32m-> 2617\u001b[0m     \u001b[39mraise\u001b[39;00m \u001b[39mValueError\u001b[39;00m(\u001b[39m\"\u001b[39m\u001b[39mm has more than 2 dimensions\u001b[39m\u001b[39m\"\u001b[39m)\n\u001b[0;32m   2619\u001b[0m \u001b[39mif\u001b[39;00m y \u001b[39mis\u001b[39;00m \u001b[39mnot\u001b[39;00m \u001b[39mNone\u001b[39;00m:\n\u001b[0;32m   2620\u001b[0m     y \u001b[39m=\u001b[39m np\u001b[39m.\u001b[39masarray(y)\n",
      "\u001b[1;31mValueError\u001b[0m: m has more than 2 dimensions"
     ]
    }
   ],
   "source": [
    "cov = np.cov(data.T)"
   ]
  },
  {
   "cell_type": "code",
   "execution_count": 43,
   "metadata": {},
   "outputs": [
    {
     "data": {
      "text/plain": [
       "array([[0, 2],\n",
       "       [1, 1],\n",
       "       [2, 0]])"
      ]
     },
     "execution_count": 43,
     "metadata": {},
     "output_type": "execute_result"
    }
   ],
   "source": [
    "x = np.array([[0, 2], [1, 1], [2, 0]])\n",
    "x"
   ]
  },
  {
   "cell_type": "code",
   "execution_count": 44,
   "metadata": {},
   "outputs": [
    {
     "data": {
      "text/plain": [
       "array([[ 2.,  0., -2.],\n",
       "       [ 0.,  0.,  0.],\n",
       "       [-2.,  0.,  2.]])"
      ]
     },
     "execution_count": 44,
     "metadata": {},
     "output_type": "execute_result"
    }
   ],
   "source": [
    "np.cov(x)"
   ]
  },
  {
   "cell_type": "code",
   "execution_count": 20,
   "metadata": {},
   "outputs": [
    {
     "data": {
      "text/plain": [
       "array([[ 0.23269052,  0.15226351,  0.35418025,  0.05216147,  0.06028867],\n",
       "       [-0.23496056, -0.32649221, -0.43882192, -0.64713867, -0.62011391]])"
      ]
     },
     "execution_count": 20,
     "metadata": {},
     "output_type": "execute_result"
    }
   ],
   "source": [
    "np.mean(to_pyts_dataset(data), axis=0)"
   ]
  },
  {
   "cell_type": "code",
   "execution_count": 17,
   "metadata": {},
   "outputs": [
    {
     "data": {
      "text/plain": [
       "array([[ 0.23269052, -0.23496056],\n",
       "       [ 0.15226351, -0.32649221],\n",
       "       [ 0.35418025, -0.43882192],\n",
       "       [ 0.05216147, -0.64713867],\n",
       "       [ 0.06028867, -0.62011391]])"
      ]
     },
     "execution_count": 17,
     "metadata": {},
     "output_type": "execute_result"
    }
   ],
   "source": [
    "np.mean(data, axis=0)"
   ]
  },
  {
   "cell_type": "code",
   "execution_count": 18,
   "metadata": {},
   "outputs": [
    {
     "data": {
      "text/plain": [
       "array([[ 0.23040567, -0.23550974],\n",
       "       [ 0.22046953, -0.19495791],\n",
       "       [ 0.14550385, -0.16611313],\n",
       "       [ 0.18379636,  0.38666469],\n",
       "       [ 0.17890966, -1.36882761]])"
      ]
     },
     "execution_count": 18,
     "metadata": {},
     "output_type": "execute_result"
    }
   ],
   "source": [
    "softdtw_barycenter(data)"
   ]
  },
  {
   "cell_type": "code",
   "execution_count": 19,
   "metadata": {},
   "outputs": [
    {
     "data": {
      "text/plain": [
       "array([[ 0.23269052, -0.23496056],\n",
       "       [ 0.15226351, -0.32649221],\n",
       "       [ 0.35418025, -0.43882192],\n",
       "       [ 0.05216147, -0.64713867],\n",
       "       [ 0.06028867, -0.62011391]])"
      ]
     },
     "execution_count": 19,
     "metadata": {},
     "output_type": "execute_result"
    }
   ],
   "source": [
    "euclidean_barycenter(data)"
   ]
  },
  {
   "cell_type": "code",
   "execution_count": null,
   "metadata": {},
   "outputs": [],
   "source": [
    "# Creating a new column in the dataframe that holds\n",
    "# the Mahalanobis distance for each row\n",
    "df['calculateMahalanobis'] = calculateMahalanobis(y=df, data=df[[\n",
    "  'Price', 'Distance', 'Emission','Performance', 'Mileage']])\n",
    "  \n",
    "# Display the dataframe\n",
    "print(df)"
   ]
  }
 ],
 "metadata": {
  "kernelspec": {
   "display_name": "Python 3",
   "language": "python",
   "name": "python3"
  },
  "language_info": {
   "codemirror_mode": {
    "name": "ipython",
    "version": 3
   },
   "file_extension": ".py",
   "mimetype": "text/x-python",
   "name": "python",
   "nbconvert_exporter": "python",
   "pygments_lexer": "ipython3",
   "version": "3.10.9"
  },
  "orig_nbformat": 4
 },
 "nbformat": 4,
 "nbformat_minor": 2
}
