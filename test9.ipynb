{
 "cells": [
  {
   "cell_type": "code",
   "execution_count": 1,
   "metadata": {},
   "outputs": [],
   "source": [
    "# Importing libraries\n",
    "  \n",
    "import numpy as np\n",
    "import pandas as pd\n",
    "from tslearn.utils import to_pyts_dataset\n",
    "from tslearn.generators import random_walks\n",
    "from tslearn.barycenters import softdtw_barycenter, euclidean_barycenter"
   ]
  },
  {
   "cell_type": "code",
   "execution_count": 11,
   "metadata": {},
   "outputs": [],
   "source": [
    "class TimeSeries:\n",
    "    def __init__(self, data: list):\n",
    "        self.data = np.array(data)\n",
    "    \n",
    "    def __add__(self, other):\n",
    "        if isinstance(other, TimeSeries):\n",
    "            return TimeSeries(self.data + other.data)\n",
    "        elif isinstance(other, int):\n",
    "            return TimeSeries(self.data + other)\n",
    "        elif isinstance(other, float):\n",
    "            return TimeSeries(self.data + other)\n",
    "        elif isinstance(other, np.ndarray):\n",
    "            return TimeSeries(self.data + other)\n",
    "        \n",
    "    def __radd__(self, other):\n",
    "        return self + other\n",
    "        \n",
    "    def __sub__(self, other):\n",
    "        if isinstance(other, TimeSeries):\n",
    "            return TimeSeries(self.data - other.data)\n",
    "        elif isinstance(other, int):\n",
    "            return TimeSeries(self.data - other)\n",
    "        elif isinstance(other, float):\n",
    "            return TimeSeries(self.data - other)\n",
    "        elif isinstance(other, np.ndarray):\n",
    "            return TimeSeries(self.data - other)\n",
    "    \n",
    "    def __rsub__(self, other):\n",
    "        return -self + other\n",
    "    \n",
    "    def __mul__(self, other):\n",
    "        if isinstance(other, TimeSeries):\n",
    "            return TimeSeries(self.data * other.data)\n",
    "        elif isinstance(other, int):\n",
    "            return TimeSeries(self.data * other)\n",
    "        elif isinstance(other, float):\n",
    "            return TimeSeries(self.data * other)\n",
    "        elif isinstance(other, np.ndarray):\n",
    "            return TimeSeries(self.data * other)\n",
    "    \n",
    "    def __rmul__(self, other):\n",
    "        return self * other\n",
    "        \n",
    "    def __truediv__(self, other):\n",
    "        if isinstance(other, TimeSeries):\n",
    "            return TimeSeries(self.data / other.data)\n",
    "        elif isinstance(other, int):\n",
    "            return TimeSeries(self.data / other)\n",
    "        elif isinstance(other, float):\n",
    "            return TimeSeries(self.data / other)\n",
    "        elif isinstance(other, np.ndarray):\n",
    "            return TimeSeries(self.data / other)\n",
    "    \n",
    "    def __floordiv__(self, other):\n",
    "        if isinstance(other, TimeSeries):\n",
    "            return TimeSeries(self.data // other.data)\n",
    "        elif isinstance(other, int):\n",
    "            return TimeSeries(self.data // other)\n",
    "        elif isinstance(other, float):\n",
    "            return TimeSeries(self.data // other)\n",
    "        elif isinstance(other, np.ndarray):\n",
    "            return TimeSeries(self.data // other)\n",
    "        \n",
    "    def __pow__(self, other):\n",
    "        if isinstance(other, TimeSeries):\n",
    "            return TimeSeries(self.data ** other.data)\n",
    "        elif isinstance(other, int):\n",
    "            return TimeSeries(self.data ** other)\n",
    "        elif isinstance(other, float):\n",
    "            return TimeSeries(self.data ** other)\n",
    "        elif isinstance(other, np.ndarray):\n",
    "            return TimeSeries(self.data ** other)\n",
    "    \n",
    "    def __neg__(self):\n",
    "        return TimeSeries(-self.data)\n",
    "    \n",
    "    def __repr__(self):\n",
    "        return str(self.data)\n",
    "    \n",
    "    def __len__(self):\n",
    "        return len(self.data)\n",
    "    \n",
    "    def append(self, other):\n",
    "        self.data = np.append(self.data, other)\n",
    "        return self\n",
    "    \n",
    "    def extend(self, other):\n",
    "        self.data = np.append(self.data, other.data)\n",
    "        return self\n",
    "    \n",
    "    def size(self):\n",
    "        return len(self.data)\n",
    "    \n",
    "    def get_data(self):\n",
    "        return self.data"
   ]
  },
  {
   "cell_type": "code",
   "execution_count": 2,
   "metadata": {},
   "outputs": [],
   "source": [
    "# calculateMahalanobis function to calculate\n",
    "# the Mahalanobis distance\n",
    "def calculateMahalanobis(y=None, data=None, cov=None):\n",
    "  \n",
    "    y_mu = y - np.mean(data)\n",
    "    if not cov:\n",
    "        cov = np.cov(data.values.T)\n",
    "    inv_covmat = np.linalg.inv(cov)\n",
    "    left = np.dot(y_mu, inv_covmat)\n",
    "    mahal = np.dot(left, y_mu.T)\n",
    "    return mahal.diagonal()"
   ]
  },
  {
   "cell_type": "code",
   "execution_count": 3,
   "metadata": {},
   "outputs": [],
   "source": [
    "# data\n",
    "# data = { 'Price': [100000, 800000, 650000, 700000, \n",
    "#                    860000, 730000, 400000, 870000,\n",
    "#                    780000, 400000],\n",
    "#          'Distance': [16000, 60000, 300000, 10000, \n",
    "#                       252000, 350000, 260000, 510000, \n",
    "#                       2000, 5000],\n",
    "#          'Emission': [300, 400, 1230, 300, 400, 104,\n",
    "#                       632, 221, 142, 267],\n",
    "#          'Performance': [60, 88, 90, 87, 83, 81, 72, \n",
    "#                          91, 90, 93],\n",
    "#          'Mileage': [76, 89, 89, 57, 79, 84, 78, 99, \n",
    "#                      97, 99]\n",
    "#            }\n",
    "data = random_walks(n_ts=10, sz=5, d=2)\n",
    "# data = to_pyts_dataset(data)"
   ]
  },
  {
   "cell_type": "code",
   "execution_count": 4,
   "metadata": {},
   "outputs": [],
   "source": [
    "data = to_pyts_dataset(data)"
   ]
  },
  {
   "cell_type": "code",
   "execution_count": 5,
   "metadata": {},
   "outputs": [
    {
     "data": {
      "text/plain": [
       "array([[[ 0.89924132,  1.994074  ,  3.70670861,  3.77934299,\n",
       "          4.68051678],\n",
       "        [ 0.63136167,  0.42404455,  0.35053128, -0.85049521,\n",
       "         -2.11707843]],\n",
       "\n",
       "       [[-0.91977193, -0.60523712,  0.12669143, -0.3888253 ,\n",
       "         -0.30128132],\n",
       "        [-0.2002337 , -0.45376124,  0.44585905,  1.33578257,\n",
       "         -0.08594881]],\n",
       "\n",
       "       [[ 0.7248871 ,  0.0948117 ,  0.7108839 ,  1.35920393,\n",
       "          0.72930517],\n",
       "        [ 1.10436435, -0.39528485,  0.04040551,  0.42102396,\n",
       "          2.22465443]],\n",
       "\n",
       "       [[ 0.78985966,  0.87227635, -0.43082329, -0.44682516,\n",
       "          0.63595676],\n",
       "        [-0.87226968, -1.5280429 , -2.71588214, -3.75125961,\n",
       "         -3.581445  ]],\n",
       "\n",
       "       [[-0.53345279, -1.34014267, -1.30905531, -0.36118079,\n",
       "         -1.62068587],\n",
       "        [-1.33063291, -1.63006093, -2.12918997, -2.89937914,\n",
       "         -3.06136541]],\n",
       "\n",
       "       [[ 0.21148865, -0.6313883 , -1.29220963, -2.39147498,\n",
       "         -3.81051265],\n",
       "        [-1.17648128, -3.01463631, -4.91202308, -5.97355382,\n",
       "         -4.90914659]],\n",
       "\n",
       "       [[-0.04619033, -0.26196326, -1.44526851, -0.73865118,\n",
       "         -0.23007674],\n",
       "        [ 0.53932276, -1.15452946, -2.36030297, -2.05224781,\n",
       "         -1.40781998]],\n",
       "\n",
       "       [[ 0.6521918 ,  0.75438763,  0.81144719,  1.18162679,\n",
       "          0.81095193],\n",
       "        [ 1.48334308,  1.52095765,  1.15465185, -0.22548878,\n",
       "          0.85238571]],\n",
       "\n",
       "       [[-0.12292349, -1.16970818, -0.50079697, -1.57710645,\n",
       "         -0.69643416],\n",
       "        [ 1.07658224,  2.42985132,  1.72708506,  1.33093605,\n",
       "          1.18517192]],\n",
       "\n",
       "       [[-0.58309904, -2.16022291, -1.79924428, -1.29109631,\n",
       "         -0.30872113],\n",
       "        [ 0.66214274,  2.24951461,  0.62469768,  1.48655167,\n",
       "          1.35599393]]])"
      ]
     },
     "execution_count": 5,
     "metadata": {},
     "output_type": "execute_result"
    }
   ],
   "source": [
    "data"
   ]
  },
  {
   "cell_type": "code",
   "execution_count": 6,
   "metadata": {},
   "outputs": [],
   "source": [
    "y = data[0]"
   ]
  },
  {
   "cell_type": "code",
   "execution_count": 7,
   "metadata": {},
   "outputs": [
    {
     "data": {
      "text/plain": [
       "array([[ 0.89924132,  1.994074  ,  3.70670861,  3.77934299,  4.68051678],\n",
       "       [ 0.63136167,  0.42404455,  0.35053128, -0.85049521, -2.11707843]])"
      ]
     },
     "execution_count": 7,
     "metadata": {},
     "output_type": "execute_result"
    }
   ],
   "source": [
    "y"
   ]
  },
  {
   "cell_type": "code",
   "execution_count": 8,
   "metadata": {},
   "outputs": [],
   "source": [
    "data = data[1:]"
   ]
  },
  {
   "cell_type": "code",
   "execution_count": 9,
   "metadata": {},
   "outputs": [],
   "source": [
    "y_mu = y - np.mean(data)"
   ]
  },
  {
   "cell_type": "code",
   "execution_count": 10,
   "metadata": {},
   "outputs": [
    {
     "ename": "ValueError",
     "evalue": "m has more than 2 dimensions",
     "output_type": "error",
     "traceback": [
      "\u001b[1;31m---------------------------------------------------------------------------\u001b[0m",
      "\u001b[1;31mValueError\u001b[0m                                Traceback (most recent call last)",
      "Cell \u001b[1;32mIn[10], line 1\u001b[0m\n\u001b[1;32m----> 1\u001b[0m cov \u001b[39m=\u001b[39m np\u001b[39m.\u001b[39;49mcov(data\u001b[39m.\u001b[39;49mT)\n",
      "File \u001b[1;32m<__array_function__ internals>:180\u001b[0m, in \u001b[0;36mcov\u001b[1;34m(*args, **kwargs)\u001b[0m\n",
      "File \u001b[1;32mc:\\Users\\pcdea\\AppData\\Local\\Programs\\Python\\Python310\\lib\\site-packages\\numpy\\lib\\function_base.py:2617\u001b[0m, in \u001b[0;36mcov\u001b[1;34m(m, y, rowvar, bias, ddof, fweights, aweights, dtype)\u001b[0m\n\u001b[0;32m   2615\u001b[0m m \u001b[39m=\u001b[39m np\u001b[39m.\u001b[39masarray(m)\n\u001b[0;32m   2616\u001b[0m \u001b[39mif\u001b[39;00m m\u001b[39m.\u001b[39mndim \u001b[39m>\u001b[39m \u001b[39m2\u001b[39m:\n\u001b[1;32m-> 2617\u001b[0m     \u001b[39mraise\u001b[39;00m \u001b[39mValueError\u001b[39;00m(\u001b[39m\"\u001b[39m\u001b[39mm has more than 2 dimensions\u001b[39m\u001b[39m\"\u001b[39m)\n\u001b[0;32m   2619\u001b[0m \u001b[39mif\u001b[39;00m y \u001b[39mis\u001b[39;00m \u001b[39mnot\u001b[39;00m \u001b[39mNone\u001b[39;00m:\n\u001b[0;32m   2620\u001b[0m     y \u001b[39m=\u001b[39m np\u001b[39m.\u001b[39masarray(y)\n",
      "\u001b[1;31mValueError\u001b[0m: m has more than 2 dimensions"
     ]
    }
   ],
   "source": [
    "cov = np.cov(data.T)"
   ]
  },
  {
   "cell_type": "code",
   "execution_count": 20,
   "metadata": {},
   "outputs": [
    {
     "data": {
      "text/plain": [
       "array([[ 0.23269052,  0.15226351,  0.35418025,  0.05216147,  0.06028867],\n",
       "       [-0.23496056, -0.32649221, -0.43882192, -0.64713867, -0.62011391]])"
      ]
     },
     "execution_count": 20,
     "metadata": {},
     "output_type": "execute_result"
    }
   ],
   "source": [
    "np.mean(to_pyts_dataset(data), axis=0)"
   ]
  },
  {
   "cell_type": "code",
   "execution_count": 17,
   "metadata": {},
   "outputs": [
    {
     "data": {
      "text/plain": [
       "array([[ 0.23269052, -0.23496056],\n",
       "       [ 0.15226351, -0.32649221],\n",
       "       [ 0.35418025, -0.43882192],\n",
       "       [ 0.05216147, -0.64713867],\n",
       "       [ 0.06028867, -0.62011391]])"
      ]
     },
     "execution_count": 17,
     "metadata": {},
     "output_type": "execute_result"
    }
   ],
   "source": [
    "np.mean(data, axis=0)"
   ]
  },
  {
   "cell_type": "code",
   "execution_count": 18,
   "metadata": {},
   "outputs": [
    {
     "data": {
      "text/plain": [
       "array([[ 0.23040567, -0.23550974],\n",
       "       [ 0.22046953, -0.19495791],\n",
       "       [ 0.14550385, -0.16611313],\n",
       "       [ 0.18379636,  0.38666469],\n",
       "       [ 0.17890966, -1.36882761]])"
      ]
     },
     "execution_count": 18,
     "metadata": {},
     "output_type": "execute_result"
    }
   ],
   "source": [
    "softdtw_barycenter(data)"
   ]
  },
  {
   "cell_type": "code",
   "execution_count": 19,
   "metadata": {},
   "outputs": [
    {
     "data": {
      "text/plain": [
       "array([[ 0.23269052, -0.23496056],\n",
       "       [ 0.15226351, -0.32649221],\n",
       "       [ 0.35418025, -0.43882192],\n",
       "       [ 0.05216147, -0.64713867],\n",
       "       [ 0.06028867, -0.62011391]])"
      ]
     },
     "execution_count": 19,
     "metadata": {},
     "output_type": "execute_result"
    }
   ],
   "source": [
    "euclidean_barycenter(data)"
   ]
  },
  {
   "cell_type": "code",
   "execution_count": null,
   "metadata": {},
   "outputs": [],
   "source": [
    "# Creating a new column in the dataframe that holds\n",
    "# the Mahalanobis distance for each row\n",
    "df['calculateMahalanobis'] = calculateMahalanobis(y=df, data=df[[\n",
    "  'Price', 'Distance', 'Emission','Performance', 'Mileage']])\n",
    "  \n",
    "# Display the dataframe\n",
    "print(df)"
   ]
  }
 ],
 "metadata": {
  "kernelspec": {
   "display_name": "Python 3",
   "language": "python",
   "name": "python3"
  },
  "language_info": {
   "codemirror_mode": {
    "name": "ipython",
    "version": 3
   },
   "file_extension": ".py",
   "mimetype": "text/x-python",
   "name": "python",
   "nbconvert_exporter": "python",
   "pygments_lexer": "ipython3",
   "version": "3.10.9"
  },
  "orig_nbformat": 4
 },
 "nbformat": 4,
 "nbformat_minor": 2
}
