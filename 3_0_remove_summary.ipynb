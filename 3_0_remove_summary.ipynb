{
 "cells": [
  {
   "cell_type": "code",
   "execution_count": 18,
   "metadata": {},
   "outputs": [],
   "source": [
    "import pandas as pd\n",
    "\n",
    "from glob import glob\n",
    "from pathlib import Path"
   ]
  },
  {
   "cell_type": "code",
   "execution_count": 19,
   "metadata": {},
   "outputs": [
    {
     "name": "stderr",
     "output_type": "stream",
     "text": [
      "C:\\Users\\pcdea\\AppData\\Local\\Temp\\ipykernel_17228\\1261157794.py:2: DtypeWarning: Columns (2,5) have mixed types. Specify dtype option on import or set low_memory=False.\n",
      "  netflow = pd.read_csv(file)\n",
      "C:\\Users\\pcdea\\AppData\\Local\\Temp\\ipykernel_17228\\1261157794.py:2: DtypeWarning: Columns (2,5) have mixed types. Specify dtype option on import or set low_memory=False.\n",
      "  netflow = pd.read_csv(file)\n",
      "C:\\Users\\pcdea\\AppData\\Local\\Temp\\ipykernel_17228\\1261157794.py:2: DtypeWarning: Columns (2,5) have mixed types. Specify dtype option on import or set low_memory=False.\n",
      "  netflow = pd.read_csv(file)\n",
      "C:\\Users\\pcdea\\AppData\\Local\\Temp\\ipykernel_17228\\1261157794.py:2: DtypeWarning: Columns (2,5) have mixed types. Specify dtype option on import or set low_memory=False.\n",
      "  netflow = pd.read_csv(file)\n"
     ]
    }
   ],
   "source": [
    "for file in glob('pch/netflow/*.csv'):\n",
    "    netflow = pd.read_csv(file)\n",
    "    netflow.drop(netflow.tail(len(netflow) - netflow[netflow[\"ts\"] == \"Summary\"].index.values[0]).index, inplace = True)\n",
    "    netflow.to_csv(file, index=False)"
   ]
  }
 ],
 "metadata": {
  "kernelspec": {
   "display_name": "Python 3",
   "language": "python",
   "name": "python3"
  },
  "language_info": {
   "codemirror_mode": {
    "name": "ipython",
    "version": 3
   },
   "file_extension": ".py",
   "mimetype": "text/x-python",
   "name": "python",
   "nbconvert_exporter": "python",
   "pygments_lexer": "ipython3",
   "version": "3.10.9"
  },
  "orig_nbformat": 4
 },
 "nbformat": 4,
 "nbformat_minor": 2
}
