{
 "cells": [
  {
   "cell_type": "code",
   "execution_count": 9,
   "metadata": {},
   "outputs": [],
   "source": [
    "import pandas as pd\n",
    "import numpy as np\n",
    "import glob\n",
    "import pickle\n",
    "from rfcm import RFCM\n",
    "import itertools\n",
    "from multiprocessing import Process, Queue\n",
    "from sklearn.cluster import AgglomerativeClustering\n",
    "from scipy.cluster.hierarchy import dendrogram\n",
    "from matplotlib import pyplot as plt"
   ]
  },
  {
   "cell_type": "code",
   "execution_count": 1,
   "metadata": {},
   "outputs": [],
   "source": [
    "class TimeSeries:\n",
    "    def __init__(self, data: list):\n",
    "        self.data = np.array(data)\n",
    "    \n",
    "    def __add__(self, other):\n",
    "        if isinstance(other, TimeSeries):\n",
    "            return TimeSeries(self.data + other.data)\n",
    "        elif isinstance(other, int):\n",
    "            return TimeSeries(self.data + other)\n",
    "        elif isinstance(other, float):\n",
    "            return TimeSeries(self.data + other)\n",
    "        elif isinstance(other, np.ndarray):\n",
    "            return TimeSeries(self.data + other)\n",
    "        \n",
    "    def __radd__(self, other):\n",
    "        return self + other\n",
    "        \n",
    "    def __sub__(self, other):\n",
    "        if isinstance(other, TimeSeries):\n",
    "            return TimeSeries(self.data - other.data)\n",
    "        elif isinstance(other, int):\n",
    "            return TimeSeries(self.data - other)\n",
    "        elif isinstance(other, float):\n",
    "            return TimeSeries(self.data - other)\n",
    "        elif isinstance(other, np.ndarray):\n",
    "            return TimeSeries(self.data - other)\n",
    "    \n",
    "    def __rsub__(self, other):\n",
    "        return -self + other\n",
    "    \n",
    "    def __mul__(self, other):\n",
    "        if isinstance(other, TimeSeries):\n",
    "            return TimeSeries(self.data * other.data)\n",
    "        elif isinstance(other, int):\n",
    "            return TimeSeries(self.data * other)\n",
    "        elif isinstance(other, float):\n",
    "            return TimeSeries(self.data * other)\n",
    "        elif isinstance(other, np.ndarray):\n",
    "            return TimeSeries(self.data * other)\n",
    "    \n",
    "    def __rmul__(self, other):\n",
    "        return self * other\n",
    "        \n",
    "    def __truediv__(self, other):\n",
    "        if isinstance(other, TimeSeries):\n",
    "            return TimeSeries(self.data / other.data)\n",
    "        elif isinstance(other, int):\n",
    "            return TimeSeries(self.data / other)\n",
    "        elif isinstance(other, float):\n",
    "            return TimeSeries(self.data / other)\n",
    "        elif isinstance(other, np.ndarray):\n",
    "            return TimeSeries(self.data / other)\n",
    "    \n",
    "    def __floordiv__(self, other):\n",
    "        if isinstance(other, TimeSeries):\n",
    "            return TimeSeries(self.data // other.data)\n",
    "        elif isinstance(other, int):\n",
    "            return TimeSeries(self.data // other)\n",
    "        elif isinstance(other, float):\n",
    "            return TimeSeries(self.data // other)\n",
    "        elif isinstance(other, np.ndarray):\n",
    "            return TimeSeries(self.data // other)\n",
    "        \n",
    "    def __pow__(self, other):\n",
    "        if isinstance(other, TimeSeries):\n",
    "            return TimeSeries(self.data ** other.data)\n",
    "        elif isinstance(other, int):\n",
    "            return TimeSeries(self.data ** other)\n",
    "        elif isinstance(other, float):\n",
    "            return TimeSeries(self.data ** other)\n",
    "        elif isinstance(other, np.ndarray):\n",
    "            return TimeSeries(self.data ** other)\n",
    "    \n",
    "    def __neg__(self):\n",
    "        return TimeSeries(-self.data)\n",
    "    \n",
    "    def __repr__(self):\n",
    "        return str(self.data)\n",
    "    \n",
    "    def __len__(self):\n",
    "        return len(self.data)\n",
    "    \n",
    "    def append(self, other):\n",
    "        self.data = np.append(self.data, other)\n",
    "        return self\n",
    "    \n",
    "    def extend(self, other):\n",
    "        self.data = np.append(self.data, other.data)\n",
    "        return self\n",
    "    \n",
    "    def size(self):\n",
    "        return len(self.data)\n",
    "    \n",
    "    def get_data(self):\n",
    "        return self.data"
   ]
  },
  {
   "cell_type": "markdown",
   "metadata": {},
   "source": [
    "### 資料切分成不同時間段"
   ]
  },
  {
   "cell_type": "code",
   "execution_count": null,
   "metadata": {},
   "outputs": [],
   "source": [
    "# # Load the data\n",
    "# df = pd.read_csv('20210103.csv')\n",
    "# df = df[:df[df[\"ts\"] == \"Summary\"].index.item()]"
   ]
  },
  {
   "cell_type": "code",
   "execution_count": null,
   "metadata": {},
   "outputs": [],
   "source": [
    "# for i in range(15 * 60 // 15):\n",
    "#     temp = df[(df[\"ts\"] >= \"2021-01-03T13:{:02}:{:02}\".format(i * 15 // 60, i * 15 % 60)) & (df[\"ts\"] < \"2021-01-03T13:{:02}:{:02}\".format((i + 1) * 15 // 60, (i + 1) * 15 % 60))]\n",
    "#     temp.to_csv(\"20210103_{:02}_{:02}.csv\".format(i * 15 // 60, i * 15 % 60))"
   ]
  },
  {
   "cell_type": "markdown",
   "metadata": {},
   "source": [
    "### 製作個時間段特徵資料"
   ]
  },
  {
   "cell_type": "code",
   "execution_count": null,
   "metadata": {},
   "outputs": [],
   "source": [
    "# Load the data\n",
    "for filename in [\"20210103_12_15.csv\", \"20210103_12_30.csv\", \"20210103_12_45.csv\", \"20210103_13_00.csv\", \"20210103_13_15.csv\", \"20210103_13_30.csv\", \"20210103_13_45.csv\", \"20210103_14_00.csv\", \"20210103_14_15.csv\", \"20210103_14_30.csv\", \"20210103_14_45.csv\"]:\n",
    "# filename = \"data/20210103_00_00.csv\"\n",
    "    filename = \"data/\" + filename\n",
    "    df = pd.read_csv(filename)\n",
    "    print(\"Loaded {}\".format(filename))\n",
    "    features = pd.DataFrame(columns=[\"sa\", \"nSrcLink\", \"nDstLink\", \"nSrcPort\", \"nDstPort\", \"nInPkt\", \"nInByte\", \"nOutPkt\", \"nOutByte\"])\n",
    "    for sa in df[\"sa\"].unique():\n",
    "        feature = [sa]\n",
    "        feature.append(len(df[df[\"da\"] == sa][\"sa\"].unique()))\n",
    "        feature.append(len(df[df[\"sa\"] == sa][\"da\"].unique()))\n",
    "        feature.append(len(df[df[\"sa\"] == sa][\"sp\"].unique()))\n",
    "        feature.append(len(df[df[\"da\"] == sa][\"dp\"].unique()))\n",
    "        feature.append(df[df[\"sa\"] == sa][\"ipkt\"].sum())\n",
    "        feature.append(df[df[\"sa\"] == sa][\"ibyt\"].sum())\n",
    "        feature.append(df[df[\"sa\"] == sa][\"opkt\"].sum())\n",
    "        feature.append(df[df[\"sa\"] == sa][\"obyt\"].sum())\n",
    "        features.loc[len(features)] = feature\n",
    "    print(\"Features: {}\".format(features.columns))\n",
    "    features.to_csv(filename.replace(\"data\", \"features\"))\n",
    "    print(\"Saved {}\".format(filename.replace(\"data\", \"features\")))\n",
    "\n",
    "# nSrcLink\tNumber of source IP connected\n",
    "# nDstLink\tNumber of destination IP connected\n",
    "# nSrcPort\tNumber of port connected as source\n",
    "# nDstPort\tNumber of port connected as destination\n",
    "# nInPkt\tNumber of packets received\n",
    "# nInByte\tNumber of bytes received\n",
    "# nOutPkt\tNumber of packets sent\n",
    "# nOutByte\tNumber of bytes sent"
   ]
  },
  {
   "cell_type": "markdown",
   "metadata": {},
   "source": [
    "### 形成時間序列資料"
   ]
  },
  {
   "cell_type": "code",
   "execution_count": null,
   "metadata": {},
   "outputs": [],
   "source": [
    "merged = pd.DataFrame()\n",
    "features = [\"nSrcLink\", \"nDstLink\", \"nSrcPort\", \"nDstPort\", \"nInPkt\", \"nInByte\", \"nOutPkt\", \"nOutByte\"]\n",
    "counter = 0\n",
    "for filename in glob.glob(\"features/*.csv\"):\n",
    "    df = pd.read_csv(filename)\n",
    "    df.drop([\"Unnamed: 0\"], axis=1, inplace=True)\n",
    "    for feature in features:\n",
    "        df[feature] = df[feature].apply(lambda x: TimeSeries([x]))\n",
    "    if counter == 0:\n",
    "        counter += 1\n",
    "        merged = df\n",
    "    else:\n",
    "        counter += 1\n",
    "        for prefix in features:\n",
    "            temp = pd.merge(merged[[\"sa\", prefix]], df[[\"sa\", prefix]], on='sa', how='outer').fillna(TimeSeries([0]))\n",
    "            merged[prefix] = temp.apply(lambda x: x[prefix + \"_x\"].extend(x[prefix + \"_y\"]), axis=1)\n",
    "            merged[prefix] = merged[prefix].apply(lambda x: TimeSeries([0] * (counter - x.size())).extend(x))\n",
    "with open(\"features/merged.pickle\", \"wb\") as f:\n",
    "    pickle.dump(merged, f)\n",
    "    print(\"Saved features/merged.pickle\")"
   ]
  },
  {
   "cell_type": "markdown",
   "metadata": {},
   "source": [
    "### 總之先跑跑看 RFCM"
   ]
  },
  {
   "cell_type": "code",
   "execution_count": null,
   "metadata": {},
   "outputs": [],
   "source": [
    "features = [\"nSrcLink\", \"nDstLink\", \"nSrcPort\", \"nDstPort\", \"nInPkt\", \"nInByte\", \"nOutPkt\", \"nOutByte\"]\n",
    "# features = [\"nSrcLink\", \"nDstLink\", \"nPkt\", \"nByte\"]\n",
    "p = []\n",
    "q = Queue()\n",
    "max_job = 4\n",
    "for i in range(2, 21):\n",
    "    if len(p) < max_job:\n",
    "        p.append(Process(target=labeling, args=(i, q)))\n",
    "        p[-1].start()    \n",
    "    else:\n",
    "        p[0].join()\n",
    "        merged[f\"label_{i}\"] = q.get()\n",
    "        del p[0]\n",
    "for i in range(0, len(p)):\n",
    "    p[i].join()\n",
    "    merged[f\"label_{i + 2}\"] = q.get()\n",
    "    # try:\n",
    "    #     with open(\"features/merged.pickle\", \"rb\") as f:\n",
    "    #         merged = pickle.load(f)\n",
    "    #     # merged[\"nPkt\"] = merged[\"nInPkt\"] + merged[\"nOutPkt\"]\n",
    "    #     # merged[\"nByte\"] = merged[\"nInByte\"] + merged[\"nOutByte\"]\n",
    "    #     # for feature in itertools.combinations(features, 2):\n",
    "    #     model = RFCM(n_clusters=i)\n",
    "    #     model.fit(merged[features].to_numpy())\n",
    "    #     merged[f\"label_{i}\"] = model.labels_\n",
    "    # except Exception as e:\n",
    "    #     print(e)\n",
    "    #     continue\n",
    "with open(f\"features/labeled_all_merged.pickle\", \"wb\") as f:\n",
    "    pickle.dump(merged, f)\n",
    "    print(f\"Saved features/labeled_all_merged.pickle\")\n",
    "pure_label = pd.concat([merged[[\"sa\"]], merged.filter(regex=\"^label\", axis=1)], axis=1)\n",
    "pure_label.to_csv(f\"features/labeled_all_merged.csv\")\n",
    "print(f\"Saved features/labeled_all_merged.csv\")"
   ]
  },
  {
   "cell_type": "code",
   "execution_count": null,
   "metadata": {},
   "outputs": [],
   "source": [
    "def labeling(i, q):\n",
    "    try:\n",
    "        with open(\"features/merged.pickle\", \"rb\") as f:\n",
    "            merged = pickle.load(f)\n",
    "        model = RFCM(n_clusters=i)\n",
    "        model.fit(merged[features].to_numpy())\n",
    "        q.put(model.labels_)\n",
    "    except Exception as e:\n",
    "        print(e)\n",
    "\n",
    "features = [\"nSrcLink\", \"nDstLink\", \"nSrcPort\", \"nDstPort\", \"nInPkt\", \"nInByte\", \"nOutPkt\", \"nOutByte\"]\n",
    "# features = [\"nSrcLink\", \"nDstLink\", \"nPkt\", \"nByte\"]\n",
    "p = []\n",
    "q = Queue()\n",
    "max_job = 4\n",
    "with open(\"features/merged.pickle\", \"rb\") as f:\n",
    "    merged = pickle.load(f)\n",
    "for i in range(2, 21):\n",
    "    print(f\"Start labeling {i} clusters\")\n",
    "    try:\n",
    "        model = RFCM(n_clusters=i)\n",
    "        model.fit(merged[features].to_numpy())\n",
    "        merged[f\"label_{i}\"] = model.labels_\n",
    "    except Exception as e:\n",
    "        print(e)\n",
    "#     if len(p) < max_job:\n",
    "#         p.append(Process(target=labeling, args=(i, q)))\n",
    "#         p[-1].start()\n",
    "#         print(f\"Labeling {i} cluster\")\n",
    "#     else:\n",
    "#         p[0].join()\n",
    "#         merged[f\"label_{i - max_job}\"] = q.get()\n",
    "#         del p[0]\n",
    "#         print(f\"Labeling {i - max_job} cluster done\")\n",
    "# for i in range(0, len(p)):\n",
    "#     p[i].join()\n",
    "#     merged[f\"label_{21 - len(p) + i}\"] = q.get()\n",
    "#     print(f\"Labeling {21 - len(p) + i} cluster done\")\n",
    "    # try:\n",
    "    #     with open(\"features/merged.pickle\", \"rb\") as f:\n",
    "    #         merged = pickle.load(f)\n",
    "    #     # merged[\"nPkt\"] = merged[\"nInPkt\"] + merged[\"nOutPkt\"]\n",
    "    #     # merged[\"nByte\"] = merged[\"nInByte\"] + merged[\"nOutByte\"]\n",
    "    #     # for feature in itertools.combinations(features, 2):\n",
    "    #     model = RFCM(n_clusters=i)\n",
    "    #     model.fit(merged[features].to_numpy())\n",
    "    #     merged[f\"label_{i}\"] = model.labels_\n",
    "    # except Exception as e:\n",
    "    #     print(e)\n",
    "    #     continue\n",
    "with open(f\"features/labeled_all_merged.pickle\", \"wb\") as f:\n",
    "    pickle.dump(merged, f)\n",
    "    print(f\"Saved features/labeled_all_merged.pickle\")\n",
    "pure_label = pd.concat([merged[[\"sa\"]], merged.filter(regex=\"^label\", axis=1)], axis=1)\n",
    "pure_label.to_csv(f\"features/labeled_all_merged.csv\")\n",
    "print(f\"Saved features/labeled_all_merged.csv\")"
   ]
  },
  {
   "cell_type": "markdown",
   "metadata": {},
   "source": [
    "### 聚類分析一下"
   ]
  },
  {
   "cell_type": "code",
   "execution_count": 6,
   "metadata": {},
   "outputs": [],
   "source": [
    "df = pure_label.set_index(\"sa\")"
   ]
  },
  {
   "cell_type": "code",
   "execution_count": null,
   "metadata": {},
   "outputs": [],
   "source": [
    "def intersection(a, b):\n",
    "    return (a == b).sum() / a.size\n",
    "\n",
    "def plot_dendrogram(model, **kwargs):\n",
    "    # Create linkage matrix and then plot the dendrogram\n",
    "\n",
    "    # create the counts of samples under each node\n",
    "    counts = np.zeros(model.children_.shape[0])\n",
    "    n_samples = len(model.labels_)\n",
    "    for i, merge in enumerate(model.children_):\n",
    "        current_count = 0\n",
    "        for child_idx in merge:\n",
    "            if child_idx < n_samples:\n",
    "                current_count += 1  # leaf node\n",
    "            else:\n",
    "                current_count += counts[child_idx - n_samples]\n",
    "        counts[i] = current_count\n",
    "\n",
    "    linkage_matrix = np.column_stack(\n",
    "        [model.children_, model.distances_, counts]\n",
    "    ).astype(float)\n",
    "\n",
    "    # Plot the corresponding dendrogram\n",
    "    dendrogram(linkage_matrix, **kwargs)\n",
    "\n",
    "similarity_matrix = df.T.corr(method=intersection)\n",
    "model = AgglomerativeClustering(distance_threshold=0, n_clusters=None)\n",
    "model.fit(similarity_matrix)"
   ]
  },
  {
   "cell_type": "code",
   "execution_count": null,
   "metadata": {},
   "outputs": [
    {
     "data": {
      "image/png": "[encoded data removed]",
      "text/plain": [
       "<Figure size 432x288 with 1 Axes>"
      ]
     },
     "metadata": {},
     "output_type": "display_data"
    }
   ],
   "source": [
    "plt.title(\"Hierarchical Clustering Dendrogram\")\n",
    "# plot the top three levels of the dendrogram\n",
    "plot_dendrogram(model, truncate_mode=\"level\", p=2)\n",
    "plt.xlabel(\"Number of points in node (or index of point if no parenthesis).\")\n",
    "plt.show()"
   ]
  },
  {
   "cell_type": "markdown",
   "metadata": {},
   "source": [
    "### 試試不切割特徵分群"
   ]
  },
  {
   "cell_type": "code",
   "execution_count": 12,
   "metadata": {},
   "outputs": [
    {
     "name": "stdout",
     "output_type": "stream",
     "text": [
      "Labeling 2 clusters\n",
      "Labeling 3 clusters\n",
      "Labeling 4 clusters\n",
      "Labeling 5 clusters\n",
      "Labeling 6 clusters\n",
      "Labeling 7 clusters\n",
      "Labeling 8 clusters\n",
      "Labeling 9 clusters\n"
     ]
    }
   ],
   "source": [
    "for i in range(2, 10):\n",
    "    print(f\"Labeling {i} clusters\")\n",
    "    model = AgglomerativeClustering(distance_threshold=None, n_clusters=i)\n",
    "    model.fit(similarity_matrix)\n",
    "    pure_label[f\"similarity_{i}\"] = model.labels_\n",
    "pure_label.to_csv(\"features/labeled_all_merged_similarity.csv\")    "
   ]
  },
  {
   "cell_type": "markdown",
   "metadata": {},
   "source": [
    "### 觀察分群結果"
   ]
  },
  {
   "cell_type": "code",
   "execution_count": 13,
   "metadata": {},
   "outputs": [],
   "source": [
    "similarity_label = pure_label.set_index(\"sa\").filter(regex=\"^similarity\", axis=1)"
   ]
  },
  {
   "cell_type": "code",
   "execution_count": 17,
   "metadata": {},
   "outputs": [
    {
     "data": {
      "text/plain": [
       "similarity_2\n",
       "1               11958\n",
       "0                 874\n",
       "dtype: int64"
      ]
     },
     "execution_count": 17,
     "metadata": {},
     "output_type": "execute_result"
    }
   ],
   "source": [
    "similarity_label[[\"similarity_2\"]].value_counts()"
   ]
  },
  {
   "cell_type": "code",
   "execution_count": 18,
   "metadata": {},
   "outputs": [
    {
     "data": {
      "text/plain": [
       "similarity_2  similarity_3\n",
       "1             0               11958\n",
       "0             1                 826\n",
       "              2                  48\n",
       "dtype: int64"
      ]
     },
     "execution_count": 18,
     "metadata": {},
     "output_type": "execute_result"
    }
   ],
   "source": [
    "similarity_label[[\"similarity_2\", \"similarity_3\"]].value_counts()"
   ]
  },
  {
   "cell_type": "code",
   "execution_count": 16,
   "metadata": {},
   "outputs": [
    {
     "data": {
      "text/plain": [
       "similarity_2  similarity_3  similarity_4\n",
       "1             0             1               11926\n",
       "0             1             0                 826\n",
       "              2             2                  48\n",
       "1             0             3                  32\n",
       "dtype: int64"
      ]
     },
     "execution_count": 16,
     "metadata": {},
     "output_type": "execute_result"
    }
   ],
   "source": [
    "similarity_label[[\"similarity_2\", \"similarity_3\", \"similarity_4\"]].value_counts()"
   ]
  },
  {
   "cell_type": "code",
   "execution_count": 19,
   "metadata": {},
   "outputs": [
    {
     "data": {
      "text/plain": [
       "similarity_2  similarity_3  similarity_4  similarity_5\n",
       "1             0             1             0               11926\n",
       "0             1             0             4                 727\n",
       "                                          1                  99\n",
       "              2             2             2                  48\n",
       "1             0             3             3                  32\n",
       "dtype: int64"
      ]
     },
     "execution_count": 19,
     "metadata": {},
     "output_type": "execute_result"
    }
   ],
   "source": [
    "similarity_label[[\"similarity_2\", \"similarity_3\", \"similarity_4\", \"similarity_5\"]].value_counts()"
   ]
  },
  {
   "cell_type": "code",
   "execution_count": 20,
   "metadata": {},
   "outputs": [
    {
     "data": {
      "text/plain": [
       "similarity_2  similarity_3  similarity_4  similarity_5  similarity_6\n",
       "1             0             1             0             5               11905\n",
       "0             1             0             4             4                 727\n",
       "                                          1             1                  99\n",
       "              2             2             2             0                  48\n",
       "1             0             3             3             3                  32\n",
       "                            1             0             2                  21\n",
       "dtype: int64"
      ]
     },
     "execution_count": 20,
     "metadata": {},
     "output_type": "execute_result"
    }
   ],
   "source": [
    "similarity_label[[\"similarity_2\", \"similarity_3\", \"similarity_4\", \"similarity_5\", \"similarity_6\"]].value_counts()"
   ]
  },
  {
   "cell_type": "code",
   "execution_count": 21,
   "metadata": {},
   "outputs": [
    {
     "data": {
      "text/plain": [
       "similarity_2  similarity_3  similarity_4  similarity_5  similarity_6  similarity_7\n",
       "1             0             1             0             5             5               11905\n",
       "0             1             0             4             4             4                 727\n",
       "                                          1             1             0                  99\n",
       "              2             2             2             0             3                  43\n",
       "1             0             3             3             3             1                  32\n",
       "                            1             0             2             2                  21\n",
       "0             2             2             2             0             6                   5\n",
       "dtype: int64"
      ]
     },
     "execution_count": 21,
     "metadata": {},
     "output_type": "execute_result"
    }
   ],
   "source": [
    "similarity_label[[\"similarity_2\", \"similarity_3\", \"similarity_4\", \"similarity_5\", \"similarity_6\", \"similarity_7\"]].value_counts()"
   ]
  },
  {
   "cell_type": "code",
   "execution_count": 22,
   "metadata": {},
   "outputs": [
    {
     "data": {
      "text/plain": [
       "similarity_2  similarity_3  similarity_4  similarity_5  similarity_6  similarity_7  similarity_8\n",
       "1             0             1             0             5             5             5               11905\n",
       "0             1             0             4             4             4             4                 727\n",
       "                                          1             1             0             7                  81\n",
       "              2             2             2             0             3             3                  43\n",
       "1             0             3             3             3             1             0                  32\n",
       "                            1             0             2             2             2                  21\n",
       "0             1             0             1             1             0             1                  18\n",
       "              2             2             2             0             6             6                   5\n",
       "dtype: int64"
      ]
     },
     "execution_count": 22,
     "metadata": {},
     "output_type": "execute_result"
    }
   ],
   "source": [
    "similarity_label[[\"similarity_2\", \"similarity_3\", \"similarity_4\", \"similarity_5\", \"similarity_6\", \"similarity_7\", \"similarity_8\"]].value_counts()"
   ]
  },
  {
   "cell_type": "code",
   "execution_count": 23,
   "metadata": {},
   "outputs": [
    {
     "data": {
      "text/plain": [
       "similarity_2  similarity_3  similarity_4  similarity_5  similarity_6  similarity_7  similarity_8  similarity_9\n",
       "1             0             1             0             5             5             5             5               11905\n",
       "0             1             0             4             4             4             4             4                 727\n",
       "                                          1             1             0             7             7                  81\n",
       "              2             2             2             0             3             3             3                  43\n",
       "1             0             1             0             2             2             2             0                  21\n",
       "                            3             3             3             1             0             2                  20\n",
       "0             1             0             1             1             0             1             1                  18\n",
       "1             0             3             3             3             1             0             8                  12\n",
       "0             2             2             2             0             6             6             6                   5\n",
       "dtype: int64"
      ]
     },
     "execution_count": 23,
     "metadata": {},
     "output_type": "execute_result"
    }
   ],
   "source": [
    "similarity_label[[\"similarity_2\", \"similarity_3\", \"similarity_4\", \"similarity_5\", \"similarity_6\", \"similarity_7\", \"similarity_8\", \"similarity_9\"]].value_counts()"
   ]
  },
  {
   "cell_type": "code",
   "execution_count": 25,
   "metadata": {},
   "outputs": [
    {
     "data": {
      "text/html": [
       "<div>\n",
       "<style scoped>\n",
       "    .dataframe tbody tr th:only-of-type {\n",
       "        vertical-align: middle;\n",
       "    }\n",
       "\n",
       "    .dataframe tbody tr th {\n",
       "        vertical-align: top;\n",
       "    }\n",
       "\n",
       "    .dataframe thead th {\n",
       "        text-align: right;\n",
       "    }\n",
       "</style>\n",
       "<table border=\"1\" class=\"dataframe\">\n",
       "  <thead>\n",
       "    <tr style=\"text-align: right;\">\n",
       "      <th></th>\n",
       "      <th>similarity_2</th>\n",
       "      <th>similarity_3</th>\n",
       "      <th>similarity_4</th>\n",
       "      <th>similarity_5</th>\n",
       "      <th>similarity_6</th>\n",
       "      <th>similarity_7</th>\n",
       "      <th>similarity_8</th>\n",
       "      <th>similarity_9</th>\n",
       "    </tr>\n",
       "    <tr>\n",
       "      <th>sa</th>\n",
       "      <th></th>\n",
       "      <th></th>\n",
       "      <th></th>\n",
       "      <th></th>\n",
       "      <th></th>\n",
       "      <th></th>\n",
       "      <th></th>\n",
       "      <th></th>\n",
       "    </tr>\n",
       "  </thead>\n",
       "  <tbody>\n",
       "    <tr>\n",
       "      <th>117.130.35.63</th>\n",
       "      <td>0</td>\n",
       "      <td>2</td>\n",
       "      <td>2</td>\n",
       "      <td>2</td>\n",
       "      <td>0</td>\n",
       "      <td>6</td>\n",
       "      <td>6</td>\n",
       "      <td>6</td>\n",
       "    </tr>\n",
       "    <tr>\n",
       "      <th>104.222.115.226</th>\n",
       "      <td>0</td>\n",
       "      <td>2</td>\n",
       "      <td>2</td>\n",
       "      <td>2</td>\n",
       "      <td>0</td>\n",
       "      <td>6</td>\n",
       "      <td>6</td>\n",
       "      <td>6</td>\n",
       "    </tr>\n",
       "    <tr>\n",
       "      <th>165.252.83.4</th>\n",
       "      <td>0</td>\n",
       "      <td>2</td>\n",
       "      <td>2</td>\n",
       "      <td>2</td>\n",
       "      <td>0</td>\n",
       "      <td>6</td>\n",
       "      <td>6</td>\n",
       "      <td>6</td>\n",
       "    </tr>\n",
       "    <tr>\n",
       "      <th>2001:7a10:3306:f5d:3a6c:907c:7f71:914b</th>\n",
       "      <td>0</td>\n",
       "      <td>2</td>\n",
       "      <td>2</td>\n",
       "      <td>2</td>\n",
       "      <td>0</td>\n",
       "      <td>6</td>\n",
       "      <td>6</td>\n",
       "      <td>6</td>\n",
       "    </tr>\n",
       "    <tr>\n",
       "      <th>203.178.144.169</th>\n",
       "      <td>0</td>\n",
       "      <td>2</td>\n",
       "      <td>2</td>\n",
       "      <td>2</td>\n",
       "      <td>0</td>\n",
       "      <td>6</td>\n",
       "      <td>6</td>\n",
       "      <td>6</td>\n",
       "    </tr>\n",
       "  </tbody>\n",
       "</table>\n",
       "</div>"
      ],
      "text/plain": [
       "                                        similarity_2  similarity_3  \\\n",
       "sa                                                                   \n",
       "117.130.35.63                                      0             2   \n",
       "104.222.115.226                                    0             2   \n",
       "165.252.83.4                                       0             2   \n",
       "2001:7a10:3306:f5d:3a6c:907c:7f71:914b             0             2   \n",
       "203.178.144.169                                    0             2   \n",
       "\n",
       "                                        similarity_4  similarity_5  \\\n",
       "sa                                                                   \n",
       "117.130.35.63                                      2             2   \n",
       "104.222.115.226                                    2             2   \n",
       "165.252.83.4                                       2             2   \n",
       "2001:7a10:3306:f5d:3a6c:907c:7f71:914b             2             2   \n",
       "203.178.144.169                                    2             2   \n",
       "\n",
       "                                        similarity_6  similarity_7  \\\n",
       "sa                                                                   \n",
       "117.130.35.63                                      0             6   \n",
       "104.222.115.226                                    0             6   \n",
       "165.252.83.4                                       0             6   \n",
       "2001:7a10:3306:f5d:3a6c:907c:7f71:914b             0             6   \n",
       "203.178.144.169                                    0             6   \n",
       "\n",
       "                                        similarity_8  similarity_9  \n",
       "sa                                                                  \n",
       "117.130.35.63                                      6             6  \n",
       "104.222.115.226                                    6             6  \n",
       "165.252.83.4                                       6             6  \n",
       "2001:7a10:3306:f5d:3a6c:907c:7f71:914b             6             6  \n",
       "203.178.144.169                                    6             6  "
      ]
     },
     "execution_count": 25,
     "metadata": {},
     "output_type": "execute_result"
    }
   ],
   "source": [
    "similarity_label.query(\"similarity_2 == 0 and similarity_3 == 2 and similarity_4 == 2 and similarity_5 == 2 and similarity_6 == 0 and similarity_7 == 6 and similarity_8 == 6 and similarity_9 == 6\")"
   ]
  },
  {
   "cell_type": "code",
   "execution_count": null,
   "metadata": {},
   "outputs": [],
   "source": [
    "similarity_label = similarity_label.reset_index()"
   ]
  },
  {
   "cell_type": "code",
   "execution_count": 71,
   "metadata": {},
   "outputs": [],
   "source": [
    "target = pd.read_csv(\"20210103_anomalous_suspicious.csv\")"
   ]
  },
  {
   "cell_type": "code",
   "execution_count": 72,
   "metadata": {},
   "outputs": [],
   "source": [
    "only_anomalous = target[target[\"nbDetectors\"] == \"anomalous\"]"
   ]
  },
  {
   "cell_type": "code",
   "execution_count": 90,
   "metadata": {},
   "outputs": [
    {
     "data": {
      "text/plain": [
       "1    11929\n",
       "4      847\n",
       "0       55\n",
       "2        1\n",
       "Name: label_5, dtype: int64"
      ]
     },
     "execution_count": 90,
     "metadata": {},
     "output_type": "execute_result"
    }
   ],
   "source": [
    "pure_label[\"label_5\"].value_counts()"
   ]
  },
  {
   "cell_type": "code",
   "execution_count": 76,
   "metadata": {},
   "outputs": [
    {
     "data": {
      "text/plain": [
       "label_2  label_3  label_4  label_5  label_6  label_7  label_8  label_9  label_10  label_11  label_12  label_13  label_14  label_15  label_16  label_17  label_18  label_19  label_20\n",
       "0        0        0        1        0        6        0        0        8         0         0         4         3         0         0         1         15        10        7           25\n",
       "                           0        0        0        0        0        0         0         0         0         0         0         0         0         0         0         0           11\n",
       "1        0        0        4        0        2        7        0        5         10        0         3         0         0         0         3         2         2         15           1\n",
       "dtype: int64"
      ]
     },
     "execution_count": 76,
     "metadata": {},
     "output_type": "execute_result"
    }
   ],
   "source": [
    "pure_label[pure_label[\"sa\"].isin(only_anomalous[\"srcIP\"])].filter(regex=\"^label\", axis=1).value_counts()"
   ]
  },
  {
   "cell_type": "code",
   "execution_count": 34,
   "metadata": {},
   "outputs": [
    {
     "data": {
      "text/html": [
       "<div>\n",
       "<style scoped>\n",
       "    .dataframe tbody tr th:only-of-type {\n",
       "        vertical-align: middle;\n",
       "    }\n",
       "\n",
       "    .dataframe tbody tr th {\n",
       "        vertical-align: top;\n",
       "    }\n",
       "\n",
       "    .dataframe thead th {\n",
       "        text-align: right;\n",
       "    }\n",
       "</style>\n",
       "<table border=\"1\" class=\"dataframe\">\n",
       "  <thead>\n",
       "    <tr style=\"text-align: right;\">\n",
       "      <th></th>\n",
       "      <th>index</th>\n",
       "      <th>sa</th>\n",
       "      <th>similarity_2</th>\n",
       "      <th>similarity_3</th>\n",
       "      <th>similarity_4</th>\n",
       "      <th>similarity_5</th>\n",
       "      <th>similarity_6</th>\n",
       "      <th>similarity_7</th>\n",
       "      <th>similarity_8</th>\n",
       "      <th>similarity_9</th>\n",
       "    </tr>\n",
       "  </thead>\n",
       "  <tbody>\n",
       "    <tr>\n",
       "      <th>2</th>\n",
       "      <td>2</td>\n",
       "      <td>203.178.159.82</td>\n",
       "      <td>0</td>\n",
       "      <td>2</td>\n",
       "      <td>2</td>\n",
       "      <td>2</td>\n",
       "      <td>0</td>\n",
       "      <td>3</td>\n",
       "      <td>3</td>\n",
       "      <td>3</td>\n",
       "    </tr>\n",
       "    <tr>\n",
       "      <th>19</th>\n",
       "      <td>19</td>\n",
       "      <td>2001:7238:3c7e:360c:203d:fec0:103b:e2fd</td>\n",
       "      <td>0</td>\n",
       "      <td>2</td>\n",
       "      <td>2</td>\n",
       "      <td>2</td>\n",
       "      <td>0</td>\n",
       "      <td>3</td>\n",
       "      <td>3</td>\n",
       "      <td>3</td>\n",
       "    </tr>\n",
       "    <tr>\n",
       "      <th>36</th>\n",
       "      <td>36</td>\n",
       "      <td>163.218.200.195</td>\n",
       "      <td>0</td>\n",
       "      <td>2</td>\n",
       "      <td>2</td>\n",
       "      <td>2</td>\n",
       "      <td>0</td>\n",
       "      <td>3</td>\n",
       "      <td>3</td>\n",
       "      <td>3</td>\n",
       "    </tr>\n",
       "    <tr>\n",
       "      <th>43</th>\n",
       "      <td>43</td>\n",
       "      <td>203.178.159.86</td>\n",
       "      <td>0</td>\n",
       "      <td>2</td>\n",
       "      <td>2</td>\n",
       "      <td>2</td>\n",
       "      <td>0</td>\n",
       "      <td>3</td>\n",
       "      <td>3</td>\n",
       "      <td>3</td>\n",
       "    </tr>\n",
       "    <tr>\n",
       "      <th>47</th>\n",
       "      <td>47</td>\n",
       "      <td>203.178.149.157</td>\n",
       "      <td>0</td>\n",
       "      <td>2</td>\n",
       "      <td>2</td>\n",
       "      <td>2</td>\n",
       "      <td>0</td>\n",
       "      <td>3</td>\n",
       "      <td>3</td>\n",
       "      <td>3</td>\n",
       "    </tr>\n",
       "    <tr>\n",
       "      <th>147</th>\n",
       "      <td>147</td>\n",
       "      <td>133.83.165.71</td>\n",
       "      <td>0</td>\n",
       "      <td>2</td>\n",
       "      <td>2</td>\n",
       "      <td>2</td>\n",
       "      <td>0</td>\n",
       "      <td>3</td>\n",
       "      <td>3</td>\n",
       "      <td>3</td>\n",
       "    </tr>\n",
       "    <tr>\n",
       "      <th>214</th>\n",
       "      <td>214</td>\n",
       "      <td>133.83.164.151</td>\n",
       "      <td>0</td>\n",
       "      <td>2</td>\n",
       "      <td>2</td>\n",
       "      <td>2</td>\n",
       "      <td>0</td>\n",
       "      <td>3</td>\n",
       "      <td>3</td>\n",
       "      <td>3</td>\n",
       "    </tr>\n",
       "    <tr>\n",
       "      <th>277</th>\n",
       "      <td>277</td>\n",
       "      <td>117.229.76.204</td>\n",
       "      <td>0</td>\n",
       "      <td>2</td>\n",
       "      <td>2</td>\n",
       "      <td>2</td>\n",
       "      <td>0</td>\n",
       "      <td>3</td>\n",
       "      <td>3</td>\n",
       "      <td>3</td>\n",
       "    </tr>\n",
       "    <tr>\n",
       "      <th>309</th>\n",
       "      <td>309</td>\n",
       "      <td>2001:723d:c076:f04:623c:3100:9fd:dc5c</td>\n",
       "      <td>0</td>\n",
       "      <td>2</td>\n",
       "      <td>2</td>\n",
       "      <td>2</td>\n",
       "      <td>0</td>\n",
       "      <td>3</td>\n",
       "      <td>3</td>\n",
       "      <td>3</td>\n",
       "    </tr>\n",
       "    <tr>\n",
       "      <th>327</th>\n",
       "      <td>327</td>\n",
       "      <td>23.144.138.227</td>\n",
       "      <td>0</td>\n",
       "      <td>2</td>\n",
       "      <td>2</td>\n",
       "      <td>2</td>\n",
       "      <td>0</td>\n",
       "      <td>3</td>\n",
       "      <td>3</td>\n",
       "      <td>3</td>\n",
       "    </tr>\n",
       "    <tr>\n",
       "      <th>408</th>\n",
       "      <td>408</td>\n",
       "      <td>203.178.154.61</td>\n",
       "      <td>0</td>\n",
       "      <td>2</td>\n",
       "      <td>2</td>\n",
       "      <td>2</td>\n",
       "      <td>0</td>\n",
       "      <td>3</td>\n",
       "      <td>3</td>\n",
       "      <td>3</td>\n",
       "    </tr>\n",
       "    <tr>\n",
       "      <th>434</th>\n",
       "      <td>434</td>\n",
       "      <td>2001:7238:3c6d:f4c3:bdff:e3f:cffd:e053</td>\n",
       "      <td>0</td>\n",
       "      <td>2</td>\n",
       "      <td>2</td>\n",
       "      <td>2</td>\n",
       "      <td>0</td>\n",
       "      <td>3</td>\n",
       "      <td>3</td>\n",
       "      <td>3</td>\n",
       "    </tr>\n",
       "    <tr>\n",
       "      <th>570</th>\n",
       "      <td>570</td>\n",
       "      <td>23.15.67.162</td>\n",
       "      <td>0</td>\n",
       "      <td>2</td>\n",
       "      <td>2</td>\n",
       "      <td>2</td>\n",
       "      <td>0</td>\n",
       "      <td>3</td>\n",
       "      <td>3</td>\n",
       "      <td>3</td>\n",
       "    </tr>\n",
       "    <tr>\n",
       "      <th>636</th>\n",
       "      <td>636</td>\n",
       "      <td>163.218.193.161</td>\n",
       "      <td>0</td>\n",
       "      <td>2</td>\n",
       "      <td>2</td>\n",
       "      <td>2</td>\n",
       "      <td>0</td>\n",
       "      <td>3</td>\n",
       "      <td>3</td>\n",
       "      <td>3</td>\n",
       "    </tr>\n",
       "    <tr>\n",
       "      <th>646</th>\n",
       "      <td>646</td>\n",
       "      <td>192.229.231.112</td>\n",
       "      <td>0</td>\n",
       "      <td>2</td>\n",
       "      <td>2</td>\n",
       "      <td>2</td>\n",
       "      <td>0</td>\n",
       "      <td>3</td>\n",
       "      <td>3</td>\n",
       "      <td>3</td>\n",
       "    </tr>\n",
       "    <tr>\n",
       "      <th>1286</th>\n",
       "      <td>1286</td>\n",
       "      <td>104.222.119.211</td>\n",
       "      <td>0</td>\n",
       "      <td>2</td>\n",
       "      <td>2</td>\n",
       "      <td>2</td>\n",
       "      <td>0</td>\n",
       "      <td>3</td>\n",
       "      <td>3</td>\n",
       "      <td>3</td>\n",
       "    </tr>\n",
       "    <tr>\n",
       "      <th>1289</th>\n",
       "      <td>1289</td>\n",
       "      <td>203.178.156.91</td>\n",
       "      <td>0</td>\n",
       "      <td>2</td>\n",
       "      <td>2</td>\n",
       "      <td>2</td>\n",
       "      <td>0</td>\n",
       "      <td>3</td>\n",
       "      <td>3</td>\n",
       "      <td>3</td>\n",
       "    </tr>\n",
       "    <tr>\n",
       "      <th>1355</th>\n",
       "      <td>1355</td>\n",
       "      <td>23.15.44.45</td>\n",
       "      <td>0</td>\n",
       "      <td>2</td>\n",
       "      <td>2</td>\n",
       "      <td>2</td>\n",
       "      <td>0</td>\n",
       "      <td>3</td>\n",
       "      <td>3</td>\n",
       "      <td>3</td>\n",
       "    </tr>\n",
       "    <tr>\n",
       "      <th>1498</th>\n",
       "      <td>1498</td>\n",
       "      <td>133.83.143.37</td>\n",
       "      <td>0</td>\n",
       "      <td>2</td>\n",
       "      <td>2</td>\n",
       "      <td>2</td>\n",
       "      <td>0</td>\n",
       "      <td>3</td>\n",
       "      <td>3</td>\n",
       "      <td>3</td>\n",
       "    </tr>\n",
       "    <tr>\n",
       "      <th>1800</th>\n",
       "      <td>1800</td>\n",
       "      <td>163.218.131.96</td>\n",
       "      <td>0</td>\n",
       "      <td>2</td>\n",
       "      <td>2</td>\n",
       "      <td>2</td>\n",
       "      <td>0</td>\n",
       "      <td>3</td>\n",
       "      <td>3</td>\n",
       "      <td>3</td>\n",
       "    </tr>\n",
       "    <tr>\n",
       "      <th>1820</th>\n",
       "      <td>1820</td>\n",
       "      <td>203.178.159.146</td>\n",
       "      <td>0</td>\n",
       "      <td>2</td>\n",
       "      <td>2</td>\n",
       "      <td>2</td>\n",
       "      <td>0</td>\n",
       "      <td>3</td>\n",
       "      <td>3</td>\n",
       "      <td>3</td>\n",
       "    </tr>\n",
       "    <tr>\n",
       "      <th>2177</th>\n",
       "      <td>2177</td>\n",
       "      <td>133.83.79.131</td>\n",
       "      <td>0</td>\n",
       "      <td>2</td>\n",
       "      <td>2</td>\n",
       "      <td>2</td>\n",
       "      <td>0</td>\n",
       "      <td>3</td>\n",
       "      <td>3</td>\n",
       "      <td>3</td>\n",
       "    </tr>\n",
       "    <tr>\n",
       "      <th>2178</th>\n",
       "      <td>2178</td>\n",
       "      <td>203.178.159.28</td>\n",
       "      <td>0</td>\n",
       "      <td>2</td>\n",
       "      <td>2</td>\n",
       "      <td>2</td>\n",
       "      <td>0</td>\n",
       "      <td>3</td>\n",
       "      <td>3</td>\n",
       "      <td>3</td>\n",
       "    </tr>\n",
       "    <tr>\n",
       "      <th>2280</th>\n",
       "      <td>2280</td>\n",
       "      <td>198.19.247.54</td>\n",
       "      <td>0</td>\n",
       "      <td>2</td>\n",
       "      <td>2</td>\n",
       "      <td>2</td>\n",
       "      <td>0</td>\n",
       "      <td>3</td>\n",
       "      <td>3</td>\n",
       "      <td>3</td>\n",
       "    </tr>\n",
       "    <tr>\n",
       "      <th>2533</th>\n",
       "      <td>2533</td>\n",
       "      <td>192.229.226.150</td>\n",
       "      <td>0</td>\n",
       "      <td>2</td>\n",
       "      <td>2</td>\n",
       "      <td>2</td>\n",
       "      <td>0</td>\n",
       "      <td>3</td>\n",
       "      <td>3</td>\n",
       "      <td>3</td>\n",
       "    </tr>\n",
       "    <tr>\n",
       "      <th>2778</th>\n",
       "      <td>2778</td>\n",
       "      <td>117.173.24.143</td>\n",
       "      <td>0</td>\n",
       "      <td>2</td>\n",
       "      <td>2</td>\n",
       "      <td>2</td>\n",
       "      <td>0</td>\n",
       "      <td>3</td>\n",
       "      <td>3</td>\n",
       "      <td>3</td>\n",
       "    </tr>\n",
       "    <tr>\n",
       "      <th>3220</th>\n",
       "      <td>3220</td>\n",
       "      <td>2001:7a10:33dc:b00:1002:fefe:11f8:23fc</td>\n",
       "      <td>0</td>\n",
       "      <td>2</td>\n",
       "      <td>2</td>\n",
       "      <td>2</td>\n",
       "      <td>0</td>\n",
       "      <td>3</td>\n",
       "      <td>3</td>\n",
       "      <td>3</td>\n",
       "    </tr>\n",
       "    <tr>\n",
       "      <th>3403</th>\n",
       "      <td>3403</td>\n",
       "      <td>163.218.133.233</td>\n",
       "      <td>0</td>\n",
       "      <td>2</td>\n",
       "      <td>2</td>\n",
       "      <td>2</td>\n",
       "      <td>0</td>\n",
       "      <td>3</td>\n",
       "      <td>3</td>\n",
       "      <td>3</td>\n",
       "    </tr>\n",
       "    <tr>\n",
       "      <th>3507</th>\n",
       "      <td>3507</td>\n",
       "      <td>54.154.181.57</td>\n",
       "      <td>0</td>\n",
       "      <td>2</td>\n",
       "      <td>2</td>\n",
       "      <td>2</td>\n",
       "      <td>0</td>\n",
       "      <td>3</td>\n",
       "      <td>3</td>\n",
       "      <td>3</td>\n",
       "    </tr>\n",
       "    <tr>\n",
       "      <th>5516</th>\n",
       "      <td>5516</td>\n",
       "      <td>133.83.122.176</td>\n",
       "      <td>0</td>\n",
       "      <td>2</td>\n",
       "      <td>2</td>\n",
       "      <td>2</td>\n",
       "      <td>0</td>\n",
       "      <td>3</td>\n",
       "      <td>3</td>\n",
       "      <td>3</td>\n",
       "    </tr>\n",
       "    <tr>\n",
       "      <th>5671</th>\n",
       "      <td>5671</td>\n",
       "      <td>202.228.89.150</td>\n",
       "      <td>0</td>\n",
       "      <td>2</td>\n",
       "      <td>2</td>\n",
       "      <td>2</td>\n",
       "      <td>0</td>\n",
       "      <td>3</td>\n",
       "      <td>3</td>\n",
       "      <td>3</td>\n",
       "    </tr>\n",
       "    <tr>\n",
       "      <th>6182</th>\n",
       "      <td>6182</td>\n",
       "      <td>133.83.119.205</td>\n",
       "      <td>0</td>\n",
       "      <td>2</td>\n",
       "      <td>2</td>\n",
       "      <td>2</td>\n",
       "      <td>0</td>\n",
       "      <td>3</td>\n",
       "      <td>3</td>\n",
       "      <td>3</td>\n",
       "    </tr>\n",
       "    <tr>\n",
       "      <th>7222</th>\n",
       "      <td>7222</td>\n",
       "      <td>192.229.226.144</td>\n",
       "      <td>0</td>\n",
       "      <td>2</td>\n",
       "      <td>2</td>\n",
       "      <td>2</td>\n",
       "      <td>0</td>\n",
       "      <td>3</td>\n",
       "      <td>3</td>\n",
       "      <td>3</td>\n",
       "    </tr>\n",
       "    <tr>\n",
       "      <th>7563</th>\n",
       "      <td>7563</td>\n",
       "      <td>23.255.42.79</td>\n",
       "      <td>0</td>\n",
       "      <td>2</td>\n",
       "      <td>2</td>\n",
       "      <td>2</td>\n",
       "      <td>0</td>\n",
       "      <td>3</td>\n",
       "      <td>3</td>\n",
       "      <td>3</td>\n",
       "    </tr>\n",
       "    <tr>\n",
       "      <th>8679</th>\n",
       "      <td>8679</td>\n",
       "      <td>23.255.42.204</td>\n",
       "      <td>0</td>\n",
       "      <td>2</td>\n",
       "      <td>2</td>\n",
       "      <td>2</td>\n",
       "      <td>0</td>\n",
       "      <td>3</td>\n",
       "      <td>3</td>\n",
       "      <td>3</td>\n",
       "    </tr>\n",
       "    <tr>\n",
       "      <th>8981</th>\n",
       "      <td>8981</td>\n",
       "      <td>117.173.24.106</td>\n",
       "      <td>0</td>\n",
       "      <td>2</td>\n",
       "      <td>2</td>\n",
       "      <td>2</td>\n",
       "      <td>0</td>\n",
       "      <td>3</td>\n",
       "      <td>3</td>\n",
       "      <td>3</td>\n",
       "    </tr>\n",
       "    <tr>\n",
       "      <th>10979</th>\n",
       "      <td>10979</td>\n",
       "      <td>99.36.159.201</td>\n",
       "      <td>0</td>\n",
       "      <td>2</td>\n",
       "      <td>2</td>\n",
       "      <td>2</td>\n",
       "      <td>0</td>\n",
       "      <td>3</td>\n",
       "      <td>3</td>\n",
       "      <td>3</td>\n",
       "    </tr>\n",
       "    <tr>\n",
       "      <th>11850</th>\n",
       "      <td>11850</td>\n",
       "      <td>2001:7a10:33a5:c63e:53c1:f140:21c7:c3b9</td>\n",
       "      <td>0</td>\n",
       "      <td>2</td>\n",
       "      <td>2</td>\n",
       "      <td>2</td>\n",
       "      <td>0</td>\n",
       "      <td>3</td>\n",
       "      <td>3</td>\n",
       "      <td>3</td>\n",
       "    </tr>\n",
       "    <tr>\n",
       "      <th>12785</th>\n",
       "      <td>12785</td>\n",
       "      <td>203.178.149.55</td>\n",
       "      <td>0</td>\n",
       "      <td>2</td>\n",
       "      <td>2</td>\n",
       "      <td>2</td>\n",
       "      <td>0</td>\n",
       "      <td>3</td>\n",
       "      <td>3</td>\n",
       "      <td>3</td>\n",
       "    </tr>\n",
       "    <tr>\n",
       "      <th>12786</th>\n",
       "      <td>12786</td>\n",
       "      <td>204.167.201.110</td>\n",
       "      <td>0</td>\n",
       "      <td>2</td>\n",
       "      <td>2</td>\n",
       "      <td>2</td>\n",
       "      <td>0</td>\n",
       "      <td>3</td>\n",
       "      <td>3</td>\n",
       "      <td>3</td>\n",
       "    </tr>\n",
       "    <tr>\n",
       "      <th>12803</th>\n",
       "      <td>12803</td>\n",
       "      <td>206.215.228.128</td>\n",
       "      <td>0</td>\n",
       "      <td>2</td>\n",
       "      <td>2</td>\n",
       "      <td>2</td>\n",
       "      <td>0</td>\n",
       "      <td>3</td>\n",
       "      <td>3</td>\n",
       "      <td>3</td>\n",
       "    </tr>\n",
       "    <tr>\n",
       "      <th>12806</th>\n",
       "      <td>12806</td>\n",
       "      <td>62.210.249.204</td>\n",
       "      <td>0</td>\n",
       "      <td>2</td>\n",
       "      <td>2</td>\n",
       "      <td>2</td>\n",
       "      <td>0</td>\n",
       "      <td>3</td>\n",
       "      <td>3</td>\n",
       "      <td>3</td>\n",
       "    </tr>\n",
       "    <tr>\n",
       "      <th>12824</th>\n",
       "      <td>12824</td>\n",
       "      <td>192.37.107.58</td>\n",
       "      <td>0</td>\n",
       "      <td>2</td>\n",
       "      <td>2</td>\n",
       "      <td>2</td>\n",
       "      <td>0</td>\n",
       "      <td>3</td>\n",
       "      <td>3</td>\n",
       "      <td>3</td>\n",
       "    </tr>\n",
       "  </tbody>\n",
       "</table>\n",
       "</div>"
      ],
      "text/plain": [
       "       index                                       sa  similarity_2  \\\n",
       "2          2                           203.178.159.82             0   \n",
       "19        19  2001:7238:3c7e:360c:203d:fec0:103b:e2fd             0   \n",
       "36        36                          163.218.200.195             0   \n",
       "43        43                           203.178.159.86             0   \n",
       "47        47                          203.178.149.157             0   \n",
       "147      147                            133.83.165.71             0   \n",
       "214      214                           133.83.164.151             0   \n",
       "277      277                           117.229.76.204             0   \n",
       "309      309    2001:723d:c076:f04:623c:3100:9fd:dc5c             0   \n",
       "327      327                           23.144.138.227             0   \n",
       "408      408                           203.178.154.61             0   \n",
       "434      434   2001:7238:3c6d:f4c3:bdff:e3f:cffd:e053             0   \n",
       "570      570                             23.15.67.162             0   \n",
       "636      636                          163.218.193.161             0   \n",
       "646      646                          192.229.231.112             0   \n",
       "1286    1286                          104.222.119.211             0   \n",
       "1289    1289                           203.178.156.91             0   \n",
       "1355    1355                              23.15.44.45             0   \n",
       "1498    1498                            133.83.143.37             0   \n",
       "1800    1800                           163.218.131.96             0   \n",
       "1820    1820                          203.178.159.146             0   \n",
       "2177    2177                            133.83.79.131             0   \n",
       "2178    2178                           203.178.159.28             0   \n",
       "2280    2280                            198.19.247.54             0   \n",
       "2533    2533                          192.229.226.150             0   \n",
       "2778    2778                           117.173.24.143             0   \n",
       "3220    3220   2001:7a10:33dc:b00:1002:fefe:11f8:23fc             0   \n",
       "3403    3403                          163.218.133.233             0   \n",
       "3507    3507                            54.154.181.57             0   \n",
       "5516    5516                           133.83.122.176             0   \n",
       "5671    5671                           202.228.89.150             0   \n",
       "6182    6182                           133.83.119.205             0   \n",
       "7222    7222                          192.229.226.144             0   \n",
       "7563    7563                             23.255.42.79             0   \n",
       "8679    8679                            23.255.42.204             0   \n",
       "8981    8981                           117.173.24.106             0   \n",
       "10979  10979                            99.36.159.201             0   \n",
       "11850  11850  2001:7a10:33a5:c63e:53c1:f140:21c7:c3b9             0   \n",
       "12785  12785                           203.178.149.55             0   \n",
       "12786  12786                          204.167.201.110             0   \n",
       "12803  12803                          206.215.228.128             0   \n",
       "12806  12806                           62.210.249.204             0   \n",
       "12824  12824                            192.37.107.58             0   \n",
       "\n",
       "       similarity_3  similarity_4  similarity_5  similarity_6  similarity_7  \\\n",
       "2                 2             2             2             0             3   \n",
       "19                2             2             2             0             3   \n",
       "36                2             2             2             0             3   \n",
       "43                2             2             2             0             3   \n",
       "47                2             2             2             0             3   \n",
       "147               2             2             2             0             3   \n",
       "214               2             2             2             0             3   \n",
       "277               2             2             2             0             3   \n",
       "309               2             2             2             0             3   \n",
       "327               2             2             2             0             3   \n",
       "408               2             2             2             0             3   \n",
       "434               2             2             2             0             3   \n",
       "570               2             2             2             0             3   \n",
       "636               2             2             2             0             3   \n",
       "646               2             2             2             0             3   \n",
       "1286              2             2             2             0             3   \n",
       "1289              2             2             2             0             3   \n",
       "1355              2             2             2             0             3   \n",
       "1498              2             2             2             0             3   \n",
       "1800              2             2             2             0             3   \n",
       "1820              2             2             2             0             3   \n",
       "2177              2             2             2             0             3   \n",
       "2178              2             2             2             0             3   \n",
       "2280              2             2             2             0             3   \n",
       "2533              2             2             2             0             3   \n",
       "2778              2             2             2             0             3   \n",
       "3220              2             2             2             0             3   \n",
       "3403              2             2             2             0             3   \n",
       "3507              2             2             2             0             3   \n",
       "5516              2             2             2             0             3   \n",
       "5671              2             2             2             0             3   \n",
       "6182              2             2             2             0             3   \n",
       "7222              2             2             2             0             3   \n",
       "7563              2             2             2             0             3   \n",
       "8679              2             2             2             0             3   \n",
       "8981              2             2             2             0             3   \n",
       "10979             2             2             2             0             3   \n",
       "11850             2             2             2             0             3   \n",
       "12785             2             2             2             0             3   \n",
       "12786             2             2             2             0             3   \n",
       "12803             2             2             2             0             3   \n",
       "12806             2             2             2             0             3   \n",
       "12824             2             2             2             0             3   \n",
       "\n",
       "       similarity_8  similarity_9  \n",
       "2                 3             3  \n",
       "19                3             3  \n",
       "36                3             3  \n",
       "43                3             3  \n",
       "47                3             3  \n",
       "147               3             3  \n",
       "214               3             3  \n",
       "277               3             3  \n",
       "309               3             3  \n",
       "327               3             3  \n",
       "408               3             3  \n",
       "434               3             3  \n",
       "570               3             3  \n",
       "636               3             3  \n",
       "646               3             3  \n",
       "1286              3             3  \n",
       "1289              3             3  \n",
       "1355              3             3  \n",
       "1498              3             3  \n",
       "1800              3             3  \n",
       "1820              3             3  \n",
       "2177              3             3  \n",
       "2178              3             3  \n",
       "2280              3             3  \n",
       "2533              3             3  \n",
       "2778              3             3  \n",
       "3220              3             3  \n",
       "3403              3             3  \n",
       "3507              3             3  \n",
       "5516              3             3  \n",
       "5671              3             3  \n",
       "6182              3             3  \n",
       "7222              3             3  \n",
       "7563              3             3  \n",
       "8679              3             3  \n",
       "8981              3             3  \n",
       "10979             3             3  \n",
       "11850             3             3  \n",
       "12785             3             3  \n",
       "12786             3             3  \n",
       "12803             3             3  \n",
       "12806             3             3  \n",
       "12824             3             3  "
      ]
     },
     "execution_count": 34,
     "metadata": {},
     "output_type": "execute_result"
    }
   ],
   "source": [
    "similarity_label.query(\"similarity_3 == 2 and similarity_4 == 2 and similarity_5 == 2 and similarity_6 == 0 and similarity_7 == 3 and similarity_8 == 3 and similarity_9 == 3\")"
   ]
  },
  {
   "cell_type": "markdown",
   "metadata": {},
   "source": [
    "### 試試切割特徵的排列組合分群結果"
   ]
  },
  {
   "cell_type": "code",
   "execution_count": 93,
   "metadata": {},
   "outputs": [
    {
     "data": {
      "text/plain": [
       "label_nSrcLink_nDstLink  label_nSrcLink_nPkt  label_nSrcLink_nByte  label_nDstLink_nPkt  label_nDstLink_nByte  label_nPkt_nByte\n",
       "10                       10                   10                    10                   10                    10                  11825\n",
       "7                        7                    7                     7                    7                     7                     657\n",
       "6                        6                    6                     6                    6                     6                     217\n",
       "0                        0                    0                     0                    0                     0                      76\n",
       "11                       11                   11                    11                   11                    11                     57\n",
       "dtype: int64"
      ]
     },
     "execution_count": 93,
     "metadata": {},
     "output_type": "execute_result"
    }
   ],
   "source": [
    "label_16 = pd.read_csv(\"features/labeled_16_merged.csv\", index_col=0)\n",
    "label_16.set_index(\"sa\").value_counts()"
   ]
  },
  {
   "cell_type": "code",
   "execution_count": 94,
   "metadata": {},
   "outputs": [
    {
     "data": {
      "text/plain": [
       "label_nSrcLink_nDstLink  label_nSrcLink_nPkt  label_nSrcLink_nByte  label_nDstLink_nPkt  label_nDstLink_nByte  label_nPkt_nByte\n",
       "10                       10                   10                    10                   10                    10                  25\n",
       "0                        0                    0                     0                    0                     0                   11\n",
       "7                        7                    7                     7                    7                     7                    1\n",
       "dtype: int64"
      ]
     },
     "execution_count": 94,
     "metadata": {},
     "output_type": "execute_result"
    }
   ],
   "source": [
    "label_16[label_16[\"sa\"].isin(only_anomalous[\"srcIP\"])].filter(regex=\"^label\", axis=1).value_counts()"
   ]
  },
  {
   "cell_type": "code",
   "execution_count": 95,
   "metadata": {},
   "outputs": [
    {
     "data": {
      "text/plain": [
       "label_nSrcLink_nDstLink  label_nSrcLink_nPkt  label_nSrcLink_nByte  label_nDstLink_nPkt  label_nDstLink_nByte  label_nPkt_nByte\n",
       "1                        1                    1                     1                    1                     1                   11945\n",
       "3                        3                    3                     3                    3                     3                     826\n",
       "0                        0                    0                     0                    0                     0                      49\n",
       "5                        5                    5                     5                    5                     5                      12\n",
       "dtype: int64"
      ]
     },
     "execution_count": 95,
     "metadata": {},
     "output_type": "execute_result"
    }
   ],
   "source": [
    "label_11 = pd.read_csv(\"features/labeled_11_merged.csv\", index_col=0)\n",
    "label_11.set_index(\"sa\").value_counts()"
   ]
  },
  {
   "cell_type": "code",
   "execution_count": 96,
   "metadata": {},
   "outputs": [
    {
     "data": {
      "text/plain": [
       "label_nSrcLink_nDstLink  label_nSrcLink_nPkt  label_nSrcLink_nByte  label_nDstLink_nPkt  label_nDstLink_nByte  label_nPkt_nByte\n",
       "1                        1                    1                     1                    1                     1                   25\n",
       "0                        0                    0                     0                    0                     0                   11\n",
       "3                        3                    3                     3                    3                     3                    1\n",
       "dtype: int64"
      ]
     },
     "execution_count": 96,
     "metadata": {},
     "output_type": "execute_result"
    }
   ],
   "source": [
    "label_11[label_11[\"sa\"].isin(only_anomalous[\"srcIP\"])].filter(regex=\"^label\", axis=1).value_counts()"
   ]
  },
  {
   "cell_type": "code",
   "execution_count": 98,
   "metadata": {},
   "outputs": [
    {
     "data": {
      "text/plain": [
       "label_nSrcLink_nDstLink  label_nSrcLink_nPkt  label_nSrcLink_nByte  label_nDstLink_nPkt  label_nDstLink_nByte  label_nPkt_nByte\n",
       "9                        9                    9                     9                    9                     9                   10927\n",
       "5                        5                    5                     5                    5                     5                    1063\n",
       "6                        6                    6                     6                    6                     6                     786\n",
       "0                        0                    0                     0                    0                     0                      55\n",
       "4                        4                    4                     4                    4                     4                       1\n",
       "dtype: int64"
      ]
     },
     "execution_count": 98,
     "metadata": {},
     "output_type": "execute_result"
    }
   ],
   "source": [
    "label_10 = pd.read_csv(\"features/labeled_10_merged.csv\", index_col=0)\n",
    "label_10.set_index(\"sa\").value_counts()"
   ]
  },
  {
   "cell_type": "code",
   "execution_count": 99,
   "metadata": {},
   "outputs": [
    {
     "data": {
      "text/plain": [
       "label_nSrcLink_nDstLink  label_nSrcLink_nPkt  label_nSrcLink_nByte  label_nDstLink_nPkt  label_nDstLink_nByte  label_nPkt_nByte\n",
       "9                        9                    9                     9                    9                     9                   25\n",
       "0                        0                    0                     0                    0                     0                   11\n",
       "6                        6                    6                     6                    6                     6                    1\n",
       "dtype: int64"
      ]
     },
     "execution_count": 99,
     "metadata": {},
     "output_type": "execute_result"
    }
   ],
   "source": [
    "label_10[label_10[\"sa\"].isin(only_anomalous[\"srcIP\"])].filter(regex=\"^label\", axis=1).value_counts()"
   ]
  },
  {
   "cell_type": "code",
   "execution_count": 100,
   "metadata": {},
   "outputs": [
    {
     "data": {
      "text/plain": [
       "label_nSrcLink_nDstLink  label_nSrcLink_nPkt  label_nSrcLink_nByte  label_nDstLink_nPkt  label_nDstLink_nByte  label_nPkt_nByte\n",
       "1                        1                    1                     1                    1                     1                   11889\n",
       "6                        6                    6                     6                    6                     6                     772\n",
       "5                        5                    5                     5                    5                     5                     114\n",
       "0                        0                    0                     0                    0                     0                      57\n",
       "dtype: int64"
      ]
     },
     "execution_count": 100,
     "metadata": {},
     "output_type": "execute_result"
    }
   ],
   "source": [
    "label_8 = pd.read_csv(\"features/labeled_8_merged.csv\", index_col=0)\n",
    "label_8.set_index(\"sa\").value_counts()"
   ]
  },
  {
   "cell_type": "code",
   "execution_count": 101,
   "metadata": {},
   "outputs": [
    {
     "data": {
      "text/plain": [
       "label_nSrcLink_nDstLink  label_nSrcLink_nPkt  label_nSrcLink_nByte  label_nDstLink_nPkt  label_nDstLink_nByte  label_nPkt_nByte\n",
       "1                        1                    1                     1                    1                     1                   25\n",
       "0                        0                    0                     0                    0                     0                   11\n",
       "6                        6                    6                     6                    6                     6                    1\n",
       "dtype: int64"
      ]
     },
     "execution_count": 101,
     "metadata": {},
     "output_type": "execute_result"
    }
   ],
   "source": [
    "label_8[label_8[\"sa\"].isin(only_anomalous[\"srcIP\"])].filter(regex=\"^label\", axis=1).value_counts()"
   ]
  },
  {
   "cell_type": "code",
   "execution_count": 102,
   "metadata": {},
   "outputs": [
    {
     "data": {
      "text/plain": [
       "label_nSrcLink_nDstLink  label_nSrcLink_nPkt  label_nSrcLink_nByte  label_nDstLink_nPkt  label_nDstLink_nByte  label_nPkt_nByte\n",
       "5                        5                    5                     5                    5                     5                   11545\n",
       "3                        3                    3                     3                    3                     3                     965\n",
       "1                        1                    1                     1                    1                     1                     163\n",
       "4                        4                    4                     4                    4                     4                      89\n",
       "0                        0                    0                     0                    0                     0                      59\n",
       "6                        6                    6                     6                    6                     6                      11\n",
       "dtype: int64"
      ]
     },
     "execution_count": 102,
     "metadata": {},
     "output_type": "execute_result"
    }
   ],
   "source": [
    "label_7 = pd.read_csv(\"features/labeled_7_merged.csv\", index_col=0)\n",
    "label_7.set_index(\"sa\").value_counts()"
   ]
  },
  {
   "cell_type": "code",
   "execution_count": 103,
   "metadata": {},
   "outputs": [
    {
     "data": {
      "text/plain": [
       "label_nSrcLink_nDstLink  label_nSrcLink_nPkt  label_nSrcLink_nByte  label_nDstLink_nPkt  label_nDstLink_nByte  label_nPkt_nByte\n",
       "5                        5                    5                     5                    5                     5                   25\n",
       "0                        0                    0                     0                    0                     0                   11\n",
       "3                        3                    3                     3                    3                     3                    1\n",
       "dtype: int64"
      ]
     },
     "execution_count": 103,
     "metadata": {},
     "output_type": "execute_result"
    }
   ],
   "source": [
    "label_7[label_7[\"sa\"].isin(only_anomalous[\"srcIP\"])].filter(regex=\"^label\", axis=1).value_counts()"
   ]
  },
  {
   "cell_type": "code",
   "execution_count": 104,
   "metadata": {},
   "outputs": [
    {
     "data": {
      "text/plain": [
       "label_nSrcLink_nDstLink  label_nSrcLink_nPkt  label_nSrcLink_nByte  label_nDstLink_nPkt  label_nDstLink_nByte  label_nPkt_nByte\n",
       "5                        5                    5                     5                    5                     5                   11966\n",
       "3                        3                    3                     3                    3                     3                     826\n",
       "0                        0                    0                     0                    0                     0                      38\n",
       "2                        2                    2                     2                    2                     2                       2\n",
       "dtype: int64"
      ]
     },
     "execution_count": 104,
     "metadata": {},
     "output_type": "execute_result"
    }
   ],
   "source": [
    "label_6 = pd.read_csv(\"features/labeled_6_merged.csv\", index_col=0)\n",
    "label_6.set_index(\"sa\").value_counts()"
   ]
  },
  {
   "cell_type": "code",
   "execution_count": 105,
   "metadata": {},
   "outputs": [
    {
     "data": {
      "text/plain": [
       "label_nSrcLink_nDstLink  label_nSrcLink_nPkt  label_nSrcLink_nByte  label_nDstLink_nPkt  label_nDstLink_nByte  label_nPkt_nByte\n",
       "5                        5                    5                     5                    5                     5                   25\n",
       "0                        0                    0                     0                    0                     0                   11\n",
       "3                        3                    3                     3                    3                     3                    1\n",
       "dtype: int64"
      ]
     },
     "execution_count": 105,
     "metadata": {},
     "output_type": "execute_result"
    }
   ],
   "source": [
    "label_6[label_6[\"sa\"].isin(only_anomalous[\"srcIP\"])].filter(regex=\"^label\", axis=1).value_counts()"
   ]
  },
  {
   "cell_type": "code",
   "execution_count": 106,
   "metadata": {},
   "outputs": [
    {
     "data": {
      "text/plain": [
       "label_nSrcLink_nDstLink  label_nSrcLink_nPkt  label_nSrcLink_nByte  label_nDstLink_nPkt  label_nDstLink_nByte  label_nPkt_nByte\n",
       "1                        1                    1                     1                    1                     1                   11977\n",
       "0                        0                    0                     0                    0                     0                     855\n",
       "dtype: int64"
      ]
     },
     "execution_count": 106,
     "metadata": {},
     "output_type": "execute_result"
    }
   ],
   "source": [
    "label_3 = pd.read_csv(\"features/labeled_3_merged.csv\", index_col=0)\n",
    "label_3.set_index(\"sa\").value_counts()"
   ]
  },
  {
   "cell_type": "code",
   "execution_count": 107,
   "metadata": {},
   "outputs": [
    {
     "data": {
      "text/plain": [
       "label_nSrcLink_nDstLink  label_nSrcLink_nPkt  label_nSrcLink_nByte  label_nDstLink_nPkt  label_nDstLink_nByte  label_nPkt_nByte\n",
       "1                        1                    1                     1                    1                     1                   26\n",
       "0                        0                    0                     0                    0                     0                   11\n",
       "dtype: int64"
      ]
     },
     "execution_count": 107,
     "metadata": {},
     "output_type": "execute_result"
    }
   ],
   "source": [
    "label_3[label_3[\"sa\"].isin(only_anomalous[\"srcIP\"])].filter(regex=\"^label\", axis=1).value_counts()"
   ]
  },
  {
   "cell_type": "code",
   "execution_count": 108,
   "metadata": {},
   "outputs": [
    {
     "data": {
      "text/plain": [
       "label_nSrcLink_nDstLink  label_nSrcLink_nPkt  label_nSrcLink_nByte  label_nDstLink_nPkt  label_nDstLink_nByte  label_nPkt_nByte\n",
       "0                        0                    0                     0                    0                     0                   9865\n",
       "1                        1                    1                     1                    1                     1                   2967\n",
       "dtype: int64"
      ]
     },
     "execution_count": 108,
     "metadata": {},
     "output_type": "execute_result"
    }
   ],
   "source": [
    "label_2 = pd.read_csv(\"features/labeled_2_merged.csv\", index_col=0)\n",
    "label_2.set_index(\"sa\").value_counts()"
   ]
  },
  {
   "cell_type": "code",
   "execution_count": 109,
   "metadata": {},
   "outputs": [
    {
     "data": {
      "text/plain": [
       "label_nSrcLink_nDstLink  label_nSrcLink_nPkt  label_nSrcLink_nByte  label_nDstLink_nPkt  label_nDstLink_nByte  label_nPkt_nByte\n",
       "1                        1                    1                     1                    1                     1                   24\n",
       "0                        0                    0                     0                    0                     0                   13\n",
       "dtype: int64"
      ]
     },
     "execution_count": 109,
     "metadata": {},
     "output_type": "execute_result"
    }
   ],
   "source": [
    "label_2[label_2[\"sa\"].isin(only_anomalous[\"srcIP\"])].filter(regex=\"^label\", axis=1).value_counts()"
   ]
  }
 ],
 "metadata": {
  "kernelspec": {
   "display_name": "Python 3",
   "language": "python",
   "name": "python3"
  },
  "language_info": {
   "codemirror_mode": {
    "name": "ipython",
    "version": 3
   },
   "file_extension": ".py",
   "mimetype": "text/x-python",
   "name": "python",
   "nbconvert_exporter": "python",
   "pygments_lexer": "ipython3",
   "version": "3.10.9"
  },
  "orig_nbformat": 4,
  "vscode": {
   "interpreter": {
    "hash": "d02331cd1603ec76c6a0d691d59c880477777fc72f4efeafcd9cb0c05515e5a1"
   }
  }
 },
 "nbformat": 4,
 "nbformat_minor": 2
}
