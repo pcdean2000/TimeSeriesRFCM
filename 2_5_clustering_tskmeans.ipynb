{
 "cells": [
  {
   "cell_type": "code",
   "execution_count": 1,
   "metadata": {},
   "outputs": [],
   "source": [
    "import os\n",
    "import warnings\n",
    "warnings.filterwarnings('ignore')\n",
    "\n",
    "import numpy as np\n",
    "\n",
    "from glob import glob\n",
    "from pathlib import Path\n",
    "from tslearn.utils import from_pyts_dataset\n",
    "from tslearn.clustering import TimeSeriesKMeans\n",
    "\n",
    "INTERVAL = 5"
   ]
  },
  {
   "cell_type": "code",
   "execution_count": 2,
   "metadata": {},
   "outputs": [
    {
     "name": "stdout",
     "output_type": "stream",
     "text": [
      "Dir:  timeseries\\interval_5_dst_feature\n",
      "\tPyts dataset shape:  (190016, 8, 181)\n",
      "\tTslearn dataset shape:  (190016, 181, 8)\n",
      "1416326306063993878347776.000 --> "
     ]
    }
   ],
   "source": [
    "for dirname in glob(Path(f'timeseries/interval_{INTERVAL}*').__str__()):\n",
    "    print(\"Dir: \", dirname)\n",
    "    if os.path.exists(os.path.join(dirname, \"tslearn_kmeans.npy\")):\n",
    "        continue\n",
    "    pyts_dataset = np.load(os.path.join(dirname, \"pyts_dataset.npy\"))\n",
    "    print(\"\\tPyts dataset shape: \", pyts_dataset.shape)\n",
    "    X = from_pyts_dataset(pyts_dataset)\n",
    "    print(\"\\tTslearn dataset shape: \", X.shape)\n",
    "    model = TimeSeriesKMeans(n_clusters=10, metric=\"softdtw\", verbose=True, random_state=10, n_jobs=2, max_iter=10)\n",
    "    y_pred = model.fit_predict(X)\n",
    "    np.save(os.path.join(dirname, \"tslearn_kmeans.npy\"), y_pred)\n",
    "    print(\"\\tTslearn kmeans shape: \", y_pred.shape)\n",
    "    del pyts_dataset, model, X, y_pred"
   ]
  },
  {
   "cell_type": "code",
   "execution_count": null,
   "metadata": {},
   "outputs": [
    {
     "data": {
      "text/plain": [
       "(102925, 8, 31)"
      ]
     },
     "execution_count": 2,
     "metadata": {},
     "output_type": "execute_result"
    }
   ],
   "source": [
    "# pyts_timeseries = np.load(f\"interval{INTERVAL}_reconstructed_STL_trend_ts/200702111400/pyts_dataset.npy\")\n",
    "# pyts_timeseries.shape"
   ]
  },
  {
   "cell_type": "code",
   "execution_count": null,
   "metadata": {},
   "outputs": [
    {
     "data": {
      "text/plain": [
       "(102925, 31, 8)"
      ]
     },
     "execution_count": 3,
     "metadata": {},
     "output_type": "execute_result"
    }
   ],
   "source": [
    "# tslearn_timeseries = from_pyts_dataset(pyts_timeseries)\n",
    "# tslearn_timeseries.shape"
   ]
  },
  {
   "cell_type": "code",
   "execution_count": null,
   "metadata": {},
   "outputs": [],
   "source": [
    "# model = TimeSeriesKMeans(n_clusters=10, metric=\"softdtw\", max_iter=10, metric_params={\"gamma\": .01})\n",
    "# model.fit(tslearn_timeseries)\n",
    "# labels = model.labels_"
   ]
  },
  {
   "cell_type": "code",
   "execution_count": null,
   "metadata": {},
   "outputs": [
    {
     "data": {
      "text/plain": [
       "array([[     0, 102874],\n",
       "       [     1,      1],\n",
       "       [     2,      1],\n",
       "       [     3,      1],\n",
       "       [     4,      2],\n",
       "       [     5,      6],\n",
       "       [     6,     36],\n",
       "       [     7,      1],\n",
       "       [     8,      1],\n",
       "       [     9,      2]], dtype=int64)"
      ]
     },
     "execution_count": 5,
     "metadata": {},
     "output_type": "execute_result"
    }
   ],
   "source": [
    "# np.asarray(np.unique(labels, return_counts=True)).T"
   ]
  },
  {
   "cell_type": "code",
   "execution_count": null,
   "metadata": {},
   "outputs": [],
   "source": [
    "# np.save(f\"interval{INTERVAL}_reconstructed_STL_trend_ts/200702111400/labels.npy\", labels)"
   ]
  },
  {
   "cell_type": "code",
   "execution_count": null,
   "metadata": {},
   "outputs": [],
   "source": [
    "# Save model\n",
    "# model.to_pickle(f\"interval{INTERVAL}_reconstructed_STL_trend_ts/200702111400/model.pkl\")"
   ]
  }
 ],
 "metadata": {
  "kernelspec": {
   "display_name": "Python 3",
   "language": "python",
   "name": "python3"
  },
  "language_info": {
   "codemirror_mode": {
    "name": "ipython",
    "version": 3
   },
   "file_extension": ".py",
   "mimetype": "text/x-python",
   "name": "python",
   "nbconvert_exporter": "python",
   "pygments_lexer": "ipython3",
   "version": "3.10.9"
  },
  "orig_nbformat": 4,
  "vscode": {
   "interpreter": {
    "hash": "d02331cd1603ec76c6a0d691d59c880477777fc72f4efeafcd9cb0c05515e5a1"
   }
  }
 },
 "nbformat": 4,
 "nbformat_minor": 2
}
