{
 "cells": [
  {
   "cell_type": "code",
   "execution_count": 10,
   "metadata": {},
   "outputs": [],
   "source": [
    "from datetime import datetime, timedelta\n",
    "from glob import glob\n",
    "from pathlib import Path\n",
    "\n",
    "import pandas as pd\n",
    "\n",
    "import os\n",
    "\n",
    "INTERVAL = 15"
   ]
  },
  {
   "attachments": {},
   "cell_type": "markdown",
   "metadata": {},
   "source": [
    "用 src feature 產生時間序列資料"
   ]
  },
  {
   "cell_type": "code",
   "execution_count": 11,
   "metadata": {},
   "outputs": [
    {
     "name": "stdout",
     "output_type": "stream",
     "text": [
      "Processing pch\\20230329\\src_feature\\10.0.0.1.parquet ...                         \r"
     ]
    }
   ],
   "source": [
    "for filename in glob(Path('pch/20230329/src_feature/*').__str__()):\n",
    "    print(\"Processing\", filename, \"...\", \" \" * 20, end=\"\\r\")\n",
    "    targetFile = filename.replace('src_feature', f'interval_{INTERVAL}_src_feature')\n",
    "    # if os.path.exists(targetFile):\n",
    "    #     continue\n",
    "    df = pd.read_parquet(filename)\n",
    "    df[[\"timeStart\"]] = df[[\"timeStart\"]].astype(dtype='datetime64[ns]')\n",
    "    start_time = datetime.fromisoformat(\"2023-03-29T00:00:00\")\n",
    "    end_time = start_time + timedelta(hours=24)\n",
    "    result = []\n",
    "    while start_time <= end_time:\n",
    "        filtered = df[(df[\"timeStart\"] >= start_time) & (df[\"timeStart\"] < start_time + timedelta(seconds=INTERVAL))]\n",
    "        result.append(\n",
    "            {\n",
    "                \"timeStart\": start_time,\n",
    "                \"srcIP\": df[\"srcIP\"].unique().tolist()[0],\n",
    "                \"packets\": filtered[\"packets\"].sum(),\n",
    "                \"bytes\": filtered[\"bytes\"].sum(),\n",
    "                \"flows\": filtered[\"flows\"].sum(),\n",
    "                \"bytes/packets\": filtered[\"bytes\"].sum() / filtered[\"packets\"].sum() if filtered[\"packets\"].sum() != 0 else 0,\n",
    "                \"flows/(bytes/packets)\": filtered[\"flows\"].sum() / (filtered[\"bytes\"].sum() / filtered[\"packets\"].sum()) if filtered[\"bytes\"].sum() != 0 and filtered[\"packets\"].sum() != 0 else 0,\n",
    "                \"nDstIP\": filtered[\"nDstIP\"].sum(),\n",
    "                \"nSrcPort\": filtered[\"nSrcPort\"].sum(),\n",
    "                \"nDstPort\": filtered[\"nDstPort\"].sum(),\n",
    "            }\n",
    "        )\n",
    "        start_time += timedelta(seconds=INTERVAL)\n",
    "    result = pd.DataFrame(result)\n",
    "    # print(result)\n",
    "    # break\n",
    "    os.makedirs(os.path.dirname(targetFile), exist_ok=True)\n",
    "    result.to_parquet(targetFile, index=False)"
   ]
  },
  {
   "attachments": {},
   "cell_type": "markdown",
   "metadata": {},
   "source": [
    "用 dst feature 產生時間序列資料"
   ]
  },
  {
   "cell_type": "code",
   "execution_count": null,
   "metadata": {},
   "outputs": [
    {
     "name": "stdout",
     "output_type": "stream",
     "text": [
      "Processing pch\\20230331\\dst_feature\\96.7.254.94.parguet ...                         \r"
     ]
    }
   ],
   "source": [
    "for filename in glob(Path('pch/20230329/dst_feature/*').__str__()):\n",
    "    print(\"Processing\", filename, \"...\", \" \" * 20, end=\"\\r\")\n",
    "    targetFile = filename.replace('dst_feature', f'interval_{INTERVAL}_dst_feature')\n",
    "    # if os.path.exists(targetFile):\n",
    "    #     continue\n",
    "    df = pd.read_parquet(filename)\n",
    "    df[[\"timeStart\"]] = df[[\"timeStart\"]].astype(dtype='datetime64[ns]')\n",
    "    start_time = datetime.fromisoformat(\"2023-03-29T00:00:00\")\n",
    "    end_time = start_time + timedelta(hours=24)\n",
    "    result = []\n",
    "    while start_time <= end_time:\n",
    "        filtered = df[(df[\"timeStart\"] >= start_time) & (df[\"timeStart\"] < start_time + timedelta(seconds=INTERVAL))]\n",
    "        result.append(\n",
    "            {\n",
    "                \"timeStart\": start_time,\n",
    "                \"dstIP\": df[\"dstIP\"].unique().tolist()[0],\n",
    "                \"packets\": filtered[\"packets\"].sum(),\n",
    "                \"bytes\": filtered[\"bytes\"].sum(),\n",
    "                \"flows\": filtered[\"flows\"].sum(),\n",
    "                \"bytes/packets\": filtered[\"bytes\"].sum() / filtered[\"packets\"].sum() if filtered[\"packets\"].sum() != 0 else 0,\n",
    "                \"flows/(bytes/packets)\": filtered[\"flows\"].sum() / (filtered[\"bytes\"].sum() / filtered[\"packets\"].sum()) if filtered[\"bytes\"].sum() != 0 and filtered[\"packets\"].sum() != 0 else 0,\n",
    "                \"nSrcIP\": filtered[\"nSrcIP\"].sum(),\n",
    "                \"nSrcPort\": filtered[\"nSrcPort\"].sum(),\n",
    "                \"nDstPort\": filtered[\"nDstPort\"].sum(),\n",
    "            }\n",
    "        )\n",
    "        start_time += timedelta(seconds=INTERVAL)\n",
    "    result = pd.DataFrame(result)\n",
    "    # print(result)\n",
    "    # break\n",
    "    os.makedirs(os.path.dirname(targetFile), exist_ok=True)\n",
    "    result.to_parquet(targetFile, index=False)"
   ]
  }
 ],
 "metadata": {
  "kernelspec": {
   "display_name": "Python 3",
   "language": "python",
   "name": "python3"
  },
  "language_info": {
   "codemirror_mode": {
    "name": "ipython",
    "version": 3
   },
   "file_extension": ".py",
   "mimetype": "text/x-python",
   "name": "python",
   "nbconvert_exporter": "python",
   "pygments_lexer": "ipython3",
   "version": "3.10.9"
  },
  "orig_nbformat": 4,
  "vscode": {
   "interpreter": {
    "hash": "d02331cd1603ec76c6a0d691d59c880477777fc72f4efeafcd9cb0c05515e5a1"
   }
  }
 },
 "nbformat": 4,
 "nbformat_minor": 2
}
