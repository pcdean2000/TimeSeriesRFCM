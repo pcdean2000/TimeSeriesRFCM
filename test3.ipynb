{
 "cells": [
  {
   "cell_type": "code",
   "execution_count": 12,
   "metadata": {},
   "outputs": [
    {
     "data": {
      "text/plain": [
       "[6, 34, 11, 98, 52, 34, 13, 4, 48, 68]"
      ]
     },
     "execution_count": 12,
     "metadata": {},
     "output_type": "execute_result"
    }
   ],
   "source": [
    "import random\n",
    "\n",
    "random.seed(123)\n",
    "\n",
    "time_series = [random.randint(0, 100) for i in range(100)]\n",
    "time_series[:10]"
   ]
  },
  {
   "cell_type": "code",
   "execution_count": 8,
   "metadata": {},
   "outputs": [
    {
     "data": {
      "text/plain": [
       "range(2, 20)"
      ]
     },
     "execution_count": 8,
     "metadata": {},
     "output_type": "execute_result"
    }
   ],
   "source": [
    "lags = range(2, 20)\n",
    "lags"
   ]
  },
  {
   "cell_type": "code",
   "execution_count": 9,
   "metadata": {},
   "outputs": [
    {
     "data": {
      "text/plain": [
       "[42.86504786182543,\n",
       " 42.707964611514434,\n",
       " 41.97826069121638,\n",
       " 36.976767430913824,\n",
       " 37.29456631098059,\n",
       " 37.14804622615605,\n",
       " 39.41403269820245,\n",
       " 41.02353670689002,\n",
       " 42.40448380671059,\n",
       " 38.76846416757291,\n",
       " 39.402510722537336,\n",
       " 40.06514051157087,\n",
       " 39.48120158415818,\n",
       " 40.99114597620939,\n",
       " 40.19860699744641,\n",
       " 40.44542602783159,\n",
       " 43.331636546044244,\n",
       " 42.64896251918457]"
      ]
     },
     "execution_count": 9,
     "metadata": {},
     "output_type": "execute_result"
    }
   ],
   "source": [
    "import numpy as np\n",
    "\n",
    "np.random.seed(123)\n",
    "\n",
    "tau = [np.std(np.subtract(time_series[lag:], time_series[:-lag])) for lag in lags]\n",
    "tau"
   ]
  },
  {
   "cell_type": "code",
   "execution_count": 10,
   "metadata": {},
   "outputs": [
    {
     "data": {
      "text/plain": [
       "array([-3.16117958e-04,  3.69824426e+00])"
      ]
     },
     "execution_count": 10,
     "metadata": {},
     "output_type": "execute_result"
    }
   ],
   "source": [
    "reg = np.polyfit(np.log(lags), np.log(tau), 1)\n",
    "reg"
   ]
  },
  {
   "cell_type": "code",
   "execution_count": null,
   "metadata": {},
   "outputs": [],
   "source": []
  }
 ],
 "metadata": {
  "kernelspec": {
   "display_name": "Python 3.11.0 64-bit",
   "language": "python",
   "name": "python3"
  },
  "language_info": {
   "codemirror_mode": {
    "name": "ipython",
    "version": 3
   },
   "file_extension": ".py",
   "mimetype": "text/x-python",
   "name": "python",
   "nbconvert_exporter": "python",
   "pygments_lexer": "ipython3",
   "version": "3.11.0"
  },
  "orig_nbformat": 4,
  "vscode": {
   "interpreter": {
    "hash": "1bbd4776ce5612284a8a6ecb61b3238f1005cd304432b166574e9dca3ba20737"
   }
  }
 },
 "nbformat": 4,
 "nbformat_minor": 2
}
