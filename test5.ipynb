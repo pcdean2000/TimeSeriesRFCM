{
 "cells": [
  {
   "cell_type": "code",
   "execution_count": 24,
   "metadata": {},
   "outputs": [],
   "source": [
    "from pyts.datasets import load_basic_motions\n",
    "\n",
    "import numpy as np\n",
    "\n",
    "from rfcm import RFCM"
   ]
  },
  {
   "cell_type": "code",
   "execution_count": 6,
   "metadata": {},
   "outputs": [],
   "source": [
    "class TimeSeries:\n",
    "    def __init__(self, data: list):\n",
    "        self.data = np.array(data)\n",
    "    \n",
    "    def __add__(self, other):\n",
    "        if isinstance(other, TimeSeries):\n",
    "            return TimeSeries(self.data + other.data)\n",
    "        elif isinstance(other, int):\n",
    "            return TimeSeries(self.data + other)\n",
    "        elif isinstance(other, float):\n",
    "            return TimeSeries(self.data + other)\n",
    "        elif isinstance(other, np.ndarray):\n",
    "            return TimeSeries(self.data + other)\n",
    "        \n",
    "    def __radd__(self, other):\n",
    "        return self + other\n",
    "        \n",
    "    def __sub__(self, other):\n",
    "        if isinstance(other, TimeSeries):\n",
    "            return TimeSeries(self.data - other.data)\n",
    "        elif isinstance(other, int):\n",
    "            return TimeSeries(self.data - other)\n",
    "        elif isinstance(other, float):\n",
    "            return TimeSeries(self.data - other)\n",
    "        elif isinstance(other, np.ndarray):\n",
    "            return TimeSeries(self.data - other)\n",
    "    \n",
    "    def __rsub__(self, other):\n",
    "        return -self + other\n",
    "    \n",
    "    def __mul__(self, other):\n",
    "        if isinstance(other, TimeSeries):\n",
    "            return TimeSeries(self.data * other.data)\n",
    "        elif isinstance(other, int):\n",
    "            return TimeSeries(self.data * other)\n",
    "        elif isinstance(other, float):\n",
    "            return TimeSeries(self.data * other)\n",
    "        elif isinstance(other, np.ndarray):\n",
    "            return TimeSeries(self.data * other)\n",
    "    \n",
    "    def __rmul__(self, other):\n",
    "        return self * other\n",
    "        \n",
    "    def __truediv__(self, other):\n",
    "        if isinstance(other, TimeSeries):\n",
    "            return TimeSeries(self.data / other.data)\n",
    "        elif isinstance(other, int):\n",
    "            return TimeSeries(self.data / other)\n",
    "        elif isinstance(other, float):\n",
    "            return TimeSeries(self.data / other)\n",
    "        elif isinstance(other, np.ndarray):\n",
    "            return TimeSeries(self.data / other)\n",
    "    \n",
    "    def __floordiv__(self, other):\n",
    "        if isinstance(other, TimeSeries):\n",
    "            return TimeSeries(self.data // other.data)\n",
    "        elif isinstance(other, int):\n",
    "            return TimeSeries(self.data // other)\n",
    "        elif isinstance(other, float):\n",
    "            return TimeSeries(self.data // other)\n",
    "        elif isinstance(other, np.ndarray):\n",
    "            return TimeSeries(self.data // other)\n",
    "        \n",
    "    def __pow__(self, other):\n",
    "        if isinstance(other, TimeSeries):\n",
    "            return TimeSeries(self.data ** other.data)\n",
    "        elif isinstance(other, int):\n",
    "            return TimeSeries(self.data ** other)\n",
    "        elif isinstance(other, float):\n",
    "            return TimeSeries(self.data ** other)\n",
    "        elif isinstance(other, np.ndarray):\n",
    "            return TimeSeries(self.data ** other)\n",
    "    \n",
    "    def __neg__(self):\n",
    "        return TimeSeries(-self.data)\n",
    "    \n",
    "    def __repr__(self):\n",
    "        return str(self.data)\n",
    "    \n",
    "    def __len__(self):\n",
    "        return len(self.data)\n",
    "    \n",
    "    def append(self, other):\n",
    "        self.data = np.append(self.data, other)\n",
    "        return self\n",
    "    \n",
    "    def extend(self, other):\n",
    "        self.data = np.append(self.data, other.data)\n",
    "        return self\n",
    "    \n",
    "    def size(self):\n",
    "        return len(self.data)\n",
    "    \n",
    "    def get_data(self):\n",
    "        return self.data"
   ]
  },
  {
   "cell_type": "code",
   "execution_count": 20,
   "metadata": {},
   "outputs": [],
   "source": [
    "bunch = load_basic_motions()"
   ]
  },
  {
   "cell_type": "code",
   "execution_count": 22,
   "metadata": {},
   "outputs": [
    {
     "data": {
      "text/plain": [
       "array([[[ 7.910600e-02,  7.910600e-02, -9.034970e-01, ...,\n",
       "         -1.932710e-01, -1.932710e-01, -2.051500e-01],\n",
       "        [ 3.940320e-01,  3.940320e-01, -3.666397e+00, ...,\n",
       "          5.522700e-02,  5.522700e-02, -3.390000e-03],\n",
       "        [ 5.514440e-01,  5.514440e-01, -2.828440e-01, ...,\n",
       "         -4.153000e-02, -4.153000e-02, -1.511300e-02],\n",
       "        [ 3.515650e-01,  3.515650e-01, -9.588100e-02, ...,\n",
       "          0.000000e+00,  0.000000e+00, -7.990000e-03],\n",
       "        [ 2.397000e-02,  2.397000e-02, -3.196050e-01, ...,\n",
       "         -1.331700e-02, -1.331700e-02, -1.065300e-02],\n",
       "        [ 6.338830e-01,  6.338830e-01,  9.721310e-01, ...,\n",
       "         -6.392100e-02, -6.392100e-02, -3.196000e-02]],\n",
       "\n",
       "       [[ 3.777510e-01,  3.777510e-01,  2.952965e+00, ...,\n",
       "         -3.233830e-01, -3.336250e-01, -3.336250e-01],\n",
       "        [-6.108500e-01, -6.108500e-01,  9.707170e-01, ...,\n",
       "         -9.859300e-02, -2.159870e-01, -2.159870e-01],\n",
       "        [-1.473760e-01, -1.473760e-01, -5.962515e+00, ...,\n",
       "          6.305100e-02, -8.480000e-04, -8.480000e-04],\n",
       "        [-1.038720e-01, -1.038720e-01, -7.593275e+00, ...,\n",
       "         -1.864400e-02, -7.990000e-03, -7.990000e-03],\n",
       "        [-1.091980e-01, -1.091980e-01, -6.978040e-01, ...,\n",
       "         -1.065300e-02,  1.598000e-02,  1.598000e-02],\n",
       "        [-3.728700e-02, -3.728700e-02, -2.865789e+00, ...,\n",
       "         -1.358320e-01,  3.462400e-02,  3.462400e-02]],\n",
       "\n",
       "       [[-8.139050e-01, -8.139050e-01, -4.246280e-01, ...,\n",
       "         -2.064400e-01, -5.442550e-01, -5.442550e-01],\n",
       "        [ 8.256660e-01,  8.256660e-01, -1.305033e+00, ...,\n",
       "          2.090630e-01, -5.588470e-01, -5.588470e-01],\n",
       "        [ 3.271200e-02,  3.271200e-02,  8.261700e-01, ...,\n",
       "          6.791020e-01,  3.790320e-01,  3.790320e-01],\n",
       "        [ 2.130700e-02,  2.130700e-02, -3.728720e-01, ...,\n",
       "          2.796540e-01,  1.598020e-01,  1.598020e-01],\n",
       "        [ 1.225150e-01,  1.225150e-01, -4.527700e-02, ...,\n",
       "         -3.196000e-02,  1.145250e-01,  1.145250e-01],\n",
       "        [ 7.750410e-01,  7.750410e-01,  3.835260e-01, ...,\n",
       "         -3.728720e-01, -4.234760e-01, -4.234760e-01]],\n",
       "\n",
       "       ...,\n",
       "\n",
       "       [[ 1.142016e+00,  1.142016e+00,  8.407270e-01, ...,\n",
       "          1.268257e+00,  3.277860e-01,  3.277860e-01],\n",
       "        [ 1.018433e+00,  1.018433e+00, -2.015249e+00, ...,\n",
       "         -1.155381e+00, -1.206540e-01, -1.206540e-01],\n",
       "        [ 6.775930e-01,  6.775930e-01, -7.428280e-01, ...,\n",
       "          3.632890e+00,  1.350160e+00,  1.350160e+00],\n",
       "        [ 1.757830e-01,  1.757830e-01,  1.611340e+00, ...,\n",
       "          5.912690e-01, -4.421200e-01, -4.421200e-01],\n",
       "        [-4.607630e-01, -4.607630e-01, -1.358320e+00, ...,\n",
       "          1.869688e+00,  3.526305e+00,  3.526305e+00],\n",
       "        [ 6.791600e-01,  6.791600e-01,  2.615432e+00, ...,\n",
       "          5.992590e-01,  1.472845e+00,  1.472845e+00]],\n",
       "\n",
       "       [[-3.960600e-01, -3.960600e-01, -2.680220e-01, ...,\n",
       "          8.733640e-01, -5.607000e-03, -5.607000e-03],\n",
       "        [-6.868780e-01, -6.868780e-01,  1.035100e-01, ...,\n",
       "         -2.683228e+00, -2.185891e+00, -2.185891e+00],\n",
       "        [-3.503280e-01, -3.503280e-01, -1.281489e+00, ...,\n",
       "          5.551190e-01,  1.224647e+00,  1.224647e+00],\n",
       "        [-1.571390e-01, -1.571390e-01,  2.743270e-01, ...,\n",
       "          4.314660e-01,  1.102636e+00,  1.102636e+00],\n",
       "        [-5.859400e-02, -5.859400e-02, -4.714170e-01, ...,\n",
       "         -6.179020e-01, -1.273092e+00, -1.273092e+00],\n",
       "        [ 1.518120e-01,  1.518120e-01,  3.329220e-01, ...,\n",
       "          3.196050e-01,  9.774580e-01,  9.774580e-01]],\n",
       "\n",
       "       [[ 1.211973e+00,  1.211973e+00, -6.059480e-01, ...,\n",
       "          2.490353e+00,  4.122120e+00,  3.169270e+00],\n",
       "        [-2.471070e-01, -2.471070e-01, -3.855673e+00, ...,\n",
       "         -8.787650e-01,  9.116200e-01,  8.269340e-01],\n",
       "        [ 3.278370e-01,  3.278370e-01,  7.113185e+00, ...,\n",
       "         -5.972960e-01, -4.654090e-01, -3.620360e-01],\n",
       "        [ 5.859400e-02,  5.859400e-02,  9.002200e-01, ...,\n",
       "          1.118620e-01,  5.353380e-01, -2.982980e-01],\n",
       "        [-5.273480e-01, -5.273480e-01, -1.326360e+00, ...,\n",
       "         -1.171880e-01,  1.970900e-01,  2.503570e-01],\n",
       "        [-4.261400e-02, -4.261400e-02, -9.588100e-02, ...,\n",
       "         -5.060400e-02,  4.421200e-01,  4.288030e-01]]])"
      ]
     },
     "execution_count": 22,
     "metadata": {},
     "output_type": "execute_result"
    }
   ],
   "source": [
    "bunch.data_train"
   ]
  },
  {
   "cell_type": "code",
   "execution_count": 25,
   "metadata": {},
   "outputs": [
    {
     "name": "stdout",
     "output_type": "stream",
     "text": [
      "----- Start size insensitive rfcm -----\n",
      "Convergence in 7 iterations, difference is 0.4520571287648398\n",
      "----- Start noise resistant rfcm -----\n",
      "Convergence in 3 iterations, difference is 0.21709520208794272\n"
     ]
    },
    {
     "data": {
      "text/html": [
       "<style>#sk-container-id-1 {color: black;background-color: white;}#sk-container-id-1 pre{padding: 0;}#sk-container-id-1 div.sk-toggleable {background-color: white;}#sk-container-id-1 label.sk-toggleable__label {cursor: pointer;display: block;width: 100%;margin-bottom: 0;padding: 0.3em;box-sizing: border-box;text-align: center;}#sk-container-id-1 label.sk-toggleable__label-arrow:before {content: \"▸\";float: left;margin-right: 0.25em;color: #696969;}#sk-container-id-1 label.sk-toggleable__label-arrow:hover:before {color: black;}#sk-container-id-1 div.sk-estimator:hover label.sk-toggleable__label-arrow:before {color: black;}#sk-container-id-1 div.sk-toggleable__content {max-height: 0;max-width: 0;overflow: hidden;text-align: left;background-color: #f0f8ff;}#sk-container-id-1 div.sk-toggleable__content pre {margin: 0.2em;color: black;border-radius: 0.25em;background-color: #f0f8ff;}#sk-container-id-1 input.sk-toggleable__control:checked~div.sk-toggleable__content {max-height: 200px;max-width: 100%;overflow: auto;}#sk-container-id-1 input.sk-toggleable__control:checked~label.sk-toggleable__label-arrow:before {content: \"▾\";}#sk-container-id-1 div.sk-estimator input.sk-toggleable__control:checked~label.sk-toggleable__label {background-color: #d4ebff;}#sk-container-id-1 div.sk-label input.sk-toggleable__control:checked~label.sk-toggleable__label {background-color: #d4ebff;}#sk-container-id-1 input.sk-hidden--visually {border: 0;clip: rect(1px 1px 1px 1px);clip: rect(1px, 1px, 1px, 1px);height: 1px;margin: -1px;overflow: hidden;padding: 0;position: absolute;width: 1px;}#sk-container-id-1 div.sk-estimator {font-family: monospace;background-color: #f0f8ff;border: 1px dotted black;border-radius: 0.25em;box-sizing: border-box;margin-bottom: 0.5em;}#sk-container-id-1 div.sk-estimator:hover {background-color: #d4ebff;}#sk-container-id-1 div.sk-parallel-item::after {content: \"\";width: 100%;border-bottom: 1px solid gray;flex-grow: 1;}#sk-container-id-1 div.sk-label:hover label.sk-toggleable__label {background-color: #d4ebff;}#sk-container-id-1 div.sk-serial::before {content: \"\";position: absolute;border-left: 1px solid gray;box-sizing: border-box;top: 0;bottom: 0;left: 50%;z-index: 0;}#sk-container-id-1 div.sk-serial {display: flex;flex-direction: column;align-items: center;background-color: white;padding-right: 0.2em;padding-left: 0.2em;position: relative;}#sk-container-id-1 div.sk-item {position: relative;z-index: 1;}#sk-container-id-1 div.sk-parallel {display: flex;align-items: stretch;justify-content: center;background-color: white;position: relative;}#sk-container-id-1 div.sk-item::before, #sk-container-id-1 div.sk-parallel-item::before {content: \"\";position: absolute;border-left: 1px solid gray;box-sizing: border-box;top: 0;bottom: 0;left: 50%;z-index: -1;}#sk-container-id-1 div.sk-parallel-item {display: flex;flex-direction: column;z-index: 1;position: relative;background-color: white;}#sk-container-id-1 div.sk-parallel-item:first-child::after {align-self: flex-end;width: 50%;}#sk-container-id-1 div.sk-parallel-item:last-child::after {align-self: flex-start;width: 50%;}#sk-container-id-1 div.sk-parallel-item:only-child::after {width: 0;}#sk-container-id-1 div.sk-dashed-wrapped {border: 1px dashed gray;margin: 0 0.4em 0.5em 0.4em;box-sizing: border-box;padding-bottom: 0.4em;background-color: white;}#sk-container-id-1 div.sk-label label {font-family: monospace;font-weight: bold;display: inline-block;line-height: 1.2em;}#sk-container-id-1 div.sk-label-container {text-align: center;}#sk-container-id-1 div.sk-container {/* jupyter's `normalize.less` sets `[hidden] { display: none; }` but bootstrap.min.css set `[hidden] { display: none !important; }` so we also need the `!important` here to be able to override the default hidden behavior on the sphinx rendered scikit-learn.org. See: https://github.com/scikit-learn/scikit-learn/issues/21755 */display: inline-block !important;position: relative;}#sk-container-id-1 div.sk-text-repr-fallback {display: none;}</style><div id=\"sk-container-id-1\" class=\"sk-top-container\"><div class=\"sk-text-repr-fallback\"><pre>RFCM(n_clusters=3)</pre><b>In a Jupyter environment, please rerun this cell to show the HTML representation or trust the notebook. <br />On GitHub, the HTML representation is unable to render, please try loading this page with nbviewer.org.</b></div><div class=\"sk-container\" hidden><div class=\"sk-item\"><div class=\"sk-estimator sk-toggleable\"><input class=\"sk-toggleable__control sk-hidden--visually\" id=\"sk-estimator-id-1\" type=\"checkbox\" checked><label for=\"sk-estimator-id-1\" class=\"sk-toggleable__label sk-toggleable__label-arrow\">RFCM</label><div class=\"sk-toggleable__content\"><pre>RFCM(n_clusters=3)</pre></div></div></div></div></div>"
      ],
      "text/plain": [
       "RFCM(n_clusters=3)"
      ]
     },
     "execution_count": 25,
     "metadata": {},
     "output_type": "execute_result"
    }
   ],
   "source": [
    "model = RFCM(n_clusters=3)\n",
    "model.fit(bunch.data_train)"
   ]
  },
  {
   "cell_type": "code",
   "execution_count": 26,
   "metadata": {},
   "outputs": [
    {
     "data": {
      "text/plain": [
       "array([2, 2, 2, 2, 2, 2, 1, 2, 2, 2, 1, 1, 1, 1, 1, 1, 1, 1, 1, 1, 1, 1,\n",
       "       1, 1, 1, 1, 1, 1, 1, 1, 1, 1, 1, 1, 1, 1, 1, 1, 1, 1], dtype=int64)"
      ]
     },
     "execution_count": 26,
     "metadata": {},
     "output_type": "execute_result"
    }
   ],
   "source": [
    "model.labels_"
   ]
  },
  {
   "cell_type": "code",
   "execution_count": 4,
   "metadata": {},
   "outputs": [
    {
     "data": {
      "text/plain": [
       "array([[[ 7.910600e-02,  7.910600e-02, -9.034970e-01, ...,\n",
       "         -1.932710e-01, -1.932710e-01, -2.051500e-01],\n",
       "        [ 3.940320e-01,  3.940320e-01, -3.666397e+00, ...,\n",
       "          5.522700e-02,  5.522700e-02, -3.390000e-03],\n",
       "        [ 5.514440e-01,  5.514440e-01, -2.828440e-01, ...,\n",
       "         -4.153000e-02, -4.153000e-02, -1.511300e-02],\n",
       "        [ 3.515650e-01,  3.515650e-01, -9.588100e-02, ...,\n",
       "          0.000000e+00,  0.000000e+00, -7.990000e-03],\n",
       "        [ 2.397000e-02,  2.397000e-02, -3.196050e-01, ...,\n",
       "         -1.331700e-02, -1.331700e-02, -1.065300e-02],\n",
       "        [ 6.338830e-01,  6.338830e-01,  9.721310e-01, ...,\n",
       "         -6.392100e-02, -6.392100e-02, -3.196000e-02]],\n",
       "\n",
       "       [[ 3.777510e-01,  3.777510e-01,  2.952965e+00, ...,\n",
       "         -3.233830e-01, -3.336250e-01, -3.336250e-01],\n",
       "        [-6.108500e-01, -6.108500e-01,  9.707170e-01, ...,\n",
       "         -9.859300e-02, -2.159870e-01, -2.159870e-01],\n",
       "        [-1.473760e-01, -1.473760e-01, -5.962515e+00, ...,\n",
       "          6.305100e-02, -8.480000e-04, -8.480000e-04],\n",
       "        [-1.038720e-01, -1.038720e-01, -7.593275e+00, ...,\n",
       "         -1.864400e-02, -7.990000e-03, -7.990000e-03],\n",
       "        [-1.091980e-01, -1.091980e-01, -6.978040e-01, ...,\n",
       "         -1.065300e-02,  1.598000e-02,  1.598000e-02],\n",
       "        [-3.728700e-02, -3.728700e-02, -2.865789e+00, ...,\n",
       "         -1.358320e-01,  3.462400e-02,  3.462400e-02]],\n",
       "\n",
       "       [[-8.139050e-01, -8.139050e-01, -4.246280e-01, ...,\n",
       "         -2.064400e-01, -5.442550e-01, -5.442550e-01],\n",
       "        [ 8.256660e-01,  8.256660e-01, -1.305033e+00, ...,\n",
       "          2.090630e-01, -5.588470e-01, -5.588470e-01],\n",
       "        [ 3.271200e-02,  3.271200e-02,  8.261700e-01, ...,\n",
       "          6.791020e-01,  3.790320e-01,  3.790320e-01],\n",
       "        [ 2.130700e-02,  2.130700e-02, -3.728720e-01, ...,\n",
       "          2.796540e-01,  1.598020e-01,  1.598020e-01],\n",
       "        [ 1.225150e-01,  1.225150e-01, -4.527700e-02, ...,\n",
       "         -3.196000e-02,  1.145250e-01,  1.145250e-01],\n",
       "        [ 7.750410e-01,  7.750410e-01,  3.835260e-01, ...,\n",
       "         -3.728720e-01, -4.234760e-01, -4.234760e-01]],\n",
       "\n",
       "       ...,\n",
       "\n",
       "       [[ 1.142016e+00,  1.142016e+00,  8.407270e-01, ...,\n",
       "          1.268257e+00,  3.277860e-01,  3.277860e-01],\n",
       "        [ 1.018433e+00,  1.018433e+00, -2.015249e+00, ...,\n",
       "         -1.155381e+00, -1.206540e-01, -1.206540e-01],\n",
       "        [ 6.775930e-01,  6.775930e-01, -7.428280e-01, ...,\n",
       "          3.632890e+00,  1.350160e+00,  1.350160e+00],\n",
       "        [ 1.757830e-01,  1.757830e-01,  1.611340e+00, ...,\n",
       "          5.912690e-01, -4.421200e-01, -4.421200e-01],\n",
       "        [-4.607630e-01, -4.607630e-01, -1.358320e+00, ...,\n",
       "          1.869688e+00,  3.526305e+00,  3.526305e+00],\n",
       "        [ 6.791600e-01,  6.791600e-01,  2.615432e+00, ...,\n",
       "          5.992590e-01,  1.472845e+00,  1.472845e+00]],\n",
       "\n",
       "       [[-3.960600e-01, -3.960600e-01, -2.680220e-01, ...,\n",
       "          8.733640e-01, -5.607000e-03, -5.607000e-03],\n",
       "        [-6.868780e-01, -6.868780e-01,  1.035100e-01, ...,\n",
       "         -2.683228e+00, -2.185891e+00, -2.185891e+00],\n",
       "        [-3.503280e-01, -3.503280e-01, -1.281489e+00, ...,\n",
       "          5.551190e-01,  1.224647e+00,  1.224647e+00],\n",
       "        [-1.571390e-01, -1.571390e-01,  2.743270e-01, ...,\n",
       "          4.314660e-01,  1.102636e+00,  1.102636e+00],\n",
       "        [-5.859400e-02, -5.859400e-02, -4.714170e-01, ...,\n",
       "         -6.179020e-01, -1.273092e+00, -1.273092e+00],\n",
       "        [ 1.518120e-01,  1.518120e-01,  3.329220e-01, ...,\n",
       "          3.196050e-01,  9.774580e-01,  9.774580e-01]],\n",
       "\n",
       "       [[ 1.211973e+00,  1.211973e+00, -6.059480e-01, ...,\n",
       "          2.490353e+00,  4.122120e+00,  3.169270e+00],\n",
       "        [-2.471070e-01, -2.471070e-01, -3.855673e+00, ...,\n",
       "         -8.787650e-01,  9.116200e-01,  8.269340e-01],\n",
       "        [ 3.278370e-01,  3.278370e-01,  7.113185e+00, ...,\n",
       "         -5.972960e-01, -4.654090e-01, -3.620360e-01],\n",
       "        [ 5.859400e-02,  5.859400e-02,  9.002200e-01, ...,\n",
       "          1.118620e-01,  5.353380e-01, -2.982980e-01],\n",
       "        [-5.273480e-01, -5.273480e-01, -1.326360e+00, ...,\n",
       "         -1.171880e-01,  1.970900e-01,  2.503570e-01],\n",
       "        [-4.261400e-02, -4.261400e-02, -9.588100e-02, ...,\n",
       "         -5.060400e-02,  4.421200e-01,  4.288030e-01]]])"
      ]
     },
     "execution_count": 4,
     "metadata": {},
     "output_type": "execute_result"
    }
   ],
   "source": [
    "bunch.data_train"
   ]
  },
  {
   "cell_type": "code",
   "execution_count": 19,
   "metadata": {},
   "outputs": [
    {
     "data": {
      "text/plain": [
       "(40, 6)"
      ]
     },
     "execution_count": 19,
     "metadata": {},
     "output_type": "execute_result"
    }
   ],
   "source": [
    "X = bunch.data_train\n",
    "\n",
    "a = []\n",
    "for x in X:\n",
    "    b = []\n",
    "    for y in x:\n",
    "        b.append(TimeSeries(y))\n",
    "    a.append(b)\n",
    "\n",
    "a = np.array(a)\n",
    "a.shape"
   ]
  },
  {
   "cell_type": "code",
   "execution_count": 16,
   "metadata": {},
   "outputs": [
    {
     "ename": "TypeError",
     "evalue": "float() argument must be a string or a real number, not 'TimeSeries'",
     "output_type": "error",
     "traceback": [
      "\u001b[1;31m---------------------------------------------------------------------------\u001b[0m",
      "\u001b[1;31mTypeError\u001b[0m                                 Traceback (most recent call last)",
      "Cell \u001b[1;32mIn[16], line 3\u001b[0m\n\u001b[0;32m      1\u001b[0m \u001b[39mwith\u001b[39;00m np\u001b[39m.\u001b[39mnditer(X, op_flags\u001b[39m=\u001b[39m[\u001b[39m'\u001b[39m\u001b[39mreadwrite\u001b[39m\u001b[39m'\u001b[39m]) \u001b[39mas\u001b[39;00m it:\n\u001b[0;32m      2\u001b[0m     \u001b[39mfor\u001b[39;00m x \u001b[39min\u001b[39;00m it:\n\u001b[1;32m----> 3\u001b[0m         x[\u001b[39m.\u001b[39;49m\u001b[39m.\u001b[39;49m\u001b[39m.\u001b[39;49m] \u001b[39m=\u001b[39m TimeSeries(x)\n\u001b[0;32m      5\u001b[0m X\n",
      "\u001b[1;31mTypeError\u001b[0m: float() argument must be a string or a real number, not 'TimeSeries'"
     ]
    }
   ],
   "source": [
    "with np.nditer(X, op_flags=['readwrite']) as it:\n",
    "    for x in it:\n",
    "        x[...] = TimeSeries(x)\n",
    "        \n",
    "X"
   ]
  }
 ],
 "metadata": {
  "kernelspec": {
   "display_name": "Python 3",
   "language": "python",
   "name": "python3"
  },
  "language_info": {
   "codemirror_mode": {
    "name": "ipython",
    "version": 3
   },
   "file_extension": ".py",
   "mimetype": "text/x-python",
   "name": "python",
   "nbconvert_exporter": "python",
   "pygments_lexer": "ipython3",
   "version": "3.10.9"
  },
  "orig_nbformat": 4,
  "vscode": {
   "interpreter": {
    "hash": "d02331cd1603ec76c6a0d691d59c880477777fc72f4efeafcd9cb0c05515e5a1"
   }
  }
 },
 "nbformat": 4,
 "nbformat_minor": 2
}
