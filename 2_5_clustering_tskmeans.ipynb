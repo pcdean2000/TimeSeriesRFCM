{
 "cells": [
  {
   "cell_type": "code",
   "execution_count": 1,
   "metadata": {},
   "outputs": [],
   "source": [
    "import os\n",
    "import warnings\n",
    "warnings.filterwarnings('ignore')\n",
    "\n",
    "import numpy as np\n",
    "\n",
    "from glob import glob\n",
    "from pathlib import Path\n",
    "from tslearn.utils import from_pyts_dataset\n",
    "from tslearn.clustering import TimeSeriesKMeans\n",
    "\n",
    "INTERVAL = 5"
   ]
  },
  {
   "cell_type": "code",
   "execution_count": 2,
   "metadata": {},
   "outputs": [],
   "source": [
    "def dropna(nparray):\n",
    "    if isinstance(nparray[0], np.ndarray):\n",
    "        return np.array([dropna(x) for x in nparray])\n",
    "    else:\n",
    "        return nparray[~np.isnan(nparray)]"
   ]
  },
  {
   "cell_type": "code",
   "execution_count": 3,
   "metadata": {},
   "outputs": [
    {
     "name": "stdout",
     "output_type": "stream",
     "text": [
      "Dir:  timeseries\\interval_5_src_feature\n",
      "\tPyts dataset shape:  (101016, 8, 181)\n",
      "\tTslearn dataset shape:  (101016, 181, 8)\n",
      "76772246966926225440768.000 --> 36624960196771135356928.000 --> 32130861322283245371392.000 --> 36547212140120572428288.000 --> 36550757484587082842112.000 --> 36557637590872995397632.000 --> 36566000631794548867072.000 --> 36605744857235270402048.000 --> 36627234254307729604608.000 --> 36653401873314553528320.000 --> \n",
      "\tTslearn kmeans shape:  (101016,)\n",
      "Dir:  timeseries\\interval_5_src_feature_reconstructed_STL_combined\n",
      "\tPyts dataset shape:  (101016, 8, 175)\n",
      "\tTslearn dataset shape:  (101016, 175, 8)\n",
      "36836159339477057142784.000 --> 3682119728639570345984.000 --> 3136108509514793222144.000 --> 3137355475543825317888.000 --> 3181535917854744379392.000 --> 3179449505755210711040.000 --> 3180244755535407611904.000 --> 3179528451675819868160.000 --> 3180822171477112520704.000 --> 3180322398178939240448.000 --> \n",
      "\tTslearn kmeans shape:  (101016,)\n",
      "Dir:  timeseries\\interval_5_src_feature_reconstructed_STL_detrend\n",
      "\tPyts dataset shape:  (101016, 8, 181)\n",
      "\tTslearn dataset shape:  (101016, 181, 8)\n",
      "8084712285170392104960.000 --> 5139874718150498975744.000 --> 5155613583133250682880.000 --> 5224486507694248689664.000 --> 5262371817046883172352.000 --> 5126405570450228772864.000 --> 5209012986051038281728.000 --> 5209704845511942471680.000 --> 5206221084762093649920.000 --> 5206802823097405669376.000 --> \n",
      "\tTslearn kmeans shape:  (101016,)\n",
      "Dir:  timeseries\\interval_5_src_feature_reconstructed_STL_seasonal\n",
      "\tPyts dataset shape:  (101016, 8, 181)\n",
      "\tTslearn dataset shape:  (101016, 181, 8)\n",
      "2276472559610773504.000 --> 1091493270015590400.000 --> 1135473162770859776.000 --> 1212651517866327296.000 --> 1213170013293856512.000 --> 1213697706651344896.000 --> 1214226220919466752.000 --> 1214341468985333760.000 --> 1214463128539119872.000 --> 1214932512431243776.000 --> \n",
      "\tTslearn kmeans shape:  (101016,)\n",
      "Dir:  timeseries\\interval_5_src_feature_reconstructed_STL_trend\n",
      "\tPyts dataset shape:  (101016, 8, 175)\n",
      "\tTslearn dataset shape:  (101016, 175, 8)\n",
      "44656649196314524909568.000 --> 5098621632014540865536.000 --> 3792591984135770210304.000 --> 3788611909080850628608.000 --> 3787759794839776395264.000 --> 3787520858402242166784.000 --> 3786895119784490303488.000 --> 3786365487172181032960.000 --> 3710676141635377561600.000 --> 3709203541881188777984.000 --> \n",
      "\tTslearn kmeans shape:  (101016,)\n"
     ]
    }
   ],
   "source": [
    "for direction in [\"src\"]:\n",
    "    for dirname in glob(Path(f'timeseries/interval_{INTERVAL}_{direction}*').__str__()):\n",
    "        print(\"Dir: \", dirname)\n",
    "        if os.path.exists(os.path.join(dirname, \"tslearn_kmeans.npy\")):\n",
    "            continue\n",
    "        pyts_dataset = np.load(os.path.join(dirname, \"pyts_dataset.npy\"))\n",
    "        pyts_dataset = dropna(pyts_dataset)\n",
    "        print(\"\\tPyts dataset shape: \", pyts_dataset.shape)\n",
    "        X = from_pyts_dataset(pyts_dataset)\n",
    "        print(\"\\tTslearn dataset shape: \", X.shape)\n",
    "        model = TimeSeriesKMeans(n_clusters=10, metric=\"softdtw\", verbose=True, random_state=10, n_jobs=4, max_iter=10, tol=1e-3)\n",
    "        y_pred = model.fit_predict(X)\n",
    "        np.save(os.path.join(dirname, \"tslearn_tskmeans.npy\"), y_pred)\n",
    "        print(\"\\tTslearn kmeans shape: \", y_pred.shape)\n",
    "        del pyts_dataset, model, X, y_pred"
   ]
  },
  {
   "cell_type": "code",
   "execution_count": 4,
   "metadata": {},
   "outputs": [],
   "source": [
    "# pyts_timeseries = np.load(f\"interval{INTERVAL}_reconstructed_STL_trend_ts/200702111400/pyts_dataset.npy\")\n",
    "# pyts_timeseries.shape"
   ]
  },
  {
   "cell_type": "code",
   "execution_count": 5,
   "metadata": {},
   "outputs": [],
   "source": [
    "# tslearn_timeseries = from_pyts_dataset(pyts_timeseries)\n",
    "# tslearn_timeseries.shape"
   ]
  },
  {
   "cell_type": "code",
   "execution_count": 6,
   "metadata": {},
   "outputs": [],
   "source": [
    "# model = TimeSeriesKMeans(n_clusters=10, metric=\"softdtw\", max_iter=10, metric_params={\"gamma\": .01})\n",
    "# model.fit(tslearn_timeseries)\n",
    "# labels = model.labels_"
   ]
  },
  {
   "cell_type": "code",
   "execution_count": 7,
   "metadata": {},
   "outputs": [],
   "source": [
    "# np.asarray(np.unique(labels, return_counts=True)).T"
   ]
  },
  {
   "cell_type": "code",
   "execution_count": 8,
   "metadata": {},
   "outputs": [],
   "source": [
    "# np.save(f\"interval{INTERVAL}_reconstructed_STL_trend_ts/200702111400/labels.npy\", labels)"
   ]
  },
  {
   "cell_type": "code",
   "execution_count": 9,
   "metadata": {},
   "outputs": [],
   "source": [
    "# Save model\n",
    "# model.to_pickle(f\"interval{INTERVAL}_reconstructed_STL_trend_ts/200702111400/model.pkl\")"
   ]
  }
 ],
 "metadata": {
  "kernelspec": {
   "display_name": "Python 3",
   "language": "python",
   "name": "python3"
  },
  "language_info": {
   "codemirror_mode": {
    "name": "ipython",
    "version": 3
   },
   "file_extension": ".py",
   "mimetype": "text/x-python",
   "name": "python",
   "nbconvert_exporter": "python",
   "pygments_lexer": "ipython3",
   "version": "3.10.9"
  },
  "orig_nbformat": 4,
  "vscode": {
   "interpreter": {
    "hash": "d02331cd1603ec76c6a0d691d59c880477777fc72f4efeafcd9cb0c05515e5a1"
   }
  }
 },
 "nbformat": 4,
 "nbformat_minor": 2
}
