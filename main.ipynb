{
 "cells": [
  {
   "cell_type": "code",
   "execution_count": 1,
   "metadata": {},
   "outputs": [],
   "source": [
    "import pandas as pd\n",
    "import numpy as np\n",
    "import matplotlib.pyplot as plt\n",
    "\n",
    "import pickle\n",
    "\n",
    "from datetime import datetime\n",
    "\n",
    "from pfcm.PFCM import pfcm, pfcm_predict\n",
    "\n",
    "from combo.models.cluster_eac import EAC\n",
    "from combo.utils.example import visualize_clusters\n",
    "\n",
    "window_size = 30\n",
    "shift = 30\n",
    "idx = pd.date_range(start=datetime(2021, 1, 3, 13, 0, 0), end=datetime(2021, 1, 3, 13, 14, 55), freq=\"{}s\".format(shift))"
   ]
  },
  {
   "cell_type": "markdown",
   "metadata": {},
   "source": [
    "### 資料時間序列特徵"
   ]
  },
  {
   "cell_type": "markdown",
   "metadata": {},
   "source": [
    "- 讀取原始資料"
   ]
  },
  {
   "cell_type": "code",
   "execution_count": null,
   "metadata": {},
   "outputs": [],
   "source": [
    "# ts        Start time              2021-02-02 13:00:00\n",
    "# td        Duration                0.347\n",
    "# sa        Source Address          155.150.16.184\n",
    "# da        Destination Address     163.34.157.27\n",
    "# sp        Source Port             80\n",
    "# dp        Destination Port        50952\n",
    "# pr        Protocol                TCP\n",
    "# stos      Src Tos                 0\n",
    "# ipkt      Input Packets           1598\n",
    "# ibyt      Input Bytes             2394418\n",
    "\n",
    "dt = {\n",
    "    \"ts\": np.dtype(\"datetime64\"),\n",
    "    \"td\": \"float\",\n",
    "    \"sa\": \"str\",\n",
    "    \"da\": \"str\",\n",
    "    \"sp\": \"int\",\n",
    "    \"dp\": \"int\",\n",
    "    \"pr\": \"str\",\n",
    "    \"stos\": \"int\",\n",
    "    \"ipkt\": \"float\",\n",
    "    \"ibyt\": \"float\",\n",
    "}\n",
    "\n",
    "df = pd.read_csv(\"20210103.csv\")\n",
    "df = df[:df[df[\"ts\"] == \"Summary\"].index.item()]\n",
    "df = df[dt.keys()]\n",
    "df = df.astype(dt)"
   ]
  },
  {
   "cell_type": "markdown",
   "metadata": {},
   "source": [
    "- 加上 IP pair 屬性"
   ]
  },
  {
   "cell_type": "code",
   "execution_count": null,
   "metadata": {},
   "outputs": [],
   "source": [
    "# nSrcPort      Number of unique source port\n",
    "# nDstPort      Number of unique destination port\n",
    "# rSrcDstPort   Ratio of nSrcPort to nDstPort\n",
    "# nPkt          Number of packets\n",
    "# nByte         Number of bytes sent\n",
    "# avgPktRate    Average packet transmission rate\n",
    "# avgByteRate   Average transmission rate\n",
    "\n",
    "df[\"sa_da_pair\"] = df[\"sa\"] + \"_\" + df[\"da\"]"
   ]
  },
  {
   "cell_type": "code",
   "execution_count": null,
   "metadata": {},
   "outputs": [],
   "source": [
    "df.groupby(\"sa\").filter(lambda x: len(x) > 1)[\"sa\"].value_counts()"
   ]
  },
  {
   "cell_type": "markdown",
   "metadata": {},
   "source": [
    "- 資料暫存"
   ]
  },
  {
   "cell_type": "code",
   "execution_count": null,
   "metadata": {},
   "outputs": [],
   "source": [
    "df.to_csv(\"20210103_pair.csv\", index=False)"
   ]
  },
  {
   "cell_type": "markdown",
   "metadata": {},
   "source": [
    "- 讀取暫存資料"
   ]
  },
  {
   "cell_type": "code",
   "execution_count": null,
   "metadata": {},
   "outputs": [],
   "source": [
    "dt = {\n",
    "    \"ts\": np.dtype(\"datetime64\"),\n",
    "    \"td\": \"float\",\n",
    "    \"sa\": \"str\",\n",
    "    \"da\": \"str\",\n",
    "    \"sp\": \"int\",\n",
    "    \"dp\": \"int\",\n",
    "    \"pr\": \"str\",\n",
    "    \"stos\": \"int\",\n",
    "    \"ipkt\": \"float\",\n",
    "    \"ibyt\": \"float\",\n",
    "}\n",
    "df = pd.read_csv(\"20210103_pair.csv\")\n",
    "df = df.astype(dt)"
   ]
  },
  {
   "cell_type": "markdown",
   "metadata": {},
   "source": [
    "- 以 30 秒為單位形成個時間 time window 的資料\n",
    "  - **未來需測試其他時間長度的 time window**"
   ]
  },
  {
   "cell_type": "code",
   "execution_count": null,
   "metadata": {},
   "outputs": [],
   "source": [
    "df_time_series = []\n",
    "index = 0\n",
    "\n",
    "for start_time in idx:\n",
    "    end_time = start_time + pd.Timedelta(seconds=window_size)\n",
    "    df_time = df[(df[\"ts\"] >= start_time) & (df[\"ts\"] <= end_time)]\n",
    "    df_time = df_time.groupby(\"sa_da_pair\").agg(\n",
    "        {\n",
    "            \"ipkt\": \"sum\",\n",
    "            \"ibyt\": \"sum\",\n",
    "            \"sp\": \"nunique\",\n",
    "            \"dp\": \"nunique\",\n",
    "            \"pr\": \"nunique\",\n",
    "            \"stos\": \"nunique\",\n",
    "        }\n",
    "    )\n",
    "    df_time[\"nPkt\"] = df_time[\"ipkt\"]\n",
    "    df_time[\"nByte\"] = df_time[\"ibyt\"]\n",
    "    df_time[\"nSrcPort\"] = df_time[\"sp\"]\n",
    "    df_time[\"nDstPort\"] = df_time[\"dp\"]\n",
    "    df_time[\"rSrcDstPort\"] = df_time[\"nSrcPort\"] / df_time[\"nDstPort\"]\n",
    "    df_time[\"avgPktRate\"] = df_time[\"nPkt\"] / (window_size + 1)\n",
    "    df_time[\"avgByteRate\"] = df_time[\"nByte\"] / (window_size + 1)\n",
    "    df_time[\"time_index\"] = index\n",
    "    df_time = df_time.reset_index()\n",
    "    df_time_series.append(df_time)\n",
    "    index += 1"
   ]
  },
  {
   "cell_type": "markdown",
   "metadata": {},
   "source": [
    "- 資料暫存"
   ]
  },
  {
   "cell_type": "code",
   "execution_count": null,
   "metadata": {},
   "outputs": [],
   "source": [
    "pd.concat(df_time_series).to_csv(\"20210103_pair_time_series.csv\", index=False)"
   ]
  },
  {
   "cell_type": "markdown",
   "metadata": {},
   "source": [
    "- 讀取暫存資料"
   ]
  },
  {
   "cell_type": "code",
   "execution_count": 2,
   "metadata": {},
   "outputs": [],
   "source": [
    "dt = {\n",
    "    \"sa_da_pair\": \"str\",\n",
    "    \"ipkt\": \"float\",\n",
    "    \"ibyt\": \"float\",\n",
    "    \"sp\": \"int\",\n",
    "    \"dp\": \"int\",\n",
    "    \"pr\": \"int\",\n",
    "    \"stos\": \"int\",\n",
    "    \"nPkt\": \"float\",\n",
    "    \"nByte\": \"float\",\n",
    "    \"nSrcPort\": \"int\",\n",
    "    \"nDstPort\": \"int\",\n",
    "    \"rSrcDstPort\": \"float\",\n",
    "    \"avgPktRate\": \"float\",\n",
    "    \"avgByteRate\": \"float\",\n",
    "    \"time_index\": \"int\"\n",
    "}\n",
    "df_time_series = pd.read_csv(\"20210103_pair_time_series.csv\")\n",
    "df_time_series = df_time_series.astype(dt)"
   ]
  },
  {
   "cell_type": "markdown",
   "metadata": {},
   "source": [
    "- 準備分類資料"
   ]
  },
  {
   "cell_type": "code",
   "execution_count": 3,
   "metadata": {},
   "outputs": [],
   "source": [
    "feature = [\"nPkt\", \"nByte\", \"nSrcPort\", \"nDstPort\", \"rSrcDstPort\", \"avgPktRate\", \"avgByteRate\"]"
   ]
  },
  {
   "cell_type": "markdown",
   "metadata": {},
   "source": [
    "- 重組資料\n",
    "  - 暫時不用排除 flow 過少出現的資料"
   ]
  },
  {
   "cell_type": "code",
   "execution_count": 4,
   "metadata": {},
   "outputs": [
    {
     "name": "stderr",
     "output_type": "stream",
     "text": [
      "Exception ignored in: <generator object _combine_concat_plans at 0x000001F5699C3B10>\n",
      "MemoryError: \n"
     ]
    },
    {
     "ename": "MemoryError",
     "evalue": "",
     "output_type": "error",
     "traceback": [
      "\u001b[1;31m---------------------------------------------------------------------------\u001b[0m",
      "\u001b[1;31mMemoryError\u001b[0m                               Traceback (most recent call last)",
      "\u001b[1;31mMemoryError\u001b[0m: ",
      "\nDuring handling of the above exception, another exception occurred:\n",
      "\u001b[1;31mMemoryError\u001b[0m                               Traceback (most recent call last)",
      "\u001b[1;31mMemoryError\u001b[0m: ",
      "\nDuring handling of the above exception, another exception occurred:\n",
      "\u001b[1;31mMemoryError\u001b[0m                               Traceback (most recent call last)",
      "\u001b[1;31mMemoryError\u001b[0m: ",
      "\nDuring handling of the above exception, another exception occurred:\n",
      "\u001b[1;31mMemoryError\u001b[0m                               Traceback (most recent call last)",
      "\u001b[1;31mMemoryError\u001b[0m: ",
      "\nDuring handling of the above exception, another exception occurred:\n",
      "\u001b[1;31mMemoryError\u001b[0m                               Traceback (most recent call last)",
      "\u001b[1;31mMemoryError\u001b[0m: ",
      "\nDuring handling of the above exception, another exception occurred:\n",
      "\u001b[1;31mMemoryError\u001b[0m                               Traceback (most recent call last)",
      "\u001b[1;31mMemoryError\u001b[0m: ",
      "\nDuring handling of the above exception, another exception occurred:\n",
      "\u001b[1;31mMemoryError\u001b[0m                               Traceback (most recent call last)",
      "\u001b[1;31mMemoryError\u001b[0m: ",
      "\nDuring handling of the above exception, another exception occurred:\n",
      "\u001b[1;31mMemoryError\u001b[0m                               Traceback (most recent call last)",
      "\u001b[1;32m~\\AppData\\Local\\Temp\\ipykernel_3384\\2725382430.py\u001b[0m in \u001b[0;36m<module>\u001b[1;34m\u001b[0m\n\u001b[0;32m      3\u001b[0m \u001b[1;32mfor\u001b[0m \u001b[0mgroup_id\u001b[0m\u001b[1;33m,\u001b[0m \u001b[0mdf_pair\u001b[0m \u001b[1;32min\u001b[0m \u001b[0mdf_time_series\u001b[0m\u001b[1;33m.\u001b[0m\u001b[0mgroupby\u001b[0m\u001b[1;33m(\u001b[0m\u001b[1;34m\"sa_da_pair\"\u001b[0m\u001b[1;33m)\u001b[0m\u001b[1;33m:\u001b[0m\u001b[1;33m\u001b[0m\u001b[1;33m\u001b[0m\u001b[0m\n\u001b[0;32m      4\u001b[0m     \u001b[0mdf_temp\u001b[0m \u001b[1;33m=\u001b[0m \u001b[0mpd\u001b[0m\u001b[1;33m.\u001b[0m\u001b[0mDataFrame\u001b[0m\u001b[1;33m(\u001b[0m\u001b[1;33m{\u001b[0m\u001b[1;34m\"time_index\"\u001b[0m\u001b[1;33m:\u001b[0m \u001b[0mrange\u001b[0m\u001b[1;33m(\u001b[0m\u001b[1;36m15\u001b[0m\u001b[1;33m*\u001b[0m\u001b[1;36m60\u001b[0m\u001b[1;33m//\u001b[0m\u001b[0mshift\u001b[0m\u001b[1;33m)\u001b[0m\u001b[1;33m}\u001b[0m\u001b[1;33m)\u001b[0m\u001b[1;33m\u001b[0m\u001b[1;33m\u001b[0m\u001b[0m\n\u001b[1;32m----> 5\u001b[1;33m     \u001b[0mmerged\u001b[0m \u001b[1;33m=\u001b[0m \u001b[0mdf_temp\u001b[0m\u001b[1;33m.\u001b[0m\u001b[0mmerge\u001b[0m\u001b[1;33m(\u001b[0m\u001b[0mdf_pair\u001b[0m\u001b[1;33m,\u001b[0m \u001b[0mon\u001b[0m\u001b[1;33m=\u001b[0m\u001b[1;34m\"time_index\"\u001b[0m\u001b[1;33m,\u001b[0m \u001b[0mhow\u001b[0m\u001b[1;33m=\u001b[0m\u001b[1;34m\"left\"\u001b[0m\u001b[1;33m)\u001b[0m\u001b[1;33m.\u001b[0m\u001b[0mfillna\u001b[0m\u001b[1;33m(\u001b[0m\u001b[1;36m0\u001b[0m\u001b[1;33m)\u001b[0m\u001b[1;33m\u001b[0m\u001b[1;33m\u001b[0m\u001b[0m\n\u001b[0m\u001b[0;32m      6\u001b[0m     \u001b[0mpair_time_series\u001b[0m\u001b[1;33m[\u001b[0m\u001b[0mgroup_id\u001b[0m\u001b[1;33m]\u001b[0m \u001b[1;33m=\u001b[0m \u001b[0mmerged\u001b[0m\u001b[1;33m[\u001b[0m\u001b[0mfeature\u001b[0m\u001b[1;33m]\u001b[0m\u001b[1;33m.\u001b[0m\u001b[0mvalues\u001b[0m\u001b[1;33m.\u001b[0m\u001b[0mtolist\u001b[0m\u001b[1;33m(\u001b[0m\u001b[1;33m)\u001b[0m\u001b[1;33m\u001b[0m\u001b[1;33m\u001b[0m\u001b[0m\n",
      "\u001b[1;32mC:\\Python37\\lib\\site-packages\\pandas\\core\\frame.py\u001b[0m in \u001b[0;36mmerge\u001b[1;34m(self, right, how, on, left_on, right_on, left_index, right_index, sort, suffixes, copy, indicator, validate)\u001b[0m\n\u001b[0;32m   9201\u001b[0m             \u001b[0mcopy\u001b[0m\u001b[1;33m=\u001b[0m\u001b[0mcopy\u001b[0m\u001b[1;33m,\u001b[0m\u001b[1;33m\u001b[0m\u001b[1;33m\u001b[0m\u001b[0m\n\u001b[0;32m   9202\u001b[0m             \u001b[0mindicator\u001b[0m\u001b[1;33m=\u001b[0m\u001b[0mindicator\u001b[0m\u001b[1;33m,\u001b[0m\u001b[1;33m\u001b[0m\u001b[1;33m\u001b[0m\u001b[0m\n\u001b[1;32m-> 9203\u001b[1;33m             \u001b[0mvalidate\u001b[0m\u001b[1;33m=\u001b[0m\u001b[0mvalidate\u001b[0m\u001b[1;33m,\u001b[0m\u001b[1;33m\u001b[0m\u001b[1;33m\u001b[0m\u001b[0m\n\u001b[0m\u001b[0;32m   9204\u001b[0m         )\n\u001b[0;32m   9205\u001b[0m \u001b[1;33m\u001b[0m\u001b[0m\n",
      "\u001b[1;32mC:\\Python37\\lib\\site-packages\\pandas\\core\\reshape\\merge.py\u001b[0m in \u001b[0;36mmerge\u001b[1;34m(left, right, how, on, left_on, right_on, left_index, right_index, sort, suffixes, copy, indicator, validate)\u001b[0m\n\u001b[0;32m    119\u001b[0m         \u001b[0mvalidate\u001b[0m\u001b[1;33m=\u001b[0m\u001b[0mvalidate\u001b[0m\u001b[1;33m,\u001b[0m\u001b[1;33m\u001b[0m\u001b[1;33m\u001b[0m\u001b[0m\n\u001b[0;32m    120\u001b[0m     )\n\u001b[1;32m--> 121\u001b[1;33m     \u001b[1;32mreturn\u001b[0m \u001b[0mop\u001b[0m\u001b[1;33m.\u001b[0m\u001b[0mget_result\u001b[0m\u001b[1;33m(\u001b[0m\u001b[1;33m)\u001b[0m\u001b[1;33m\u001b[0m\u001b[1;33m\u001b[0m\u001b[0m\n\u001b[0m\u001b[0;32m    122\u001b[0m \u001b[1;33m\u001b[0m\u001b[0m\n\u001b[0;32m    123\u001b[0m \u001b[1;33m\u001b[0m\u001b[0m\n",
      "\u001b[1;32mC:\\Python37\\lib\\site-packages\\pandas\\core\\reshape\\merge.py\u001b[0m in \u001b[0;36mget_result\u001b[1;34m(self)\u001b[0m\n\u001b[0;32m    726\u001b[0m             \u001b[0maxes\u001b[0m\u001b[1;33m=\u001b[0m\u001b[1;33m[\u001b[0m\u001b[0mllabels\u001b[0m\u001b[1;33m.\u001b[0m\u001b[0mappend\u001b[0m\u001b[1;33m(\u001b[0m\u001b[0mrlabels\u001b[0m\u001b[1;33m)\u001b[0m\u001b[1;33m,\u001b[0m \u001b[0mjoin_index\u001b[0m\u001b[1;33m]\u001b[0m\u001b[1;33m,\u001b[0m\u001b[1;33m\u001b[0m\u001b[1;33m\u001b[0m\u001b[0m\n\u001b[0;32m    727\u001b[0m             \u001b[0mconcat_axis\u001b[0m\u001b[1;33m=\u001b[0m\u001b[1;36m0\u001b[0m\u001b[1;33m,\u001b[0m\u001b[1;33m\u001b[0m\u001b[1;33m\u001b[0m\u001b[0m\n\u001b[1;32m--> 728\u001b[1;33m             \u001b[0mcopy\u001b[0m\u001b[1;33m=\u001b[0m\u001b[0mself\u001b[0m\u001b[1;33m.\u001b[0m\u001b[0mcopy\u001b[0m\u001b[1;33m,\u001b[0m\u001b[1;33m\u001b[0m\u001b[1;33m\u001b[0m\u001b[0m\n\u001b[0m\u001b[0;32m    729\u001b[0m         )\n\u001b[0;32m    730\u001b[0m \u001b[1;33m\u001b[0m\u001b[0m\n",
      "\u001b[1;31mMemoryError\u001b[0m: "
     ]
    }
   ],
   "source": [
    "pair_time_series = dict()\n",
    "\n",
    "for group_id, df_pair in df_time_series.groupby(\"sa_da_pair\"):\n",
    "    df_temp = pd.DataFrame({\"time_index\": range(15*60//shift)})\n",
    "    merged = df_temp.merge(df_pair, on=\"time_index\", how=\"left\").fillna(0)\n",
    "    pair_time_series[group_id] = merged[feature].values.tolist()"
   ]
  },
  {
   "cell_type": "markdown",
   "metadata": {},
   "source": [
    "- 資料暫存"
   ]
  },
  {
   "cell_type": "code",
   "execution_count": null,
   "metadata": {},
   "outputs": [],
   "source": [
    "with open('20210103_pair_time_series.pickle', 'wb') as handle:\n",
    "    pickle.dump(pair_time_series, handle, protocol=pickle.HIGHEST_PROTOCOL)"
   ]
  },
  {
   "cell_type": "markdown",
   "metadata": {},
   "source": [
    "- 讀取暫存資料"
   ]
  },
  {
   "cell_type": "code",
   "execution_count": null,
   "metadata": {},
   "outputs": [],
   "source": [
    "with open('20210103_pair_time_series.pickle', 'rb') as handle:\n",
    "    df_pair_time_series = pickle.load(handle)"
   ]
  },
  {
   "cell_type": "markdown",
   "metadata": {},
   "source": [
    "### PFCM"
   ]
  },
  {
   "cell_type": "code",
   "execution_count": null,
   "metadata": {},
   "outputs": [],
   "source": []
  },
  {
   "cell_type": "markdown",
   "metadata": {},
   "source": [
    "### EAC"
   ]
  },
  {
   "cell_type": "code",
   "execution_count": null,
   "metadata": {},
   "outputs": [],
   "source": []
  },
  {
   "cell_type": "markdown",
   "metadata": {},
   "source": [
    "### WDTW\n",
    "\n",
    "- 透過權重控制時間序列之間的比較更偏向 DTW 或是 Euclidean\n",
    "- 目前先不考慮這個解法，因為權重是一項需要人為調整的參數"
   ]
  },
  {
   "cell_type": "code",
   "execution_count": null,
   "metadata": {},
   "outputs": [],
   "source": []
  }
 ],
 "metadata": {
  "kernelspec": {
   "display_name": "Python 3.11.0 64-bit",
   "language": "python",
   "name": "python3"
  },
  "language_info": {
   "codemirror_mode": {
    "name": "ipython",
    "version": 3
   },
   "file_extension": ".py",
   "mimetype": "text/x-python",
   "name": "python",
   "nbconvert_exporter": "python",
   "pygments_lexer": "ipython3",
   "version": "3.11.0"
  },
  "orig_nbformat": 4,
  "vscode": {
   "interpreter": {
    "hash": "1bbd4776ce5612284a8a6ecb61b3238f1005cd304432b166574e9dca3ba20737"
   }
  }
 },
 "nbformat": 4,
 "nbformat_minor": 2
}
