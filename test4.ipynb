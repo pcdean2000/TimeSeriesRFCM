{
 "cells": [
  {
   "cell_type": "code",
   "execution_count": 2,
   "metadata": {},
   "outputs": [
    {
     "data": {
      "text/plain": [
       "[6, 34, 11, 98, 52, 34, 13, 4, 48, 68]"
      ]
     },
     "execution_count": 2,
     "metadata": {},
     "output_type": "execute_result"
    }
   ],
   "source": [
    "import random\n",
    "\n",
    "random.seed(123)\n",
    "\n",
    "time_series = [random.randint(0, 100) for i in range(100)]\n",
    "time_series[:10]"
   ]
  },
  {
   "cell_type": "code",
   "execution_count": 4,
   "metadata": {},
   "outputs": [
    {
     "data": {
      "text/plain": [
       "[6, 34, 11, 98, 52, 34, 13, 4, 48, 68]"
      ]
     },
     "execution_count": 4,
     "metadata": {},
     "output_type": "execute_result"
    }
   ],
   "source": [
    "ts = list(time_series)\n",
    "ts[:10]"
   ]
  },
  {
   "cell_type": "code",
   "execution_count": 8,
   "metadata": {},
   "outputs": [
    {
     "data": {
      "text/plain": [
       "100"
      ]
     },
     "execution_count": 8,
     "metadata": {},
     "output_type": "execute_result"
    }
   ],
   "source": [
    "N = len(ts)\n",
    "N"
   ]
  },
  {
   "cell_type": "code",
   "execution_count": 9,
   "metadata": {},
   "outputs": [
    {
     "data": {
      "text/plain": [
       "50"
      ]
     },
     "execution_count": 9,
     "metadata": {},
     "output_type": "execute_result"
    }
   ],
   "source": [
    "import numpy as np\n",
    "\n",
    "max_k = int(np.floor(N/2))\n",
    "max_k"
   ]
  },
  {
   "cell_type": "code",
   "execution_count": 11,
   "metadata": {},
   "outputs": [
    {
     "data": {
      "text/plain": [
       "[{'R': 79.10999999999999, 'S': 26.218529841686554, 'n': 10},\n",
       " {'R': 84.72727272727272, 'S': 27.490038177176128, 'n': 11},\n",
       " {'R': 83.3125, 'S': 25.99268499450928, 'n': 12},\n",
       " {'R': 83.04395604395604, 'S': 27.2937696830948, 'n': 13},\n",
       " {'R': 92.85714285714286, 'S': 27.232077245651993, 'n': 14},\n",
       " {'R': 101.16666666666667, 'S': 26.250924501722178, 'n': 15},\n",
       " {'R': 107.82291666666667, 'S': 27.063953710032767, 'n': 16},\n",
       " {'R': 101.6, 'S': 27.717319339771922, 'n': 17},\n",
       " {'R': 105.52222222222221, 'S': 27.025744161859798, 'n': 18},\n",
       " {'R': 124.73684210526315, 'S': 27.766225885889128, 'n': 19},\n",
       " {'R': 115.46, 'S': 26.98572400664467, 'n': 20},\n",
       " {'R': 104.35714285714288, 'S': 27.470109534757157, 'n': 21},\n",
       " {'R': 111.4659090909091, 'S': 27.68914729855902, 'n': 22},\n",
       " {'R': 134.52173913043475, 'S': 27.654259218625043, 'n': 23},\n",
       " {'R': 132.55208333333331, 'S': 27.196851274617174, 'n': 24},\n",
       " {'R': 121.74999999999997, 'S': 27.49237683996995, 'n': 25},\n",
       " {'R': 133.6410256410256, 'S': 27.479399981583796, 'n': 26},\n",
       " {'R': 134.4567901234568, 'S': 28.21978415894742, 'n': 27},\n",
       " {'R': 149.3452380952381, 'S': 28.34641991031579, 'n': 28},\n",
       " {'R': 161.60919540229887, 'S': 28.29835189532753, 'n': 29},\n",
       " {'R': 169.33333333333337, 'S': 27.948791075414206, 'n': 30},\n",
       " {'R': 172.1290322580645, 'S': 28.001091428203523, 'n': 31},\n",
       " {'R': 164.6875, 'S': 28.178744826987757, 'n': 32},\n",
       " {'R': 156.34343434343438, 'S': 28.77921239058362, 'n': 33},\n",
       " {'R': 166.47058823529414, 'S': 29.06956942522408, 'n': 34},\n",
       " {'R': 167.42857142857144, 'S': 28.46257484253462, 'n': 35},\n",
       " {'R': 197.76388888888883, 'S': 27.943930221503084, 'n': 36},\n",
       " {'R': 172.0675675675676, 'S': 27.87544224993082, 'n': 37},\n",
       " {'R': 181.44736842105263, 'S': 27.95067098554126, 'n': 38},\n",
       " {'R': 174.0384615384616, 'S': 27.780580000155126, 'n': 39},\n",
       " {'R': 179.6, 'S': 27.471506431798083, 'n': 40},\n",
       " {'R': 183.50000000000006, 'S': 27.612441263690528, 'n': 41},\n",
       " {'R': 176.9285714285714, 'S': 27.639201969665994, 'n': 42},\n",
       " {'R': 174.4302325581395, 'S': 27.899269616836506, 'n': 43},\n",
       " {'R': 170.0, 'S': 27.75344065665579, 'n': 44},\n",
       " {'R': 175.61111111111114, 'S': 27.834755686305392, 'n': 45},\n",
       " {'R': 171.28260869565216, 'S': 27.850014014219486, 'n': 46},\n",
       " {'R': 166.64893617021272, 'S': 27.231622414810325, 'n': 47},\n",
       " {'R': 168.51041666666666, 'S': 27.627856600697925, 'n': 48},\n",
       " {'R': 178.04081632653063, 'S': 28.126356733849835, 'n': 49},\n",
       " {'R': 181.29000000000008, 'S': 28.265157790689663, 'n': 50}]"
      ]
     },
     "execution_count": 11,
     "metadata": {},
     "output_type": "execute_result"
    }
   ],
   "source": [
    "import pandas as pd\n",
    "\n",
    "R_S_dict = []\n",
    "for k in range(10,max_k+1):\n",
    "    R,S = 0,0\n",
    "    # split ts into subsets\n",
    "    subset_list = [ts[i:i+k] for i in range(0,N,k)]\n",
    "    if np.mod(N,k)>0:\n",
    "        subset_list.pop()\n",
    "        #tail = subset_list.pop()\n",
    "        #subset_list[-1].extend(tail)\n",
    "    # calc mean of every subset\n",
    "    mean_list=[np.mean(x) for x in subset_list]\n",
    "    for i in range(len(subset_list)):\n",
    "        cumsum_list = pd.Series(subset_list[i]-mean_list[i]).cumsum()\n",
    "        R += max(cumsum_list)-min(cumsum_list)\n",
    "        S += np.std(subset_list[i])\n",
    "    R_S_dict.append({\"R\":R/len(subset_list),\"S\":S/len(subset_list),\"n\":k})\n",
    "R_S_dict"
   ]
  },
  {
   "cell_type": "code",
   "execution_count": 16,
   "metadata": {},
   "outputs": [],
   "source": [
    "log_R_S = []\n",
    "log_n = []\n",
    "for i in range(len(R_S_dict)):\n",
    "    R_S = (R_S_dict[i][\"R\"]+np.spacing(1)) / (R_S_dict[i][\"S\"]+np.spacing(1))\n",
    "    log_R_S.append(np.log(R_S))\n",
    "    log_n.append(np.log(R_S_dict[i][\"n\"]))"
   ]
  },
  {
   "cell_type": "code",
   "execution_count": 17,
   "metadata": {},
   "outputs": [
    {
     "data": {
      "text/plain": [
       "[1.104372882380854,\n",
       " 1.1256138509450746,\n",
       " 1.1647834458677866,\n",
       " 1.1127115990948122,\n",
       " 1.2266666248709015,\n",
       " 1.3490681143007632,\n",
       " 1.3822874998279449,\n",
       " 1.2989860704133336,\n",
       " 1.362131668712509,\n",
       " 1.5023858690418241,\n",
       " 1.453616163955648,\n",
       " 1.334720594604204,\n",
       " 1.3926782539400944,\n",
       " 1.5819460586419287,\n",
       " 1.5838744453124725,\n",
       " 1.4880610015380829,\n",
       " 1.5817206597306246,\n",
       " 1.5612195865213871,\n",
       " 1.6617599195807449,\n",
       " 1.742377480670937,\n",
       " 1.801495213360478,\n",
       " 1.8160008941160963,\n",
       " 1.7654817745279783,\n",
       " 1.692401755164795,\n",
       " 1.7451267437737747,\n",
       " 1.771966760181511,\n",
       " 1.956873828346868,\n",
       " 1.8201411392464681,\n",
       " 1.8705244245497352,\n",
       " 1.8349391026689787,\n",
       " 1.8775828181018754,\n",
       " 1.8939482259144176,\n",
       " 1.8565109736900698,\n",
       " 1.8329243383987388,\n",
       " 1.812438616916413,\n",
       " 1.8419865099344515,\n",
       " 1.8164814051798543,\n",
       " 1.8115105343175468,\n",
       " 1.8081730070099042,\n",
       " 1.8453057304240208,\n",
       " 1.8584680863829512]"
      ]
     },
     "execution_count": 17,
     "metadata": {},
     "output_type": "execute_result"
    }
   ],
   "source": [
    "log_R_S"
   ]
  },
  {
   "cell_type": "code",
   "execution_count": 14,
   "metadata": {},
   "outputs": [
    {
     "data": {
      "text/plain": [
       "[2.302585092994046,\n",
       " 2.3978952727983707,\n",
       " 2.4849066497880004,\n",
       " 2.5649493574615367,\n",
       " 2.6390573296152584,\n",
       " 2.70805020110221,\n",
       " 2.772588722239781,\n",
       " 2.833213344056216,\n",
       " 2.8903717578961645,\n",
       " 2.9444389791664403,\n",
       " 2.995732273553991,\n",
       " 3.044522437723423,\n",
       " 3.091042453358316,\n",
       " 3.1354942159291497,\n",
       " 3.1780538303479458,\n",
       " 3.2188758248682006,\n",
       " 3.258096538021482,\n",
       " 3.295836866004329,\n",
       " 3.332204510175204,\n",
       " 3.367295829986474,\n",
       " 3.4011973816621555,\n",
       " 3.4339872044851463,\n",
       " 3.4657359027997265,\n",
       " 3.4965075614664802,\n",
       " 3.5263605246161616,\n",
       " 3.5553480614894135,\n",
       " 3.58351893845611,\n",
       " 3.6109179126442243,\n",
       " 3.6375861597263857,\n",
       " 3.6635616461296463,\n",
       " 3.6888794541139363,\n",
       " 3.713572066704308,\n",
       " 3.7376696182833684,\n",
       " 3.7612001156935624,\n",
       " 3.784189633918261,\n",
       " 3.8066624897703196,\n",
       " 3.828641396489095,\n",
       " 3.8501476017100584,\n",
       " 3.871201010907891,\n",
       " 3.8918202981106265,\n",
       " 3.912023005428146]"
      ]
     },
     "execution_count": 14,
     "metadata": {},
     "output_type": "execute_result"
    }
   ],
   "source": [
    "log_n"
   ]
  },
  {
   "cell_type": "code",
   "execution_count": 15,
   "metadata": {},
   "outputs": [
    {
     "data": {
      "text/plain": [
       "array([ 0.53293779, -0.14550173])"
      ]
     },
     "execution_count": 15,
     "metadata": {},
     "output_type": "execute_result"
    }
   ],
   "source": [
    "np.polyfit(log_n,log_R_S,1)"
   ]
  },
  {
   "cell_type": "code",
   "execution_count": 3,
   "metadata": {},
   "outputs": [],
   "source": [
    "import numpy as np\n",
    "import pandas as pd\n",
    "\n",
    "def hurst(ts):\n",
    "    ts = list(ts)\n",
    "    N = len(ts)\n",
    "    if N < 20:\n",
    "        raise ValueError(\"Time series is too short! input series ought to have at least 20 samples!\")\n",
    "\n",
    "    max_k = int(np.floor(N/2))\n",
    "    R_S_dict = []\n",
    "    for k in range(10,max_k+1):\n",
    "        R,S = 0,0\n",
    "        # split ts into subsets\n",
    "        subset_list = [ts[i:i+k] for i in range(0,N,k)]\n",
    "        if np.mod(N,k)>0:\n",
    "            subset_list.pop()\n",
    "            #tail = subset_list.pop()\n",
    "            #subset_list[-1].extend(tail)\n",
    "        # calc mean of every subset\n",
    "        mean_list=[np.mean(x) for x in subset_list]\n",
    "        for i in range(len(subset_list)):\n",
    "            cumsum_list = pd.Series(subset_list[i]-mean_list[i]).cumsum()\n",
    "            R += max(cumsum_list)-min(cumsum_list)\n",
    "            S += np.std(subset_list[i])\n",
    "        R_S_dict.append({\"R\":R/len(subset_list),\"S\":S/len(subset_list),\"n\":k})\n",
    "    \n",
    "    log_R_S = []\n",
    "    log_n = []\n",
    "    for i in range(len(R_S_dict)):\n",
    "        R_S = (R_S_dict[i][\"R\"]+np.spacing(1)) / (R_S_dict[i][\"S\"]+np.spacing(1))\n",
    "        log_R_S.append(np.log(R_S))\n",
    "        log_n.append(np.log(R_S_dict[i][\"n\"]))\n",
    "\n",
    "    Hurst_exponent = np.polyfit(log_n,log_R_S,1)[0]\n",
    "    return Hurst_exponent"
   ]
  },
  {
   "cell_type": "code",
   "execution_count": 5,
   "metadata": {},
   "outputs": [
    {
     "data": {
      "text/plain": [
       "0.5329377850173335"
      ]
     },
     "execution_count": 5,
     "metadata": {},
     "output_type": "execute_result"
    }
   ],
   "source": [
    "hurst(ts)"
   ]
  },
  {
   "cell_type": "code",
   "execution_count": 9,
   "metadata": {},
   "outputs": [
    {
     "name": "stderr",
     "output_type": "stream",
     "text": [
      "c:\\Users\\pcdea\\AppData\\Local\\Programs\\Python\\Python311\\Lib\\site-packages\\nolds\\measures.py:25: RuntimeWarning: fitting mode 'RANSAC' requires the package sklearn, using 'poly' instead\n",
      "  warnings.warn(\n"
     ]
    },
    {
     "data": {
      "text/plain": [
       "0.5310948442648872"
      ]
     },
     "execution_count": 9,
     "metadata": {},
     "output_type": "execute_result"
    }
   ],
   "source": [
    "import nolds\n",
    "\n",
    "nolds.hurst_rs(ts, corrected=False, unbiased=False)"
   ]
  },
  {
   "cell_type": "code",
   "execution_count": null,
   "metadata": {},
   "outputs": [],
   "source": []
  }
 ],
 "metadata": {
  "kernelspec": {
   "display_name": "Python 3",
   "language": "python",
   "name": "python3"
  },
  "language_info": {
   "codemirror_mode": {
    "name": "ipython",
    "version": 3
   },
   "file_extension": ".py",
   "mimetype": "text/x-python",
   "name": "python",
   "nbconvert_exporter": "python",
   "pygments_lexer": "ipython3",
   "version": "3.11.0"
  },
  "orig_nbformat": 4,
  "vscode": {
   "interpreter": {
    "hash": "1bbd4776ce5612284a8a6ecb61b3238f1005cd304432b166574e9dca3ba20737"
   }
  }
 },
 "nbformat": 4,
 "nbformat_minor": 2
}
