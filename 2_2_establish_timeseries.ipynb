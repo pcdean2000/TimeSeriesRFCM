{
 "cells": [
  {
   "cell_type": "code",
   "execution_count": 1,
   "metadata": {},
   "outputs": [],
   "source": [
    "from datetime import datetime, timedelta\n",
    "from glob import glob\n",
    "from pathlib import Path\n",
    "\n",
    "import pandas as pd\n",
    "\n",
    "import os\n",
    "\n",
    "INTERVAL = 15"
   ]
  },
  {
   "attachments": {},
   "cell_type": "markdown",
   "metadata": {},
   "source": [
    "用 src feature 產生時間序列資料"
   ]
  },
  {
   "cell_type": "code",
   "execution_count": 2,
   "metadata": {},
   "outputs": [],
   "source": [
    "for filename in glob(Path('src_feature/*').__str__()):\n",
    "    targetFile = filename.replace('src_feature', f'interval_{INTERVAL}_src_feature')\n",
    "    if os.path.exists(targetFile):\n",
    "        continue\n",
    "    df = pd.read_parquet(filename)\n",
    "    df[[\"timeStart\", \"timeStop\"]] = df[[\"timeStart\", \"timeStop\"]].astype(dtype='datetime64[ns]')\n",
    "    start_time = datetime.fromisoformat(\"2007-02-11T13:00:00\")\n",
    "    end_time = start_time + timedelta(minutes=15)\n",
    "    result = []\n",
    "    while start_time <= end_time:\n",
    "        filtered = df[(df[\"timeStart\"] >= start_time) & (df[\"timeStart\"] < start_time + timedelta(seconds=INTERVAL))]\n",
    "        result.append(\n",
    "            {\n",
    "                \"timeStart\": start_time,\n",
    "                \"srcIP\": df[\"srcIP\"].unique().tolist()[0],\n",
    "                \"packets\": filtered[\"packets\"].sum(),\n",
    "                \"bytes\": filtered[\"bytes\"].sum(),\n",
    "                \"flows\": filtered[\"flows\"].sum(),\n",
    "                \"bytes/packets\": filtered[\"bytes\"].sum() / filtered[\"packets\"].sum() if filtered[\"packets\"].sum() != 0 else 0,\n",
    "                \"flows/(bytes/packets)\": filtered[\"flows\"].sum() / (filtered[\"bytes\"].sum() / filtered[\"packets\"].sum()) if filtered[\"bytes\"].sum() != 0 and filtered[\"packets\"].sum() != 0 else 0,\n",
    "                \"nDstIP\": filtered[\"nDstIP\"].sum(),\n",
    "                \"nSrcPort\": filtered[\"nSrcPort\"].sum(),\n",
    "                \"nDstPort\": filtered[\"nDstPort\"].sum(),\n",
    "            }\n",
    "        )\n",
    "        start_time += timedelta(seconds=INTERVAL)\n",
    "    result = pd.DataFrame(result)\n",
    "    # print(result)\n",
    "    # break\n",
    "    os.makedirs(os.path.dirname(targetFile), exist_ok=True)\n",
    "    result.to_parquet(targetFile, index=False)"
   ]
  },
  {
   "attachments": {},
   "cell_type": "markdown",
   "metadata": {},
   "source": [
    "用 dst feature 產生時間序列資料"
   ]
  },
  {
   "cell_type": "code",
   "execution_count": 3,
   "metadata": {},
   "outputs": [
    {
     "ename": "FileNotFoundError",
     "evalue": "[Errno 2] No such file or directory: 'dst_feature\\\\172.36.90.168.parguet'",
     "output_type": "error",
     "traceback": [
      "\u001b[1;31m---------------------------------------------------------------------------\u001b[0m",
      "\u001b[1;31mFileNotFoundError\u001b[0m                         Traceback (most recent call last)",
      "Cell \u001b[1;32mIn[3], line 5\u001b[0m\n\u001b[0;32m      3\u001b[0m \u001b[39mif\u001b[39;00m os\u001b[39m.\u001b[39mpath\u001b[39m.\u001b[39mexists(targetFile):\n\u001b[0;32m      4\u001b[0m     \u001b[39mcontinue\u001b[39;00m\n\u001b[1;32m----> 5\u001b[0m df \u001b[39m=\u001b[39m pd\u001b[39m.\u001b[39;49mread_parquet(filename)\n\u001b[0;32m      6\u001b[0m df[[\u001b[39m\"\u001b[39m\u001b[39mtimeStart\u001b[39m\u001b[39m\"\u001b[39m, \u001b[39m\"\u001b[39m\u001b[39mtimeStop\u001b[39m\u001b[39m\"\u001b[39m]] \u001b[39m=\u001b[39m df[[\u001b[39m\"\u001b[39m\u001b[39mtimeStart\u001b[39m\u001b[39m\"\u001b[39m, \u001b[39m\"\u001b[39m\u001b[39mtimeStop\u001b[39m\u001b[39m\"\u001b[39m]]\u001b[39m.\u001b[39mastype(dtype\u001b[39m=\u001b[39m\u001b[39m'\u001b[39m\u001b[39mdatetime64[ns]\u001b[39m\u001b[39m'\u001b[39m)\n\u001b[0;32m      7\u001b[0m start_time \u001b[39m=\u001b[39m datetime\u001b[39m.\u001b[39mfromisoformat(\u001b[39m\"\u001b[39m\u001b[39m2007-02-11T13:00:00\u001b[39m\u001b[39m\"\u001b[39m)\n",
      "File \u001b[1;32mc:\\Users\\pcdea\\AppData\\Local\\Programs\\Python\\Python310\\lib\\site-packages\\pandas\\io\\parquet.py:503\u001b[0m, in \u001b[0;36mread_parquet\u001b[1;34m(path, engine, columns, storage_options, use_nullable_dtypes, **kwargs)\u001b[0m\n\u001b[0;32m    456\u001b[0m \u001b[39m\"\"\"\u001b[39;00m\n\u001b[0;32m    457\u001b[0m \u001b[39mLoad a parquet object from the file path, returning a DataFrame.\u001b[39;00m\n\u001b[0;32m    458\u001b[0m \n\u001b[1;32m   (...)\u001b[0m\n\u001b[0;32m    499\u001b[0m \u001b[39mDataFrame\u001b[39;00m\n\u001b[0;32m    500\u001b[0m \u001b[39m\"\"\"\u001b[39;00m\n\u001b[0;32m    501\u001b[0m impl \u001b[39m=\u001b[39m get_engine(engine)\n\u001b[1;32m--> 503\u001b[0m \u001b[39mreturn\u001b[39;00m impl\u001b[39m.\u001b[39mread(\n\u001b[0;32m    504\u001b[0m     path,\n\u001b[0;32m    505\u001b[0m     columns\u001b[39m=\u001b[39mcolumns,\n\u001b[0;32m    506\u001b[0m     storage_options\u001b[39m=\u001b[39mstorage_options,\n\u001b[0;32m    507\u001b[0m     use_nullable_dtypes\u001b[39m=\u001b[39muse_nullable_dtypes,\n\u001b[0;32m    508\u001b[0m     \u001b[39m*\u001b[39m\u001b[39m*\u001b[39mkwargs,\n\u001b[0;32m    509\u001b[0m )\n",
      "File \u001b[1;32mc:\\Users\\pcdea\\AppData\\Local\\Programs\\Python\\Python310\\lib\\site-packages\\pandas\\io\\parquet.py:244\u001b[0m, in \u001b[0;36mPyArrowImpl.read\u001b[1;34m(self, path, columns, use_nullable_dtypes, storage_options, **kwargs)\u001b[0m\n\u001b[0;32m    241\u001b[0m \u001b[39mif\u001b[39;00m manager \u001b[39m==\u001b[39m \u001b[39m\"\u001b[39m\u001b[39marray\u001b[39m\u001b[39m\"\u001b[39m:\n\u001b[0;32m    242\u001b[0m     to_pandas_kwargs[\u001b[39m\"\u001b[39m\u001b[39msplit_blocks\u001b[39m\u001b[39m\"\u001b[39m] \u001b[39m=\u001b[39m \u001b[39mTrue\u001b[39;00m  \u001b[39m# type: ignore[assignment]\u001b[39;00m\n\u001b[1;32m--> 244\u001b[0m path_or_handle, handles, kwargs[\u001b[39m\"\u001b[39m\u001b[39mfilesystem\u001b[39m\u001b[39m\"\u001b[39m] \u001b[39m=\u001b[39m _get_path_or_handle(\n\u001b[0;32m    245\u001b[0m     path,\n\u001b[0;32m    246\u001b[0m     kwargs\u001b[39m.\u001b[39;49mpop(\u001b[39m\"\u001b[39;49m\u001b[39mfilesystem\u001b[39;49m\u001b[39m\"\u001b[39;49m, \u001b[39mNone\u001b[39;49;00m),\n\u001b[0;32m    247\u001b[0m     storage_options\u001b[39m=\u001b[39;49mstorage_options,\n\u001b[0;32m    248\u001b[0m     mode\u001b[39m=\u001b[39;49m\u001b[39m\"\u001b[39;49m\u001b[39mrb\u001b[39;49m\u001b[39m\"\u001b[39;49m,\n\u001b[0;32m    249\u001b[0m )\n\u001b[0;32m    250\u001b[0m \u001b[39mtry\u001b[39;00m:\n\u001b[0;32m    251\u001b[0m     result \u001b[39m=\u001b[39m \u001b[39mself\u001b[39m\u001b[39m.\u001b[39mapi\u001b[39m.\u001b[39mparquet\u001b[39m.\u001b[39mread_table(\n\u001b[0;32m    252\u001b[0m         path_or_handle, columns\u001b[39m=\u001b[39mcolumns, \u001b[39m*\u001b[39m\u001b[39m*\u001b[39mkwargs\n\u001b[0;32m    253\u001b[0m     )\u001b[39m.\u001b[39mto_pandas(\u001b[39m*\u001b[39m\u001b[39m*\u001b[39mto_pandas_kwargs)\n",
      "File \u001b[1;32mc:\\Users\\pcdea\\AppData\\Local\\Programs\\Python\\Python310\\lib\\site-packages\\pandas\\io\\parquet.py:102\u001b[0m, in \u001b[0;36m_get_path_or_handle\u001b[1;34m(path, fs, storage_options, mode, is_dir)\u001b[0m\n\u001b[0;32m     92\u001b[0m handles \u001b[39m=\u001b[39m \u001b[39mNone\u001b[39;00m\n\u001b[0;32m     93\u001b[0m \u001b[39mif\u001b[39;00m (\n\u001b[0;32m     94\u001b[0m     \u001b[39mnot\u001b[39;00m fs\n\u001b[0;32m     95\u001b[0m     \u001b[39mand\u001b[39;00m \u001b[39mnot\u001b[39;00m is_dir\n\u001b[1;32m   (...)\u001b[0m\n\u001b[0;32m    100\u001b[0m     \u001b[39m# fsspec resources can also point to directories\u001b[39;00m\n\u001b[0;32m    101\u001b[0m     \u001b[39m# this branch is used for example when reading from non-fsspec URLs\u001b[39;00m\n\u001b[1;32m--> 102\u001b[0m     handles \u001b[39m=\u001b[39m get_handle(\n\u001b[0;32m    103\u001b[0m         path_or_handle, mode, is_text\u001b[39m=\u001b[39;49m\u001b[39mFalse\u001b[39;49;00m, storage_options\u001b[39m=\u001b[39;49mstorage_options\n\u001b[0;32m    104\u001b[0m     )\n\u001b[0;32m    105\u001b[0m     fs \u001b[39m=\u001b[39m \u001b[39mNone\u001b[39;00m\n\u001b[0;32m    106\u001b[0m     path_or_handle \u001b[39m=\u001b[39m handles\u001b[39m.\u001b[39mhandle\n",
      "File \u001b[1;32mc:\\Users\\pcdea\\AppData\\Local\\Programs\\Python\\Python310\\lib\\site-packages\\pandas\\io\\common.py:865\u001b[0m, in \u001b[0;36mget_handle\u001b[1;34m(path_or_buf, mode, encoding, compression, memory_map, is_text, errors, storage_options)\u001b[0m\n\u001b[0;32m    856\u001b[0m         handle \u001b[39m=\u001b[39m \u001b[39mopen\u001b[39m(\n\u001b[0;32m    857\u001b[0m             handle,\n\u001b[0;32m    858\u001b[0m             ioargs\u001b[39m.\u001b[39mmode,\n\u001b[1;32m   (...)\u001b[0m\n\u001b[0;32m    861\u001b[0m             newline\u001b[39m=\u001b[39m\u001b[39m\"\u001b[39m\u001b[39m\"\u001b[39m,\n\u001b[0;32m    862\u001b[0m         )\n\u001b[0;32m    863\u001b[0m     \u001b[39melse\u001b[39;00m:\n\u001b[0;32m    864\u001b[0m         \u001b[39m# Binary mode\u001b[39;00m\n\u001b[1;32m--> 865\u001b[0m         handle \u001b[39m=\u001b[39m \u001b[39mopen\u001b[39;49m(handle, ioargs\u001b[39m.\u001b[39;49mmode)\n\u001b[0;32m    866\u001b[0m     handles\u001b[39m.\u001b[39mappend(handle)\n\u001b[0;32m    868\u001b[0m \u001b[39m# Convert BytesIO or file objects passed with an encoding\u001b[39;00m\n",
      "\u001b[1;31mFileNotFoundError\u001b[0m: [Errno 2] No such file or directory: 'dst_feature\\\\172.36.90.168.parguet'"
     ]
    }
   ],
   "source": [
    "for filename in glob(Path('dst_feature/*').__str__()):\n",
    "    targetFile = filename.replace('dst_feature', f'interval_{INTERVAL}_dst_feature')\n",
    "    if os.path.exists(targetFile):\n",
    "        continue\n",
    "    df = pd.read_parquet(filename)\n",
    "    df[[\"timeStart\", \"timeStop\"]] = df[[\"timeStart\", \"timeStop\"]].astype(dtype='datetime64[ns]')\n",
    "    start_time = datetime.fromisoformat(\"2007-02-11T13:00:00\")\n",
    "    end_time = start_time + timedelta(minutes=15)\n",
    "    result = []\n",
    "    while start_time <= end_time:\n",
    "        filtered = df[(df[\"timeStart\"] >= start_time) & (df[\"timeStart\"] < start_time + timedelta(seconds=INTERVAL))]\n",
    "        result.append(\n",
    "            {\n",
    "                \"timeStart\": start_time,\n",
    "                \"dstIP\": df[\"dstIP\"].unique().tolist()[0],\n",
    "                \"packets\": filtered[\"packets\"].sum(),\n",
    "                \"bytes\": filtered[\"bytes\"].sum(),\n",
    "                \"flows\": filtered[\"flows\"].sum(),\n",
    "                \"bytes/packets\": filtered[\"bytes\"].sum() / filtered[\"packets\"].sum() if filtered[\"packets\"].sum() != 0 else 0,\n",
    "                \"flows/(bytes/packets)\": filtered[\"flows\"].sum() / (filtered[\"bytes\"].sum() / filtered[\"packets\"].sum()) if filtered[\"bytes\"].sum() != 0 and filtered[\"packets\"].sum() != 0 else 0,\n",
    "                \"nSrcIP\": filtered[\"nSrcIP\"].sum(),\n",
    "                \"nSrcPort\": filtered[\"nSrcPort\"].sum(),\n",
    "                \"nDstPort\": filtered[\"nDstPort\"].sum(),\n",
    "            }\n",
    "        )\n",
    "        start_time += timedelta(seconds=INTERVAL)\n",
    "    result = pd.DataFrame(result)\n",
    "    # print(result)\n",
    "    # break\n",
    "    os.makedirs(os.path.dirname(targetFile), exist_ok=True)\n",
    "    result.to_parquet(targetFile, index=False)"
   ]
  }
 ],
 "metadata": {
  "kernelspec": {
   "display_name": "Python 3",
   "language": "python",
   "name": "python3"
  },
  "language_info": {
   "codemirror_mode": {
    "name": "ipython",
    "version": 3
   },
   "file_extension": ".py",
   "mimetype": "text/x-python",
   "name": "python",
   "nbconvert_exporter": "python",
   "pygments_lexer": "ipython3",
   "version": "3.10.9"
  },
  "orig_nbformat": 4,
  "vscode": {
   "interpreter": {
    "hash": "d02331cd1603ec76c6a0d691d59c880477777fc72f4efeafcd9cb0c05515e5a1"
   }
  }
 },
 "nbformat": 4,
 "nbformat_minor": 2
}
