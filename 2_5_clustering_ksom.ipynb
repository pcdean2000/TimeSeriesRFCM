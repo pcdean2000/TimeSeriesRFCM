{
 "cells": [
  {
   "cell_type": "code",
   "execution_count": 16,
   "metadata": {},
   "outputs": [],
   "source": [
    "import os\n",
    "import warnings\n",
    "warnings.filterwarnings('ignore')\n",
    "\n",
    "import numpy as np\n",
    "\n",
    "from glob import glob\n",
    "from minisom import MiniSom\n",
    "from pathlib import Path\n",
    "\n",
    "INTERVAL = 10"
   ]
  },
  {
   "cell_type": "code",
   "execution_count": 17,
   "metadata": {},
   "outputs": [],
   "source": [
    "def dropna(nparray):\n",
    "    if isinstance(nparray[0], np.ndarray):\n",
    "        return np.array([dropna(x) for x in nparray])\n",
    "    else:\n",
    "        return nparray[~np.isnan(nparray)]"
   ]
  },
  {
   "cell_type": "code",
   "execution_count": 18,
   "metadata": {},
   "outputs": [
    {
     "name": "stdout",
     "output_type": "stream",
     "text": [
      "Dir:  timeseries\\interval_10_src_feature\n",
      "Dir:  timeseries\\interval_10_src_feature_reconstructed_STL_combined\n"
     ]
    },
    {
     "ename": "TypeError",
     "evalue": "ufunc 'isnan' not supported for the input types, and the inputs could not be safely coerced to any supported types according to the casting rule ''safe''",
     "output_type": "error",
     "traceback": [
      "\u001b[1;31m---------------------------------------------------------------------------\u001b[0m",
      "\u001b[1;31mTypeError\u001b[0m                                 Traceback (most recent call last)",
      "Cell \u001b[1;32mIn[18], line 7\u001b[0m\n\u001b[0;32m      5\u001b[0m     \u001b[39mcontinue\u001b[39;00m\n\u001b[0;32m      6\u001b[0m pyts_dataset \u001b[39m=\u001b[39m np\u001b[39m.\u001b[39mload(os\u001b[39m.\u001b[39mpath\u001b[39m.\u001b[39mjoin(dirname, \u001b[39m\"\u001b[39m\u001b[39mpyts_dataset.npy\u001b[39m\u001b[39m\"\u001b[39m), allow_pickle\u001b[39m=\u001b[39m\u001b[39mTrue\u001b[39;00m)\n\u001b[1;32m----> 7\u001b[0m pyts_dataset \u001b[39m=\u001b[39m dropna(pyts_dataset)\n\u001b[0;32m      8\u001b[0m \u001b[39mprint\u001b[39m(\u001b[39m\"\u001b[39m\u001b[39m\\t\u001b[39;00m\u001b[39mPyts dataset shape: \u001b[39m\u001b[39m\"\u001b[39m, pyts_dataset\u001b[39m.\u001b[39mshape)\n\u001b[0;32m     11\u001b[0m X \u001b[39m=\u001b[39m pyts_dataset\u001b[39m.\u001b[39mreshape(\u001b[39mlen\u001b[39m(pyts_dataset), \u001b[39m-\u001b[39m\u001b[39m1\u001b[39m)\n",
      "Cell \u001b[1;32mIn[17], line 3\u001b[0m, in \u001b[0;36mdropna\u001b[1;34m(nparray)\u001b[0m\n\u001b[0;32m      1\u001b[0m \u001b[39mdef\u001b[39;00m \u001b[39mdropna\u001b[39m(nparray):\n\u001b[0;32m      2\u001b[0m     \u001b[39mif\u001b[39;00m \u001b[39misinstance\u001b[39m(nparray[\u001b[39m0\u001b[39m], np\u001b[39m.\u001b[39mndarray):\n\u001b[1;32m----> 3\u001b[0m         \u001b[39mreturn\u001b[39;00m np\u001b[39m.\u001b[39marray([dropna(x) \u001b[39mfor\u001b[39;00m x \u001b[39min\u001b[39;00m nparray])\n\u001b[0;32m      4\u001b[0m     \u001b[39melse\u001b[39;00m:\n\u001b[0;32m      5\u001b[0m         \u001b[39mreturn\u001b[39;00m nparray[\u001b[39m~\u001b[39mnp\u001b[39m.\u001b[39misnan(nparray)]\n",
      "Cell \u001b[1;32mIn[17], line 3\u001b[0m, in \u001b[0;36m<listcomp>\u001b[1;34m(.0)\u001b[0m\n\u001b[0;32m      1\u001b[0m \u001b[39mdef\u001b[39;00m \u001b[39mdropna\u001b[39m(nparray):\n\u001b[0;32m      2\u001b[0m     \u001b[39mif\u001b[39;00m \u001b[39misinstance\u001b[39m(nparray[\u001b[39m0\u001b[39m], np\u001b[39m.\u001b[39mndarray):\n\u001b[1;32m----> 3\u001b[0m         \u001b[39mreturn\u001b[39;00m np\u001b[39m.\u001b[39marray([dropna(x) \u001b[39mfor\u001b[39;00m x \u001b[39min\u001b[39;00m nparray])\n\u001b[0;32m      4\u001b[0m     \u001b[39melse\u001b[39;00m:\n\u001b[0;32m      5\u001b[0m         \u001b[39mreturn\u001b[39;00m nparray[\u001b[39m~\u001b[39mnp\u001b[39m.\u001b[39misnan(nparray)]\n",
      "Cell \u001b[1;32mIn[17], line 5\u001b[0m, in \u001b[0;36mdropna\u001b[1;34m(nparray)\u001b[0m\n\u001b[0;32m      3\u001b[0m     \u001b[39mreturn\u001b[39;00m np\u001b[39m.\u001b[39marray([dropna(x) \u001b[39mfor\u001b[39;00m x \u001b[39min\u001b[39;00m nparray])\n\u001b[0;32m      4\u001b[0m \u001b[39melse\u001b[39;00m:\n\u001b[1;32m----> 5\u001b[0m     \u001b[39mreturn\u001b[39;00m nparray[\u001b[39m~\u001b[39mnp\u001b[39m.\u001b[39;49misnan(nparray)]\n",
      "\u001b[1;31mTypeError\u001b[0m: ufunc 'isnan' not supported for the input types, and the inputs could not be safely coerced to any supported types according to the casting rule ''safe''"
     ]
    }
   ],
   "source": [
    "for direction in [\"src\", \"dst\"]:\n",
    "    for dirname in glob(Path(f'timeseries/interval_{INTERVAL}_{direction}*').__str__()):\n",
    "        print(\"Dir: \", dirname)\n",
    "        if os.path.exists(os.path.join(dirname, \"ksom_label.npy\")):\n",
    "            continue\n",
    "        pyts_dataset = np.load(os.path.join(dirname, \"pyts_dataset.npy\"))\n",
    "        pyts_dataset = dropna(pyts_dataset)\n",
    "        print(\"\\tPyts dataset shape: \", pyts_dataset.shape)\n",
    "        \n",
    "        \n",
    "        X = pyts_dataset.reshape(len(pyts_dataset), -1)\n",
    "        print(\"\\tX shape: \", X.shape)\n",
    "        \n",
    "        som_x = som_y = 10\n",
    "        som = MiniSom(som_x, som_y, len(X[0]), sigma=0.3, learning_rate = 0.1, random_seed=10)\n",
    "        som.random_weights_init(X)\n",
    "        som.train(X, 50000, verbose=True)\n",
    "        y_pred = np.array([som.winner(X[idx])[1] for idx in range(len(X))])\n",
    "        \n",
    "        np.save(os.path.join(dirname, \"ksom_label.npy\"), y_pred)\n",
    "        print(\"\\tKernel SOM shape: \", y_pred.shape)\n",
    "        del pyts_dataset, som, X, y_pred"
   ]
  }
 ],
 "metadata": {
  "kernelspec": {
   "display_name": "Python 3",
   "language": "python",
   "name": "python3"
  },
  "language_info": {
   "codemirror_mode": {
    "name": "ipython",
    "version": 3
   },
   "file_extension": ".py",
   "mimetype": "text/x-python",
   "name": "python",
   "nbconvert_exporter": "python",
   "pygments_lexer": "ipython3",
   "version": "3.10.9"
  },
  "orig_nbformat": 4,
  "vscode": {
   "interpreter": {
    "hash": "d02331cd1603ec76c6a0d691d59c880477777fc72f4efeafcd9cb0c05515e5a1"
   }
  }
 },
 "nbformat": 4,
 "nbformat_minor": 2
}
