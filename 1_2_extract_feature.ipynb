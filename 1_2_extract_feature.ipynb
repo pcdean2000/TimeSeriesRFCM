{
 "cells": [
  {
   "cell_type": "markdown",
   "metadata": {},
   "source": [
    "- 封包數量\n",
    "- 傳輸流量\n",
    "- 封包流數量\n",
    "- 封包流平均流量\n",
    "- 封包流數量 / 平均單位封包傳輸流量\n",
    "- 連線節點數"
   ]
  },
  {
   "cell_type": "code",
   "execution_count": 2,
   "metadata": {},
   "outputs": [],
   "source": [
    "import pandas as pd\n",
    "from pathlib import Path\n",
    "from glob import glob\n",
    "import os\n",
    "from datetime import datetime, timedelta\n",
    "import warnings\n",
    "import gc\n",
    "\n",
    "interval = 30 # seconds"
   ]
  },
  {
   "cell_type": "code",
   "execution_count": 2,
   "metadata": {},
   "outputs": [],
   "source": [
    "df = pd.read_csv('netflow/200702111400/256500/256507-212_136_45_198.csv')\n",
    "df[[\"ts\", \"te\"]] = df[[\"ts\", \"te\"]].astype(dtype='datetime64[ns]')\n",
    "feature = pd.DataFrame()\n",
    "feature[\"timeStart\"] = df[\"ts\"]\n",
    "feature[\"timeStop\"] = df[\"te\"]\n",
    "feature[\"duration\"] = df[\"td\"]\n",
    "feature[\"protocol\"] = df[\"pr\"]\n",
    "feature[\"srcIP\"] = df[\"sa\"]\n",
    "feature[\"packets\"] = df[\"ipkt\"] + df[\"opkt\"]\n",
    "feature[\"bytes\"] = df[\"ibyt\"] + df[\"obyt\"]\n",
    "feature[\"flows\"] = 1\n",
    "feature[\"packsets/flows\"] = feature[\"packets\"] / feature[\"flows\"]\n",
    "feature[\"bytes/flows\"] = feature[\"bytes\"] / feature[\"flows\"]\n",
    "feature[\"bytes/packets\"] = feature[\"bytes\"] / feature[\"packets\"]\n",
    "feature[\"flows/(bytes/packets)\"] = feature[\"flows\"] / feature[\"bytes/packets\"]\n",
    "feature[\"nodes\"] = 1\n",
    "feature.to_csv(\"netflow/200702111400/256500/256507-212_136_45_198.csv\", index=False)"
   ]
  },
  {
   "cell_type": "code",
   "execution_count": 3,
   "metadata": {},
   "outputs": [
    {
     "name": "stdout",
     "output_type": "stream",
     "text": [
      "Error: netflow\\200702111400\\0\\1-avg_bps.csv\n"
     ]
    }
   ],
   "source": [
    "for filename in glob(Path('netflow/200702111400/*/*').__str__()):\n",
    "    try:\n",
    "        targetFilename = filename.replace(\"netflow\", \"feature\")\n",
    "        df = pd.read_csv(filename)\n",
    "        df[[\"ts\", \"te\"]] = df[[\"ts\", \"te\"]].astype(dtype='datetime64[ns]')\n",
    "        feature = pd.DataFrame()\n",
    "        feature[\"timeStart\"] = df[\"ts\"]\n",
    "        feature[\"timeStop\"] = df[\"te\"]\n",
    "        feature[\"duration\"] = df[\"td\"]\n",
    "        feature[\"protocol\"] = df[\"pr\"]\n",
    "        feature[\"srcIP\"] = df[\"sa\"]\n",
    "        feature[\"packets\"] = df[\"ipkt\"] + df[\"opkt\"]\n",
    "        feature[\"bytes\"] = df[\"ibyt\"] + df[\"obyt\"]\n",
    "        feature[\"flows\"] = 1\n",
    "        feature[\"packsets/flows\"] = feature[\"packets\"] / feature[\"flows\"]\n",
    "        feature[\"bytes/flows\"] = feature[\"bytes\"] / feature[\"flows\"]\n",
    "        feature[\"bytes/packets\"] = feature[\"bytes\"] / feature[\"packets\"]\n",
    "        feature[\"flows/(bytes/packets)\"] = feature[\"flows\"] / feature[\"bytes/packets\"]\n",
    "        feature[\"nodes\"] = 1\n",
    "        os.makedirs(os.path.dirname(targetFilename), exist_ok=True)\n",
    "        feature.to_csv(targetFilename, index=False)\n",
    "    except:\n",
    "        print(\"Error: \" + filename)"
   ]
  },
  {
   "cell_type": "code",
   "execution_count": 3,
   "metadata": {},
   "outputs": [],
   "source": [
    "for filename in glob(Path('feature/200702111400/*/*').__str__()):\n",
    "    try:\n",
    "        targetFilename = filename.replace(\"feature\", f\"interval{interval}\")\n",
    "        if os.path.exists(targetFilename):\n",
    "            continue\n",
    "        df = pd.read_csv(filename)\n",
    "        df[[\"timeStart\", \"timeStop\"]] = df[[\"timeStart\", \"timeStop\"]].astype(dtype='datetime64[ns]')\n",
    "        start_time = datetime.fromisoformat(\"2007-02-11T13:00:00\")\n",
    "        end_time = start_time + timedelta(minutes=15)\n",
    "        result = []\n",
    "        while start_time <= end_time:\n",
    "            filtered = df[(df[\"timeStart\"] >= start_time) & (df[\"timeStart\"] < start_time + timedelta(seconds=interval))]\n",
    "            result.append(\n",
    "                {\n",
    "                    \"timeStart\": start_time,\n",
    "                    \"SrcIP\": df[\"srcIP\"].unique().tolist()[0],\n",
    "                    \"packets\": filtered[\"packets\"].sum(),\n",
    "                    \"bytes\": filtered[\"bytes\"].sum(),\n",
    "                    \"flows\": filtered[\"flows\"].sum(),\n",
    "                    \"packets/flows\": filtered[\"packets\"].sum() / filtered[\"flows\"].sum() if filtered[\"flows\"].sum() != 0 else 0,\n",
    "                    \"bytes/flows\": filtered[\"bytes\"].sum() / filtered[\"flows\"].sum() if filtered[\"flows\"].sum() != 0 else 0,\n",
    "                    \"bytes/packets\": filtered[\"bytes\"].sum() / filtered[\"packets\"].sum() if filtered[\"packets\"].sum() != 0 else 0,\n",
    "                    \"flows/(bytes/packets)\": filtered[\"flows\"].sum() / (filtered[\"bytes\"].sum() / filtered[\"packets\"].sum()) if filtered[\"bytes\"].sum() != 0 and filtered[\"packets\"].sum() != 0 else 0,\n",
    "                    \"nodes\": filtered[\"nodes\"].sum(),\n",
    "                }\n",
    "            )\n",
    "            start_time += timedelta(seconds=interval)\n",
    "        result = pd.DataFrame(result)\n",
    "        # print(result)\n",
    "        # break\n",
    "        os.makedirs(os.path.dirname(targetFilename), exist_ok=True)\n",
    "        result.to_csv(targetFilename, index=False)\n",
    "        del df, result, filtered, start_time, end_time, targetFilename, filename\n",
    "        gc.collect()\n",
    "    except Exception as e:\n",
    "        print(\"Error: \" + filename)\n",
    "        print(e)"
   ]
  }
 ],
 "metadata": {
  "kernelspec": {
   "display_name": "Python 3",
   "language": "python",
   "name": "python3"
  },
  "language_info": {
   "codemirror_mode": {
    "name": "ipython",
    "version": 3
   },
   "file_extension": ".py",
   "mimetype": "text/x-python",
   "name": "python",
   "nbconvert_exporter": "python",
   "pygments_lexer": "ipython3",
   "version": "3.10.9 (tags/v3.10.9:1dd9be6, Dec  6 2022, 20:01:21) [MSC v.1934 64 bit (AMD64)]"
  },
  "orig_nbformat": 4,
  "vscode": {
   "interpreter": {
    "hash": "d02331cd1603ec76c6a0d691d59c880477777fc72f4efeafcd9cb0c05515e5a1"
   }
  }
 },
 "nbformat": 4,
 "nbformat_minor": 2
}
