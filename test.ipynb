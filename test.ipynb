{
 "cells": [
  {
   "cell_type": "code",
   "execution_count": 98,
   "metadata": {},
   "outputs": [],
   "source": [
    "import numpy as np\n",
    "from rfcm import RFCM\n",
    "from dtw import dtw\n",
    "import pandas as pd"
   ]
  },
  {
   "cell_type": "code",
   "execution_count": 2,
   "metadata": {},
   "outputs": [],
   "source": [
    "class TimeSeries:\n",
    "    def __init__(self, data: list):\n",
    "        self.data = np.array(data)\n",
    "    \n",
    "    def __add__(self, other):\n",
    "        if isinstance(other, TimeSeries):\n",
    "            return TimeSeries(self.data + other.data)\n",
    "        elif isinstance(other, int):\n",
    "            return TimeSeries(self.data + other)\n",
    "        elif isinstance(other, float):\n",
    "            return TimeSeries(self.data + other)\n",
    "        elif isinstance(other, np.ndarray):\n",
    "            return TimeSeries(self.data + other)\n",
    "        \n",
    "    def __radd__(self, other):\n",
    "        return self + other\n",
    "        \n",
    "    def __sub__(self, other):\n",
    "        if isinstance(other, TimeSeries):\n",
    "            return TimeSeries(self.data - other.data)\n",
    "        elif isinstance(other, int):\n",
    "            return TimeSeries(self.data - other)\n",
    "        elif isinstance(other, float):\n",
    "            return TimeSeries(self.data - other)\n",
    "        elif isinstance(other, np.ndarray):\n",
    "            return TimeSeries(self.data - other)\n",
    "    \n",
    "    def __rsub__(self, other):\n",
    "        return -self + other\n",
    "    \n",
    "    def __mul__(self, other):\n",
    "        if isinstance(other, TimeSeries):\n",
    "            return TimeSeries(self.data * other.data)\n",
    "        elif isinstance(other, int):\n",
    "            return TimeSeries(self.data * other)\n",
    "        elif isinstance(other, float):\n",
    "            return TimeSeries(self.data * other)\n",
    "        elif isinstance(other, np.ndarray):\n",
    "            return TimeSeries(self.data * other)\n",
    "    \n",
    "    def __rmul__(self, other):\n",
    "        return self * other\n",
    "        \n",
    "    def __truediv__(self, other):\n",
    "        if isinstance(other, TimeSeries):\n",
    "            return TimeSeries(self.data / other.data)\n",
    "        elif isinstance(other, int):\n",
    "            return TimeSeries(self.data / other)\n",
    "        elif isinstance(other, float):\n",
    "            return TimeSeries(self.data / other)\n",
    "        elif isinstance(other, np.ndarray):\n",
    "            return TimeSeries(self.data / other)\n",
    "    \n",
    "    def __floordiv__(self, other):\n",
    "        if isinstance(other, TimeSeries):\n",
    "            return TimeSeries(self.data // other.data)\n",
    "        elif isinstance(other, int):\n",
    "            return TimeSeries(self.data // other)\n",
    "        elif isinstance(other, float):\n",
    "            return TimeSeries(self.data // other)\n",
    "        elif isinstance(other, np.ndarray):\n",
    "            return TimeSeries(self.data // other)\n",
    "        \n",
    "    def __pow__(self, other):\n",
    "        if isinstance(other, TimeSeries):\n",
    "            return TimeSeries(self.data ** other.data)\n",
    "        elif isinstance(other, int):\n",
    "            return TimeSeries(self.data ** other)\n",
    "        elif isinstance(other, float):\n",
    "            return TimeSeries(self.data ** other)\n",
    "        elif isinstance(other, np.ndarray):\n",
    "            return TimeSeries(self.data ** other)\n",
    "    \n",
    "    def __neg__(self):\n",
    "        return TimeSeries(-self.data)\n",
    "    \n",
    "    def __repr__(self):\n",
    "        return str(self.data)\n",
    "    \n",
    "    def __len__(self):\n",
    "        return len(self.data)\n",
    "    \n",
    "    def get_data(self):\n",
    "        return self.data"
   ]
  },
  {
   "cell_type": "code",
   "execution_count": 3,
   "metadata": {},
   "outputs": [],
   "source": [
    "test_data = np.array([\n",
    "    [\n",
    "        TimeSeries([1, 2, 3, 4]),   # 第一個特徵序列\n",
    "        TimeSeries([1, 1, 1, 1]),   # 第二個特徵序列\n",
    "        TimeSeries([2, 2, 2, 2])\n",
    "    ],                  # 第一筆資料\n",
    "    [\n",
    "        TimeSeries([4, 3, 2, 1]),\n",
    "        TimeSeries([4, 4, 4, 4]),\n",
    "        TimeSeries([3, 3, 3, 3])\n",
    "    ],                  # 第二筆資料\n",
    "    [\n",
    "        TimeSeries([5, 6, 7, 8]),\n",
    "        TimeSeries([5, 5, 5, 5]),\n",
    "        TimeSeries([6, 6, 6, 6])\n",
    "    ],\n",
    "    [\n",
    "        TimeSeries([8, 7, 6, 5]),\n",
    "        TimeSeries([8, 8, 8, 8]),\n",
    "        TimeSeries([7, 7, 7, 7])\n",
    "    ]\n",
    "])\n",
    "# test_data = np.array([[1, 1], [1, 3], [3, 1], [3, 3], [\n",
    "#                      9, 9], [9, 11], [11, 9], [11, 11]])\n",
    "# test_data = np.array([[1,1], [3,3], [9,9], [11,11], [1, 9], [3, 11]])\n"
   ]
  },
  {
   "cell_type": "code",
   "execution_count": 4,
   "metadata": {},
   "outputs": [
    {
     "data": {
      "text/plain": [
       "RFCM()"
      ]
     },
     "execution_count": 4,
     "metadata": {},
     "output_type": "execute_result"
    }
   ],
   "source": [
    "model = RFCM()\n",
    "model.fit(test_data)"
   ]
  },
  {
   "cell_type": "code",
   "execution_count": 5,
   "metadata": {},
   "outputs": [
    {
     "data": {
      "text/plain": [
       "array([0, 0, 1, 1], dtype=int64)"
      ]
     },
     "execution_count": 5,
     "metadata": {},
     "output_type": "execute_result"
    }
   ],
   "source": [
    "model.labels_"
   ]
  },
  {
   "cell_type": "code",
   "execution_count": 6,
   "metadata": {},
   "outputs": [
    {
     "data": {
      "text/plain": [
       "array([[[4.71955772 4.74875608 4.77795444 4.80715281],\n",
       "        [4.71955772 4.71955772 4.71955772 4.71955772],\n",
       "        [4.74875608 4.74875608 4.74875608 4.74875608]],\n",
       "       [[4.71955741 4.74898342 4.77840942 4.80783543],\n",
       "        [4.71955741 4.71955741 4.71955741 4.71955741],\n",
       "        [4.74898342 4.74898342 4.74898342 4.74898342]]], dtype=object)"
      ]
     },
     "execution_count": 6,
     "metadata": {},
     "output_type": "execute_result"
    }
   ],
   "source": [
    "model.cluster_centers_"
   ]
  },
  {
   "cell_type": "code",
   "execution_count": 4,
   "metadata": {},
   "outputs": [],
   "source": [
    "def init_memval(n_clusters, n_data):\n",
    "    U = np.random.random((n_clusters, n_data))\n",
    "    val = sum(U)\n",
    "    U = np.divide(U, np.dot(np.ones((n_clusters, 1)),\n",
    "                    np.reshape(val, (1, n_data))))\n",
    "    return U"
   ]
  },
  {
   "cell_type": "code",
   "execution_count": 6,
   "metadata": {},
   "outputs": [],
   "source": [
    "def calc_dtw(data, center):\n",
    "    dist_part = []\n",
    "    for center_node in center:\n",
    "        dist_center_node = []\n",
    "        for line in data:\n",
    "            dist_feature = []\n",
    "            for index in range(len(line)):\n",
    "                _, cost, _, _ = dtw(line[index].get_data(), center_node[index].get_data(), dist=lambda x, y: np.abs(x - y))\n",
    "                cost /= len(line[index]) + len(center_node[index])\n",
    "                dist_feature.append(cost)\n",
    "            dist_center_node.append(np.linalg.norm(np.array(dist_feature)))\n",
    "        dist_part.append(dist_center_node)\n",
    "    return np.array(dist_part)"
   ]
  },
  {
   "cell_type": "code",
   "execution_count": 7,
   "metadata": {},
   "outputs": [],
   "source": [
    "def center_diff(center, center_old):\n",
    "    diff = []\n",
    "    for i in range(len(center)):\n",
    "        feature = []\n",
    "        for j in range(len(center[i])):\n",
    "            feature.append(center[i][j].get_data() - center_old[i][j].get_data())\n",
    "        diff.append(np.array(feature))\n",
    "    return np.array(diff)"
   ]
  },
  {
   "cell_type": "code",
   "execution_count": 8,
   "metadata": {},
   "outputs": [],
   "source": [
    "n_clusters = 2\n",
    "expo = 2\n",
    "p = 2\n",
    "alpha = 2\n",
    "epsilon = 0.0005\n",
    "max_iter = 100\n",
    "\n",
    "np.random.seed(0)\n",
    "n_data = test_data.shape[0]\n",
    "U = init_memval(n_clusters, n_data)"
   ]
  },
  {
   "cell_type": "code",
   "execution_count": 11,
   "metadata": {},
   "outputs": [],
   "source": [
    "def _size_insensitive_rfcm(data, n_clusters, epsilon, expo, max_iter, p):\n",
    "    \"\"\"\n",
    "    Size insensitive object function.\n",
    "\n",
    "    Args:\n",
    "        data (array-like, dataframe): Dataset\n",
    "        n_clusters (int): The number of the clusters\n",
    "        epsilon (float): The threshold of the convergence\n",
    "        expo (float): The degree of the fuzziness\n",
    "        max_iter (int): The maximum number of iterations\n",
    "        p (int): The fuzziness parameter\n",
    "    \"\"\"\n",
    "    np.random.seed(0)\n",
    "    n_data = data.shape[0]  # Number of data points\n",
    "    # Initialize the partition matrix\n",
    "    U = init_memval(n_clusters, n_data)\n",
    "    for t in range(max_iter):\n",
    "        # X[j] is the jth data point, U[i, j] is the membership degree\n",
    "        mf = np.power(U, expo)\n",
    "        # The center of the cluster, v_i in the paper\n",
    "        center = np.divide(\n",
    "            np.dot(mf, data), (np.ones((data.shape[1], 1))*sum(mf.T)).T)\n",
    "\n",
    "        # j belongs to A_i,\n",
    "        # A_i is the set of data points that belong to cluster i\n",
    "        membership = np.equal(U, U.max(axis=0))\n",
    "        membership_size = np.sum(membership + np.divide(np.multiply(\n",
    "            membership, U), np.power(n_data, p)), axis=1)   # According to the paper\n",
    "        relative_size = np.divide(membership_size, n_data).reshape(\n",
    "            n_clusters, 1)      # The relative size of the cluster, S_i in the paper\n",
    "\n",
    "        index_array = np.argmax(U, axis=0)\n",
    "        interaction_reduction = np.subtract(\n",
    "            1, np.take_along_axis(relative_size.T, np.expand_dims(index_array, axis=-1), axis=-1)).T  # The interaction reduction, Rho_j in the paper\n",
    "\n",
    "        # distance part of the U update equation\n",
    "        dist_part = calc_dtw(data, center) ** (-1 / (expo - 1))\n",
    "\n",
    "        # coefficient part of the U update equation\n",
    "        coef_part = np.power(\n",
    "            1 + np.multiply(membership, np.divide(1, np.power(n_data, p + 1))), (-1 / (expo - 1)))\n",
    "\n",
    "        # Update the partition matrix\n",
    "        U = interaction_reduction * np.einsum(\"ijk->ik\", np.divide(\n",
    "            coef_part[:, None, :] * dist_part, dist_part[:, None, :] * coef_part)) ** -1\n",
    "\n",
    "        # Check the convergence\n",
    "        if t > 0:\n",
    "            if np.linalg.norm(center_diff(center,  center_old)) < epsilon:\n",
    "                break\n",
    "\n",
    "        center_old = center\n",
    "\n",
    "    return U, center"
   ]
  },
  {
   "cell_type": "code",
   "execution_count": 12,
   "metadata": {},
   "outputs": [],
   "source": [
    "U, center = _size_insensitive_rfcm(test_data, n_clusters, epsilon, expo, max_iter, p)"
   ]
  },
  {
   "cell_type": "code",
   "execution_count": 22,
   "metadata": {},
   "outputs": [
    {
     "data": {
      "text/plain": [
       "array([[3.03360221, 4.50122954],\n",
       "       [1.83220491, 3.2661179 ],\n",
       "       [1.19072783, 1.47809977],\n",
       "       [1.8899908 , 0.76891981]])"
      ]
     },
     "execution_count": 22,
     "metadata": {},
     "output_type": "execute_result"
    }
   ],
   "source": [
    "diff = (calc_dtw(test_data, center) ** (1 / (expo - 1))).T\n",
    "diff"
   ]
  },
  {
   "cell_type": "code",
   "execution_count": 23,
   "metadata": {},
   "outputs": [
    {
     "data": {
      "text/plain": [
       "array([[[3.03360221, 4.50122954]],\n",
       "\n",
       "       [[1.83220491, 3.2661179 ]],\n",
       "\n",
       "       [[1.19072783, 1.47809977]],\n",
       "\n",
       "       [[1.8899908 , 0.76891981]]])"
      ]
     },
     "execution_count": 23,
     "metadata": {},
     "output_type": "execute_result"
    }
   ],
   "source": [
    "diff.reshape((test_data.shape[0], 1, -1))"
   ]
  },
  {
   "cell_type": "code",
   "execution_count": 24,
   "metadata": {},
   "outputs": [
    {
     "data": {
      "text/plain": [
       "array([[[3.03360221],\n",
       "        [4.50122954]],\n",
       "\n",
       "       [[1.83220491],\n",
       "        [3.2661179 ]],\n",
       "\n",
       "       [[1.19072783],\n",
       "        [1.47809977]],\n",
       "\n",
       "       [[1.8899908 ],\n",
       "        [0.76891981]]])"
      ]
     },
     "execution_count": 24,
     "metadata": {},
     "output_type": "execute_result"
    }
   ],
   "source": [
    "diff[:, :, np.newaxis]"
   ]
  },
  {
   "cell_type": "code",
   "execution_count": 25,
   "metadata": {},
   "outputs": [
    {
     "data": {
      "text/plain": [
       "array([[[3.03360221, 4.50122954],\n",
       "        [3.03360221, 4.50122954]],\n",
       "\n",
       "       [[1.83220491, 3.2661179 ],\n",
       "        [1.83220491, 3.2661179 ]],\n",
       "\n",
       "       [[1.19072783, 1.47809977],\n",
       "        [1.19072783, 1.47809977]],\n",
       "\n",
       "       [[1.8899908 , 0.76891981],\n",
       "        [1.8899908 , 0.76891981]]])"
      ]
     },
     "execution_count": 25,
     "metadata": {},
     "output_type": "execute_result"
    }
   ],
   "source": [
    "diff.reshape((test_data.shape[0], 1, -1)).repeat(\n",
    "    diff.shape[-1], axis=1\n",
    ")"
   ]
  },
  {
   "cell_type": "code",
   "execution_count": 26,
   "metadata": {},
   "outputs": [],
   "source": [
    "diff = calc_dtw(test_data, center).T\n",
    "temp = diff ** (1 / (expo - 1))\n",
    "denominator_ = temp.reshape((test_data.shape[0], 1, -1)).repeat(\n",
    "    temp.shape[-1], axis=1\n",
    ")\n",
    "denominator_ = temp[:, :, np.newaxis] / denominator_\n",
    "# The distance between the data point and the cluster center, S_ij in the paper\n",
    "dist = (1 / denominator_.sum(2)) ** expo"
   ]
  },
  {
   "cell_type": "code",
   "execution_count": 27,
   "metadata": {},
   "outputs": [
    {
     "data": {
      "text/plain": [
       "array([[0.35687424, 0.1620952 ],\n",
       "       [0.41040161, 0.12914971],\n",
       "       [0.30673721, 0.19905999],\n",
       "       [0.08362856, 0.5052565 ]])"
      ]
     },
     "execution_count": 27,
     "metadata": {},
     "output_type": "execute_result"
    }
   ],
   "source": [
    "dist"
   ]
  },
  {
   "cell_type": "code",
   "execution_count": null,
   "metadata": {},
   "outputs": [],
   "source": [
    "mf = np.power(U, expo)\n",
    "center = np.divide(\n",
    "    np.dot(mf, test_data), (np.ones((test_data.shape[1], 1))*sum(mf.T)).T)\n",
    "print(\"\\nmf\")\n",
    "print(mf)\n",
    "\n",
    "print(\"\\ncenter\")\n",
    "print(center)"
   ]
  },
  {
   "cell_type": "code",
   "execution_count": null,
   "metadata": {},
   "outputs": [],
   "source": [
    "membership = np.equal(U, U.max(axis=0))\n",
    "membership_size = np.sum(membership + np.divide(np.multiply(membership, U), np.power(n_data, p)), axis=1)\n",
    "relative_size = np.divide(membership_size, n_data).reshape(n_clusters, 1)\n",
    "\n",
    "print(\"\\nmembership\")\n",
    "print(membership)\n",
    "\n",
    "print(\"\\nmembership_size\")\n",
    "print(membership_size)\n",
    "\n",
    "print(\"\\nrelative_size\")\n",
    "print(relative_size)"
   ]
  },
  {
   "cell_type": "code",
   "execution_count": null,
   "metadata": {},
   "outputs": [],
   "source": [
    "index_array = np.argmax(U, axis=0)\n",
    "interaction_reduction = np.subtract(\n",
    "    1, np.take_along_axis(relative_size.T, np.expand_dims(index_array, axis=-1), axis=-1)).T\n",
    "print(\"\\ninteraction_reduction\")\n",
    "print(interaction_reduction)"
   ]
  },
  {
   "cell_type": "code",
   "execution_count": null,
   "metadata": {},
   "outputs": [],
   "source": [
    "dist_part = []\n",
    "for center_node in center:\n",
    "    dist_center_node = []\n",
    "    for line in test_data:\n",
    "        dist_feature = []\n",
    "        for index in range(len(line)):\n",
    "            _, cost, _, _ = dtw(line[index].get_data(), center_node[index].get_data(), dist=lambda x, y: np.abs(x - y))\n",
    "            cost /= len(line[index]) + len(center_node[index])\n",
    "            dist_feature.append(cost)\n",
    "        dist_center_node.append(np.linalg.norm(np.array(dist_feature)))\n",
    "    dist_part.append(dist_center_node)\n",
    "dist_part = np.array(dist_part)\n",
    "print(\"\\ndist_part\")\n",
    "print(dist_part)"
   ]
  },
  {
   "cell_type": "code",
   "execution_count": null,
   "metadata": {},
   "outputs": [],
   "source": [
    "# dist_part = (np.sqrt(np.einsum(\"ijk->ij\", (test_data[:, None, :] - center) ** 2))).T\n",
    "# print(\"\\ndist_part\")\n",
    "# print(dist_part)\n",
    "coef_part = 1 + np.multiply(membership, np.divide(1, np.power(n_data, p + 1)))\n",
    "print(\"\\ncoef_part\")\n",
    "print(coef_part)\n",
    "\n",
    "# np.einsum(\"ijk->jk\", np.divide(coef_part[:, None, :] * dist_part, dist_part[:, None, :] * coef_part))\n",
    "# interaction_reduction * np.divide(numerator_part, denominator_part) ** -1"
   ]
  },
  {
   "cell_type": "code",
   "execution_count": null,
   "metadata": {},
   "outputs": [],
   "source": [
    "np.einsum(\"ijk->jk\", np.divide(coef_part[:, None, :] * dist_part, dist_part[:, None, :] * coef_part))"
   ]
  },
  {
   "cell_type": "code",
   "execution_count": null,
   "metadata": {},
   "outputs": [],
   "source": [
    "np.divide(coef_part[:, None, :] * dist_part, dist_part[:, None, :] * coef_part)"
   ]
  },
  {
   "cell_type": "code",
   "execution_count": null,
   "metadata": {},
   "outputs": [],
   "source": [
    "np.einsum(\"ijk->ik\", np.divide(coef_part[:, None, :] * dist_part, dist_part[:, None, :] * coef_part))"
   ]
  },
  {
   "cell_type": "code",
   "execution_count": 237,
   "metadata": {},
   "outputs": [
    {
     "name": "stdout",
     "output_type": "stream",
     "text": [
      "\n",
      "center\n",
      "[[[4.48431379 4.49787121 4.51142863 4.52498605]\n",
      "  [4.48431379 4.48431379 4.48431379 4.48431379]\n",
      "  [4.49787121 4.49787121 4.49787121 4.49787121]]\n",
      " [[4.51568621 4.50212879 4.48857137 4.47501395]\n",
      "  [4.51568621 4.51568621 4.51568621 4.51568621]\n",
      "  [4.50212879 4.50212879 4.50212879 4.50212879]]]\n",
      "\n",
      "norm\n",
      "0.0004560959705128383\n",
      "\n",
      "center converged\n"
     ]
    }
   ],
   "source": [
    "mf = np.power(U, expo)\n",
    "center = np.divide(\n",
    "    np.dot(mf, test_data), (np.ones((test_data.shape[1], 1))*sum(mf.T)).T)\n",
    "print(\"\\ncenter\")\n",
    "print(center)\n",
    "\n",
    "membership = np.equal(U, U.max(axis=0))\n",
    "membership_size = np.sum(membership + np.divide(np.multiply(membership, U), np.power(n_data, p)), axis=1)\n",
    "relative_size = np.divide(membership_size, n_data).reshape(n_clusters, 1)\n",
    "\n",
    "index_array = np.argmax(U, axis=0)\n",
    "interaction_reduction = np.subtract(\n",
    "    1, np.take_along_axis(relative_size.T, np.expand_dims(index_array, axis=-1), axis=-1)).T\n",
    "\n",
    "# dist_part = (np.sqrt(\n",
    "#     np.einsum(\"ijk->ij\", (test_data[:, None, :] - center) ** 2)) ** (-1 / (expo - 1))).T\n",
    "dist_part = calc_dtw(test_data, center)\n",
    "coef_part = np.power(\n",
    "    1 + np.multiply(membership, np.divide(1, np.power(n_data, p + 1))), (-1 / (expo - 1)))\n",
    "\n",
    "U = interaction_reduction * np.einsum(\"ijk->ik\", np.divide(coef_part[:, None, :] * dist_part, dist_part[:, None, :] * coef_part)) ** -1\n",
    "\n",
    "try:\n",
    "    print(\"\\nnorm\")\n",
    "    print(np.linalg.norm(center_diff(center, center_old)))\n",
    "\n",
    "    if np.linalg.norm(center_diff(center,  center_old)) < epsilon:\n",
    "        print(\"\\ncenter converged\")\n",
    "except:\n",
    "    pass\n",
    "    \n",
    "center_old = center\n"
   ]
  },
  {
   "cell_type": "code",
   "execution_count": null,
   "metadata": {},
   "outputs": [],
   "source": [
    "np.multiply(membership, np.divide(1, np.power(n_data, p + 1)))"
   ]
  },
  {
   "cell_type": "code",
   "execution_count": null,
   "metadata": {},
   "outputs": [],
   "source": [
    "np.expand_dims(index_array, axis=-1)"
   ]
  },
  {
   "cell_type": "code",
   "execution_count": null,
   "metadata": {},
   "outputs": [],
   "source": [
    "relative_size.T"
   ]
  },
  {
   "cell_type": "code",
   "execution_count": null,
   "metadata": {},
   "outputs": [],
   "source": [
    "np.take_along_axis(relative_size.T, np.expand_dims(index_array, axis=-1), axis=-1)"
   ]
  },
  {
   "cell_type": "code",
   "execution_count": null,
   "metadata": {},
   "outputs": [],
   "source": [
    "center"
   ]
  },
  {
   "cell_type": "code",
   "execution_count": null,
   "metadata": {},
   "outputs": [],
   "source": [
    "cluster_handler = RFCM()"
   ]
  },
  {
   "cell_type": "code",
   "execution_count": null,
   "metadata": {},
   "outputs": [],
   "source": [
    "cluster_handler.fit(test_data)"
   ]
  },
  {
   "cell_type": "code",
   "execution_count": null,
   "metadata": {},
   "outputs": [],
   "source": [
    "cluster_handler.labels_"
   ]
  },
  {
   "cell_type": "code",
   "execution_count": null,
   "metadata": {},
   "outputs": [],
   "source": [
    "def init_memval(n_clusters, n_data):\n",
    "        U = np.random.random((n_clusters, n_data))\n",
    "        val = sum(U)\n",
    "        U = np.divide(U, np.dot(np.ones((n_clusters, 1)),\n",
    "                        np.reshape(val, (1, n_data))))\n",
    "        return U"
   ]
  },
  {
   "cell_type": "code",
   "execution_count": null,
   "metadata": {},
   "outputs": [],
   "source": [
    "def _exp_func(diff, omega):\n",
    "    return 1 - np.exp(-diff / omega)\n",
    "\n",
    "def _exp_derivative_func(diff, omega):\n",
    "    return (1 / omega) * np.exp(-diff / omega)"
   ]
  },
  {
   "cell_type": "code",
   "execution_count": null,
   "metadata": {},
   "outputs": [],
   "source": [
    "mf = np.power(U, expo)\n",
    "center = np.divide(\n",
    "    np.dot(mf, data), (np.ones((data.shape[1], 1))*sum(mf.T)).T)"
   ]
  },
  {
   "cell_type": "code",
   "execution_count": null,
   "metadata": {},
   "outputs": [],
   "source": [
    "diff = np.sqrt(np.einsum(\"ijk->ij\", (data[:, None, :] - center) ** 2))\n",
    "temp = diff ** (1 / (expo - 1))\n",
    "denominator_ = temp.reshape((data.shape[0], 1, -1)).repeat(\n",
    "    temp.shape[-1], axis=1\n",
    ")\n",
    "denominator_ = temp[:, :, np.newaxis] / denominator_"
   ]
  },
  {
   "cell_type": "code",
   "execution_count": null,
   "metadata": {},
   "outputs": [],
   "source": [
    "dist = (1 / denominator_.sum(2)) ** expo"
   ]
  },
  {
   "cell_type": "code",
   "execution_count": null,
   "metadata": {},
   "outputs": [],
   "source": [
    "omega = sum(dist * diff) / (alpha * sum(dist))"
   ]
  },
  {
   "cell_type": "code",
   "execution_count": null,
   "metadata": {},
   "outputs": [],
   "source": [
    "dist_part = (_exp_func(diff, omega) ** (-1 / (expo - 1))).T"
   ]
  },
  {
   "cell_type": "code",
   "execution_count": null,
   "metadata": {},
   "outputs": [],
   "source": [
    "coef_part = np.ones_like(U)"
   ]
  },
  {
   "cell_type": "code",
   "execution_count": null,
   "metadata": {},
   "outputs": [],
   "source": [
    "numerator_part = np.dot(np.ones((n_clusters, 1)), np.reshape(\n",
    "    sum(coef_part), (1, coef_part.shape[1]))) * dist_part\n",
    "denominator_part = np.dot(np.ones((n_clusters, 1)), np.reshape(\n",
    "    sum(dist_part), (1, dist_part.shape[1]))) * coef_part"
   ]
  },
  {
   "cell_type": "code",
   "execution_count": null,
   "metadata": {},
   "outputs": [],
   "source": [
    "membership = np.equal(U, U.max(axis=0))\n",
    "dist_part = (np.sqrt(np.einsum(\"ijk->ij\", (data[:, None, :] - center) ** 2)) ** (-1 / (expo - 1))).T\n",
    "coef_part = np.power(1 - np.multiply(membership, np.divide(1, np.power(n_data, p + 1))), (-2 / (expo - 1)))"
   ]
  },
  {
   "cell_type": "code",
   "execution_count": null,
   "metadata": {},
   "outputs": [],
   "source": [
    "coef_part"
   ]
  },
  {
   "cell_type": "code",
   "execution_count": null,
   "metadata": {},
   "outputs": [],
   "source": [
    "np.dot(np.ones((n_clusters, 1)), np.reshape(\n",
    "                sum(coef_part), (1, coef_part.shape[1])))"
   ]
  },
  {
   "cell_type": "code",
   "execution_count": null,
   "metadata": {},
   "outputs": [],
   "source": [
    "data = a"
   ]
  },
  {
   "cell_type": "code",
   "execution_count": null,
   "metadata": {},
   "outputs": [],
   "source": [
    "def _exp_derivative_func(diff, omega):\n",
    "    return (1 / omega) * np.exp(-diff / omega)"
   ]
  },
  {
   "cell_type": "code",
   "execution_count": null,
   "metadata": {},
   "outputs": [],
   "source": [
    "U"
   ]
  },
  {
   "cell_type": "code",
   "execution_count": null,
   "metadata": {},
   "outputs": [],
   "source": [
    "np.equal(U, U.max(axis=0))"
   ]
  },
  {
   "cell_type": "code",
   "execution_count": null,
   "metadata": {},
   "outputs": [],
   "source": [
    "np.argmax(U, axis=0)"
   ]
  },
  {
   "cell_type": "code",
   "execution_count": null,
   "metadata": {},
   "outputs": [],
   "source": [
    "mf = np.power(U, expo)\n",
    "center = np.divide(\n",
    "    np.dot(mf, data), (np.ones((data.shape[1], 1))*sum(mf.T)).T)"
   ]
  },
  {
   "cell_type": "code",
   "execution_count": null,
   "metadata": {},
   "outputs": [],
   "source": [
    "center"
   ]
  },
  {
   "cell_type": "code",
   "execution_count": null,
   "metadata": {},
   "outputs": [],
   "source": [
    "diff = np.sqrt(np.einsum(\"ijk->ij\", (data[:, None, :] - center) ** 2))\n",
    "temp = diff ** (1 / (expo - 1))\n",
    "denominator_ = temp.reshape((data.shape[0], 1, -1)).repeat(\n",
    "    temp.shape[-1], axis=1\n",
    ")\n",
    "denominator_ = temp[:, :, np.newaxis] / denominator_\n",
    "dist = (1 / denominator_.sum(2)) ** expo"
   ]
  },
  {
   "cell_type": "code",
   "execution_count": null,
   "metadata": {},
   "outputs": [],
   "source": [
    "omega = sum(dist * diff) / (2 * sum(dist))"
   ]
  },
  {
   "cell_type": "code",
   "execution_count": null,
   "metadata": {},
   "outputs": [],
   "source": [
    "mf.T * _exp_derivative_func(diff, omega)"
   ]
  },
  {
   "cell_type": "code",
   "execution_count": null,
   "metadata": {},
   "outputs": [],
   "source": [
    "center"
   ]
  },
  {
   "cell_type": "code",
   "execution_count": null,
   "metadata": {},
   "outputs": [],
   "source": [
    "temp"
   ]
  },
  {
   "cell_type": "code",
   "execution_count": null,
   "metadata": {},
   "outputs": [],
   "source": [
    "dist_part"
   ]
  },
  {
   "cell_type": "code",
   "execution_count": null,
   "metadata": {},
   "outputs": [],
   "source": [
    "diff = np.sqrt(np.einsum(\"ijk->ij\", (data[:, None, :] - center) ** 2))\n",
    "temp = diff ** (1 / (expo - 1))\n",
    "denominator_ = temp.reshape((data.shape[0], 1, -1)).repeat(\n",
    "    temp.shape[-1], axis=1\n",
    ")\n",
    "denominator_ = temp[:, :, np.newaxis] / denominator_\n",
    "dist = (1 / denominator_.sum(2)) ** expo"
   ]
  },
  {
   "cell_type": "code",
   "execution_count": null,
   "metadata": {},
   "outputs": [],
   "source": [
    "dist"
   ]
  },
  {
   "cell_type": "code",
   "execution_count": null,
   "metadata": {},
   "outputs": [],
   "source": [
    "diff"
   ]
  },
  {
   "cell_type": "code",
   "execution_count": null,
   "metadata": {},
   "outputs": [],
   "source": [
    "sum(dist * diff) / (alpha * sum(dist))"
   ]
  },
  {
   "cell_type": "code",
   "execution_count": null,
   "metadata": {},
   "outputs": [],
   "source": [
    "temp.reshape((data.shape[0], 1, -1)).repeat(\n",
    "    temp.shape[-1], axis=1\n",
    ")"
   ]
  },
  {
   "cell_type": "code",
   "execution_count": null,
   "metadata": {},
   "outputs": [],
   "source": [
    "denominator_.sum(2)"
   ]
  },
  {
   "cell_type": "code",
   "execution_count": null,
   "metadata": {},
   "outputs": [],
   "source": [
    "diff = np.zeros((center.shape[0], data.shape[0]))\n",
    "if center.shape[1] > 1:\n",
    "    for k in range(center.shape[0]):\n",
    "        diff[k, :] = np.sqrt(sum(np.power(\n",
    "            data-np.dot(np.ones((data.shape[0], 1)), np.reshape(center[k, :], (1, center.shape[1]))), 2).T))\n",
    "else:  # for 1-D data\n",
    "    for k in range(center.shape[0]):\n",
    "        diff[k, :] = abs(center[k]-data).T\n",
    "# dist = diff + 0.0001\n",
    "dist_part = diff ** (-2 / (expo - 1))\n"
   ]
  },
  {
   "cell_type": "code",
   "execution_count": null,
   "metadata": {},
   "outputs": [],
   "source": [
    "membership = np.equal(U, U.max(axis=0))\n",
    "dist_part = (np.sqrt(np.einsum(\"ijk->ij\", (data[:, None, :] - center) ** 2)) ** (-2 / (expo - 1))).T\n",
    "coef_part = np.power(1 - np.multiply(membership, np.divide(1, np.power(n_data, p + 1))), (-2 / (expo - 1)))"
   ]
  },
  {
   "cell_type": "code",
   "execution_count": null,
   "metadata": {},
   "outputs": [],
   "source": [
    "numerator_part = np.dot(np.ones((n_clusters, 1)), np.reshape(\n",
    "                sum(coef_part), (1, coef_part.shape[1]))) * dist_part"
   ]
  },
  {
   "cell_type": "code",
   "execution_count": null,
   "metadata": {},
   "outputs": [],
   "source": [
    "np.dot(np.ones((n_clusters, 1)), np.reshape(\n",
    "                sum(dist_part), (1, dist_part.shape[1]))) * coef_part"
   ]
  },
  {
   "cell_type": "code",
   "execution_count": null,
   "metadata": {},
   "outputs": [],
   "source": [
    "membership = np.equal(U, U.max(axis=0))\n",
    "membership_size = np.divide(\n",
    "    np.sum(np.multiply(membership, U), axis=1), np.power(n_data, p))\n",
    "relative_size = np.divide(\n",
    "                np.add(membership_size, 1), n_data).reshape(n_clusters, 1)"
   ]
  },
  {
   "cell_type": "code",
   "execution_count": null,
   "metadata": {},
   "outputs": [],
   "source": [
    "index_array = np.argmax(U, axis=0)\n",
    "interaction_reduction = np.subtract(\n",
    "    1, np.take_along_axis(relative_size.T, np.expand_dims(index_array, axis=-1), axis=-1)).T"
   ]
  },
  {
   "cell_type": "code",
   "execution_count": null,
   "metadata": {},
   "outputs": [],
   "source": [
    "interaction_reduction"
   ]
  },
  {
   "cell_type": "code",
   "execution_count": null,
   "metadata": {},
   "outputs": [],
   "source": [
    "data = np.array([[1, 2], [1, 4], [1, 0], [4, 2], [4, 4], [4, 0]])\n",
    "n_data = data.shape[0] # Number of data points\n",
    "n_clusters = 3\n",
    "p = 2\n",
    "expo = 2\n"
   ]
  },
  {
   "cell_type": "code",
   "execution_count": null,
   "metadata": {},
   "outputs": [],
   "source": [
    "# Initialize the partition matrix\n",
    "U = np.random.random(size=(n_clusters, n_data))\n",
    "val = sum(U)\n",
    "U = np.divide(U, np.dot(np.ones((n_clusters, 1)), np.reshape(val, (1, n_data))))\n"
   ]
  },
  {
   "cell_type": "code",
   "execution_count": null,
   "metadata": {},
   "outputs": [],
   "source": [
    "mf = np.power(U, expo)\n",
    "np.divide(np.dot(mf, data), (np.ones((data.shape[1], 1))*sum(mf.T)).T)"
   ]
  },
  {
   "cell_type": "code",
   "execution_count": null,
   "metadata": {},
   "outputs": [],
   "source": [
    "np.array([np.sum(data[j, :] * U[i, j] ** 2 for j in range(n_data))\n",
    "         for i in range(n_clusters)])\n"
   ]
  },
  {
   "cell_type": "code",
   "execution_count": null,
   "metadata": {},
   "outputs": [],
   "source": [
    "np.sum(1 + U[0, j] / (X.size ** p) for j in range(n))"
   ]
  },
  {
   "cell_type": "code",
   "execution_count": null,
   "metadata": {},
   "outputs": [],
   "source": [
    "S.append(sum([1 + u(i, j) / pow(n, p) for i in range(n_clusters) for j in range(n)]) / X.size)"
   ]
  },
  {
   "cell_type": "code",
   "execution_count": null,
   "metadata": {},
   "outputs": [],
   "source": [
    "v = np.empty((n_clusters, X.shape[1])) # The cluster centers"
   ]
  },
  {
   "cell_type": "code",
   "execution_count": null,
   "metadata": {},
   "outputs": [],
   "source": [
    "v[0] = np.sum([U[0, j] ** 2 * X[j] for j in range(n)])"
   ]
  },
  {
   "cell_type": "code",
   "execution_count": null,
   "metadata": {},
   "outputs": [],
   "source": [
    "[X[j,:] * U[0, j] ** 2 for j in range(n)]"
   ]
  },
  {
   "cell_type": "code",
   "execution_count": null,
   "metadata": {},
   "outputs": [],
   "source": [
    "np.sum(np.array([[1, 2], [1, 4]]), axis=0)"
   ]
  },
  {
   "cell_type": "code",
   "execution_count": null,
   "metadata": {},
   "outputs": [],
   "source": [
    "np.array([np.sum(X[j,:] * U[0, j] ** 2 for j in range(n)) for i in range(3)])"
   ]
  }
 ],
 "metadata": {
  "interpreter": {
   "hash": "d02331cd1603ec76c6a0d691d59c880477777fc72f4efeafcd9cb0c05515e5a1"
  },
  "kernelspec": {
   "display_name": "Python 3.10.1 64-bit",
   "language": "python",
   "name": "python3"
  },
  "language_info": {
   "codemirror_mode": {
    "name": "ipython",
    "version": 3
   },
   "file_extension": ".py",
   "mimetype": "text/x-python",
   "name": "python",
   "nbconvert_exporter": "python",
   "pygments_lexer": "ipython3",
   "version": "3.10.1"
  },
  "orig_nbformat": 4
 },
 "nbformat": 4,
 "nbformat_minor": 2
}
