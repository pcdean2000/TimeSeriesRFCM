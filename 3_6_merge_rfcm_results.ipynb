{
 "cells": [
  {
   "cell_type": "code",
   "execution_count": 6,
   "metadata": {},
   "outputs": [],
   "source": [
    "import json\n",
    "import os\n",
    "\n",
    "import numpy as np\n",
    "import pandas as pd\n",
    "\n",
    "from glob import glob\n",
    "from pathlib import Path\n",
    "\n",
    "INTERVAL = 60"
   ]
  },
  {
   "cell_type": "code",
   "execution_count": 7,
   "metadata": {},
   "outputs": [
    {
     "name": "stdout",
     "output_type": "stream",
     "text": [
      "Dir:  timeseries_feature\\pch\\20230329\\interval_60_src_feature                                                   \n",
      "\t timeseries_feature\\pch\\20230329\\interval_60_src_feature\\types.json                                              \r"
     ]
    }
   ],
   "source": [
    "for direction in ['src']:\n",
    "    for targetDir in glob(Path(f\"timeseries_feature/pch/20230329/interval_{INTERVAL}_{direction}*/\").__str__()):\n",
    "        print(\"Dir: \", targetDir, \" \" * 50)\n",
    "        # if os.path.exists(f\"{targetDir}/rfcm_results.csv\"):\n",
    "        #     # os.remove(f\"{targetDir}/rfcm_results.csv\")\n",
    "        #     print(\"rfcm_results.csv already exists\")\n",
    "        #     continue\n",
    "            \n",
    "        with open(os.path.join(targetDir.replace(\"timeseries_feature\", \"timeseries\"), \"pyts_dataset_sample.txt\")) as f:\n",
    "            ip = [line.strip() for line in f.readlines()]\n",
    "        \n",
    "        results = []\n",
    "        for dirname in glob(Path(f\"{targetDir}/*/\").__str__()):\n",
    "            try:\n",
    "                print(\"\\t\", dirname, \" \" * 20, end=\"\\r\")\n",
    "                label = np.load(os.path.join(dirname, \"rfcm_label.npy\"))\n",
    "                df = pd.DataFrame({\"ip\": ip, os.path.split(dirname)[1]: label})\n",
    "                df.set_index(\"ip\", inplace=True)\n",
    "                results.append(df)\n",
    "            except FileNotFoundError as e:\n",
    "                continue\n",
    "            \n",
    "        result = pd.concat(results, axis=1)\n",
    "        result.to_csv(os.path.join(targetDir, 'rfcm_results.csv'))\n",
    "        \n",
    "        res = result.dtypes.to_frame('dtypes').reset_index()\n",
    "        d = res.set_index('index')['dtypes'].astype(str).to_dict()\n",
    "        with open(os.path.join(targetDir, 'types.json'), 'w') as f:\n",
    "            json.dump(d, f)"
   ]
  }
 ],
 "metadata": {
  "kernelspec": {
   "display_name": "Python 3",
   "language": "python",
   "name": "python3"
  },
  "language_info": {
   "codemirror_mode": {
    "name": "ipython",
    "version": 3
   },
   "file_extension": ".py",
   "mimetype": "text/x-python",
   "name": "python",
   "nbconvert_exporter": "python",
   "pygments_lexer": "ipython3",
   "version": "3.10.9"
  },
  "orig_nbformat": 4,
  "vscode": {
   "interpreter": {
    "hash": "d02331cd1603ec76c6a0d691d59c880477777fc72f4efeafcd9cb0c05515e5a1"
   }
  }
 },
 "nbformat": 4,
 "nbformat_minor": 2
}
