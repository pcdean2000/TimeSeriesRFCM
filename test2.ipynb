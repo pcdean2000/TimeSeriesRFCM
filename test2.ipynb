{
 "cells": [
  {
   "cell_type": "code",
   "execution_count": 2,
   "metadata": {},
   "outputs": [],
   "source": [
    "from pyts.metrics import dtw as pyts_dtw\n",
    "from dtw import dtw as dtw_dtw"
   ]
  },
  {
   "cell_type": "code",
   "execution_count": 4,
   "metadata": {},
   "outputs": [],
   "source": [
    "import numpy as np\n",
    "import pandas as pd"
   ]
  },
  {
   "cell_type": "code",
   "execution_count": 5,
   "metadata": {},
   "outputs": [],
   "source": [
    "a = np.array(\n",
    "    [[1,2,3,4,5,6,7,8,9], [1,2,3,4,5,6,7,8,9]]\n",
    ")\n",
    "b = np.array(\n",
    "    [2,4,6,8,10,12,14,16,18]\n",
    ")\n",
    "# pyts_dtw(a, b, dist='absolute')\n",
    "dtw_dtw(a, b, dist=lambda x, y: np.abs(x - y))"
   ]
  },
  {
   "cell_type": "code",
   "execution_count": 15,
   "metadata": {},
   "outputs": [],
   "source": [
    "class TimeSeries:\n",
    "    def __init__(self, data: list):\n",
    "        self.data = np.array(data)\n",
    "        \n",
    "    def __add__(self, other):\n",
    "        if isinstance(other, TimeSeries):\n",
    "            return TimeSeries(self.data + other.data)\n",
    "        elif isinstance(other, (int, float)):\n",
    "            return TimeSeries(self.data + other)\n",
    "    \n",
    "    def __radd__(self, other):\n",
    "        return self.__add__(other)\n",
    "    \n",
    "    def __str__(self):\n",
    "        return str(self.data)\n",
    "    \n",
    "    def __repr__(self):\n",
    "        return self.__str__()\n",
    "    \n",
    "    def append(self, other):\n",
    "        self.data = np.append(self.data, other)\n",
    "        return self\n",
    "    \n",
    "    def extend(self, other):\n",
    "        self.data = np.append(self.data, other.data)\n",
    "        return self\n",
    "    \n",
    "    def size(self):\n",
    "        return len(self.data)"
   ]
  },
  {
   "cell_type": "code",
   "execution_count": 21,
   "metadata": {},
   "outputs": [],
   "source": [
    "df1 = pd.DataFrame({'name': ['a', 'b', 'c'], 'f1': [TimeSeries([1]), TimeSeries([2]), TimeSeries([3])], 'f2': [TimeSeries([4]), TimeSeries([5]), TimeSeries([6])]})\n",
    "df2 = pd.DataFrame({'name': ['a', 'b', 'd'], 'f1': [TimeSeries([1]), TimeSeries([2]), TimeSeries([3])], 'f2': [TimeSeries([4]), TimeSeries([5]), TimeSeries([6])]})"
   ]
  },
  {
   "cell_type": "code",
   "execution_count": 22,
   "metadata": {},
   "outputs": [],
   "source": [
    "merged = pd.merge(df1[\"name\"], df2[\"name\"], on='name', how='outer')\n",
    "counter = 2\n",
    "for prefix in ['f1', 'f2']:\n",
    "    temp = pd.merge(df1[[\"name\", prefix]], df2[[\"name\", prefix]], on='name', how='outer').fillna(TimeSeries([0]))\n",
    "    merged[prefix] = temp.apply(lambda x: x[prefix + \"_x\"].extend(x[prefix + \"_y\"]), axis=1)\n",
    "    merged[prefix] = merged[prefix].apply(lambda x: TimeSeries([0] * (counter - x.size())).extend(x))"
   ]
  },
  {
   "cell_type": "code",
   "execution_count": 23,
   "metadata": {},
   "outputs": [
    {
     "data": {
      "text/html": [
       "<div>\n",
       "<style scoped>\n",
       "    .dataframe tbody tr th:only-of-type {\n",
       "        vertical-align: middle;\n",
       "    }\n",
       "\n",
       "    .dataframe tbody tr th {\n",
       "        vertical-align: top;\n",
       "    }\n",
       "\n",
       "    .dataframe thead th {\n",
       "        text-align: right;\n",
       "    }\n",
       "</style>\n",
       "<table border=\"1\" class=\"dataframe\">\n",
       "  <thead>\n",
       "    <tr style=\"text-align: right;\">\n",
       "      <th></th>\n",
       "      <th>name</th>\n",
       "      <th>f1</th>\n",
       "      <th>f2</th>\n",
       "    </tr>\n",
       "  </thead>\n",
       "  <tbody>\n",
       "    <tr>\n",
       "      <th>0</th>\n",
       "      <td>a</td>\n",
       "      <td>[1. 1.]</td>\n",
       "      <td>[4. 4.]</td>\n",
       "    </tr>\n",
       "    <tr>\n",
       "      <th>1</th>\n",
       "      <td>b</td>\n",
       "      <td>[2. 2.]</td>\n",
       "      <td>[5. 5.]</td>\n",
       "    </tr>\n",
       "    <tr>\n",
       "      <th>2</th>\n",
       "      <td>c</td>\n",
       "      <td>[3. 0.]</td>\n",
       "      <td>[6. 0.]</td>\n",
       "    </tr>\n",
       "    <tr>\n",
       "      <th>3</th>\n",
       "      <td>d</td>\n",
       "      <td>[0. 3.]</td>\n",
       "      <td>[0. 6.]</td>\n",
       "    </tr>\n",
       "  </tbody>\n",
       "</table>\n",
       "</div>"
      ],
      "text/plain": [
       "  name       f1       f2\n",
       "0    a  [1. 1.]  [4. 4.]\n",
       "1    b  [2. 2.]  [5. 5.]\n",
       "2    c  [3. 0.]  [6. 0.]\n",
       "3    d  [0. 3.]  [0. 6.]"
      ]
     },
     "execution_count": 23,
     "metadata": {},
     "output_type": "execute_result"
    }
   ],
   "source": [
    "merged"
   ]
  },
  {
   "cell_type": "code",
   "execution_count": 15,
   "metadata": {},
   "outputs": [
    {
     "data": {
      "text/html": [
       "<div>\n",
       "<style scoped>\n",
       "    .dataframe tbody tr th:only-of-type {\n",
       "        vertical-align: middle;\n",
       "    }\n",
       "\n",
       "    .dataframe tbody tr th {\n",
       "        vertical-align: top;\n",
       "    }\n",
       "\n",
       "    .dataframe thead th {\n",
       "        text-align: right;\n",
       "    }\n",
       "</style>\n",
       "<table border=\"1\" class=\"dataframe\">\n",
       "  <thead>\n",
       "    <tr style=\"text-align: right;\">\n",
       "      <th></th>\n",
       "      <th>name</th>\n",
       "      <th>0</th>\n",
       "    </tr>\n",
       "  </thead>\n",
       "  <tbody>\n",
       "    <tr>\n",
       "      <th>0</th>\n",
       "      <td>a</td>\n",
       "      <td>[10]</td>\n",
       "    </tr>\n",
       "    <tr>\n",
       "      <th>1</th>\n",
       "      <td>b</td>\n",
       "      <td>[14]</td>\n",
       "    </tr>\n",
       "    <tr>\n",
       "      <th>2</th>\n",
       "      <td>c</td>\n",
       "      <td>[9]</td>\n",
       "    </tr>\n",
       "    <tr>\n",
       "      <th>3</th>\n",
       "      <td>d</td>\n",
       "      <td>[9]</td>\n",
       "    </tr>\n",
       "  </tbody>\n",
       "</table>\n",
       "</div>"
      ],
      "text/plain": [
       "  name     0\n",
       "0    a  [10]\n",
       "1    b  [14]\n",
       "2    c   [9]\n",
       "3    d   [9]"
      ]
     },
     "execution_count": 15,
     "metadata": {},
     "output_type": "execute_result"
    }
   ],
   "source": [
    "pd.merge(df1, df2, on='name', how='outer').set_index('name').sum(axis=1).reset_index()"
   ]
  },
  {
   "cell_type": "code",
   "execution_count": 61,
   "metadata": {},
   "outputs": [],
   "source": [
    "a = np.arange(20).reshape(5,4)\n",
    "b = np.arange(5)\n",
    "c = np.arange(6).reshape(2,3)"
   ]
  },
  {
   "cell_type": "code",
   "execution_count": 62,
   "metadata": {},
   "outputs": [
    {
     "data": {
      "text/plain": [
       "array([[ 0,  1,  2,  3],\n",
       "       [ 4,  5,  6,  7],\n",
       "       [ 8,  9, 10, 11],\n",
       "       [12, 13, 14, 15],\n",
       "       [16, 17, 18, 19]])"
      ]
     },
     "execution_count": 62,
     "metadata": {},
     "output_type": "execute_result"
    }
   ],
   "source": [
    "a"
   ]
  },
  {
   "cell_type": "code",
   "execution_count": 63,
   "metadata": {},
   "outputs": [],
   "source": [
    "def init_memval(n_clusters, n_data):\n",
    "        U = np.random.random((n_clusters, n_data))\n",
    "        val = sum(U)\n",
    "        U = np.divide(U, np.dot(np.ones((n_clusters, 1)),\n",
    "                      np.reshape(val, (1, n_data))))\n",
    "        return U"
   ]
  },
  {
   "cell_type": "code",
   "execution_count": 64,
   "metadata": {},
   "outputs": [],
   "source": [
    "data = a"
   ]
  },
  {
   "cell_type": "code",
   "execution_count": 138,
   "metadata": {},
   "outputs": [],
   "source": [
    "n_clusters = 3\n",
    "expo = 2\n",
    "p = 2\n",
    "alpha = 2\n",
    "n_data = data.shape[0]\n",
    "U = init_memval(n_clusters, n_data)"
   ]
  },
  {
   "cell_type": "code",
   "execution_count": 66,
   "metadata": {},
   "outputs": [
    {
     "data": {
      "text/plain": [
       "array([[0.59375833, 0.34759611, 0.60153116, 0.59608245, 0.34008632],\n",
       "       [0.04580525, 0.41200158, 0.13229189, 0.02615162, 0.12169136],\n",
       "       [0.36043642, 0.24040231, 0.26617695, 0.37776593, 0.53822233]])"
      ]
     },
     "execution_count": 66,
     "metadata": {},
     "output_type": "execute_result"
    }
   ],
   "source": [
    "U"
   ]
  },
  {
   "cell_type": "code",
   "execution_count": 70,
   "metadata": {},
   "outputs": [],
   "source": [
    "mf = np.power(U, expo)\n",
    "center = np.divide(\n",
    "    np.dot(mf, data), (np.ones((data.shape[1], 1))*sum(mf.T)).T)"
   ]
  },
  {
   "cell_type": "code",
   "execution_count": 79,
   "metadata": {},
   "outputs": [
    {
     "data": {
      "text/plain": [
       "array([[ 7.26721151,  8.26721151,  9.26721151, 10.26721151],\n",
       "       [ 5.19504028,  6.19504028,  7.19504028,  8.19504028],\n",
       "       [10.34142901, 11.34142901, 12.34142901, 13.34142901]])"
      ]
     },
     "execution_count": 79,
     "metadata": {},
     "output_type": "execute_result"
    }
   ],
   "source": [
    "center"
   ]
  },
  {
   "cell_type": "code",
   "execution_count": 96,
   "metadata": {},
   "outputs": [
    {
     "data": {
      "text/plain": [
       "array([[0.00473374, 0.00926322, 0.00233765],\n",
       "       [0.02341993, 0.17505516, 0.00621678],\n",
       "       [0.46556758, 0.03177509, 0.04560138],\n",
       "       [0.01116107, 0.0053987 , 0.09088074],\n",
       "       [0.00327819, 0.00214138, 0.00780776]])"
      ]
     },
     "execution_count": 96,
     "metadata": {},
     "output_type": "execute_result"
    }
   ],
   "source": [
    "temp"
   ]
  },
  {
   "cell_type": "code",
   "execution_count": 97,
   "metadata": {},
   "outputs": [
    {
     "data": {
      "text/plain": [
       "array([[0.00473374, 0.02341993, 0.46556758, 0.01116107, 0.00327819],\n",
       "       [0.00926322, 0.17505516, 0.03177509, 0.0053987 , 0.00214138],\n",
       "       [0.00233765, 0.00621678, 0.04560138, 0.09088074, 0.00780776]])"
      ]
     },
     "execution_count": 97,
     "metadata": {},
     "output_type": "execute_result"
    }
   ],
   "source": [
    "dist_part"
   ]
  },
  {
   "cell_type": "code",
   "execution_count": 134,
   "metadata": {},
   "outputs": [],
   "source": [
    "diff = np.sqrt(np.einsum(\"ijk->ij\", (data[:, None, :] - center) ** 2))\n",
    "temp = diff ** (1 / (expo - 1))\n",
    "denominator_ = temp.reshape((data.shape[0], 1, -1)).repeat(\n",
    "    temp.shape[-1], axis=1\n",
    ")\n",
    "denominator_ = temp[:, :, np.newaxis] / denominator_\n",
    "dist = (1 / denominator_.sum(2)) ** expo"
   ]
  },
  {
   "cell_type": "code",
   "execution_count": 135,
   "metadata": {},
   "outputs": [
    {
     "data": {
      "text/plain": [
       "array([[0.10395075, 0.20341612, 0.05133365],\n",
       "       [0.05538435, 0.41397728, 0.01470169],\n",
       "       [0.40352699, 0.0275408 , 0.03952464],\n",
       "       [0.04832406, 0.02337472, 0.39348613],\n",
       "       [0.08902667, 0.05815402, 0.2120374 ]])"
      ]
     },
     "execution_count": 135,
     "metadata": {},
     "output_type": "execute_result"
    }
   ],
   "source": [
    "dist"
   ]
  },
  {
   "cell_type": "code",
   "execution_count": 126,
   "metadata": {},
   "outputs": [
    {
     "data": {
      "text/plain": [
       "array([[14.53442302, 10.39008057, 20.68285801],\n",
       "       [ 6.53442302,  2.39008057, 12.68285801],\n",
       "       [ 1.46557698,  5.60991943,  4.68285801],\n",
       "       [ 9.46557698, 13.60991943,  3.31714199],\n",
       "       [17.46557698, 21.60991943, 11.31714199]])"
      ]
     },
     "execution_count": 126,
     "metadata": {},
     "output_type": "execute_result"
    }
   ],
   "source": [
    "diff"
   ]
  },
  {
   "cell_type": "code",
   "execution_count": 140,
   "metadata": {},
   "outputs": [
    {
     "data": {
      "text/plain": [
       "array([3.1965182 , 3.32589733, 3.61292374])"
      ]
     },
     "execution_count": 140,
     "metadata": {},
     "output_type": "execute_result"
    }
   ],
   "source": [
    "sum(dist * diff) / (alpha * sum(dist))"
   ]
  },
  {
   "cell_type": "code",
   "execution_count": 124,
   "metadata": {},
   "outputs": [
    {
     "data": {
      "text/plain": [
       "array([[[14.53442302, 10.39008057, 20.68285801],\n",
       "        [14.53442302, 10.39008057, 20.68285801],\n",
       "        [14.53442302, 10.39008057, 20.68285801]],\n",
       "\n",
       "       [[ 6.53442302,  2.39008057, 12.68285801],\n",
       "        [ 6.53442302,  2.39008057, 12.68285801],\n",
       "        [ 6.53442302,  2.39008057, 12.68285801]],\n",
       "\n",
       "       [[ 1.46557698,  5.60991943,  4.68285801],\n",
       "        [ 1.46557698,  5.60991943,  4.68285801],\n",
       "        [ 1.46557698,  5.60991943,  4.68285801]],\n",
       "\n",
       "       [[ 9.46557698, 13.60991943,  3.31714199],\n",
       "        [ 9.46557698, 13.60991943,  3.31714199],\n",
       "        [ 9.46557698, 13.60991943,  3.31714199]],\n",
       "\n",
       "       [[17.46557698, 21.60991943, 11.31714199],\n",
       "        [17.46557698, 21.60991943, 11.31714199],\n",
       "        [17.46557698, 21.60991943, 11.31714199]]])"
      ]
     },
     "execution_count": 124,
     "metadata": {},
     "output_type": "execute_result"
    }
   ],
   "source": [
    "temp.reshape((data.shape[0], 1, -1)).repeat(\n",
    "    temp.shape[-1], axis=1\n",
    ")"
   ]
  },
  {
   "cell_type": "code",
   "execution_count": 117,
   "metadata": {},
   "outputs": [
    {
     "data": {
      "text/plain": [
       "array([[ 3.53602735,  6.91947871,  1.74618441],\n",
       "       [ 4.90099544, 36.63310316,  1.30096176],\n",
       "       [25.86147416,  1.76505116,  2.53307802],\n",
       "       [ 3.19017394,  1.54311196, 25.97648735],\n",
       "       [ 2.95074048,  1.92748317,  7.02786418]])"
      ]
     },
     "execution_count": 117,
     "metadata": {},
     "output_type": "execute_result"
    }
   ],
   "source": [
    "denominator_.sum(2)"
   ]
  },
  {
   "cell_type": "code",
   "execution_count": 95,
   "metadata": {},
   "outputs": [],
   "source": [
    "diff = np.zeros((center.shape[0], data.shape[0]))\n",
    "if center.shape[1] > 1:\n",
    "    for k in range(center.shape[0]):\n",
    "        diff[k, :] = np.sqrt(sum(np.power(\n",
    "            data-np.dot(np.ones((data.shape[0], 1)), np.reshape(center[k, :], (1, center.shape[1]))), 2).T))\n",
    "else:  # for 1-D data\n",
    "    for k in range(center.shape[0]):\n",
    "        diff[k, :] = abs(center[k]-data).T\n",
    "# dist = diff + 0.0001\n",
    "dist_part = diff ** (-2 / (expo - 1))\n"
   ]
  },
  {
   "cell_type": "code",
   "execution_count": 104,
   "metadata": {},
   "outputs": [],
   "source": [
    "membership = np.equal(U, U.max(axis=0))\n",
    "dist_part = (np.sqrt(np.einsum(\"ijk->ij\", (data[:, None, :] - center) ** 2)) ** (-2 / (expo - 1))).T\n",
    "coef_part = np.power(1 - np.multiply(membership, np.divide(1, np.power(n_data, p + 1))), (-2 / (expo - 1)))"
   ]
  },
  {
   "cell_type": "code",
   "execution_count": 105,
   "metadata": {},
   "outputs": [],
   "source": [
    "numerator_part = np.dot(np.ones((n_clusters, 1)), np.reshape(\n",
    "                sum(coef_part), (1, coef_part.shape[1]))) * dist_part"
   ]
  },
  {
   "cell_type": "code",
   "execution_count": 106,
   "metadata": {},
   "outputs": [
    {
     "data": {
      "text/plain": [
       "array([[0.01659913, 0.20469187, 0.55173652, 0.10918041, 0.01322733],\n",
       "       [0.01633461, 0.20800666, 0.54294405, 0.10744051, 0.01322733],\n",
       "       [0.01633461, 0.20469187, 0.54294405, 0.10744051, 0.01344153]])"
      ]
     },
     "execution_count": 106,
     "metadata": {},
     "output_type": "execute_result"
    }
   ],
   "source": [
    "np.dot(np.ones((n_clusters, 1)), np.reshape(\n",
    "                sum(dist_part), (1, dist_part.shape[1]))) * coef_part"
   ]
  },
  {
   "cell_type": "code",
   "execution_count": 108,
   "metadata": {},
   "outputs": [],
   "source": [
    "membership = np.equal(U, U.max(axis=0))\n",
    "membership_size = np.divide(\n",
    "    np.sum(np.multiply(membership, U), axis=1), np.power(n_data, p))\n",
    "relative_size = np.divide(\n",
    "                np.add(membership_size, 1), n_data).reshape(n_clusters, 1)"
   ]
  },
  {
   "cell_type": "code",
   "execution_count": 110,
   "metadata": {},
   "outputs": [],
   "source": [
    "index_array = np.argmax(U, axis=0)\n",
    "interaction_reduction = np.subtract(\n",
    "    1, np.take_along_axis(relative_size.T, np.expand_dims(index_array, axis=-1), axis=-1)).T"
   ]
  },
  {
   "cell_type": "code",
   "execution_count": 111,
   "metadata": {},
   "outputs": [
    {
     "data": {
      "text/plain": [
       "array([[0.78566902, 0.79670399, 0.78566902, 0.78566902, 0.79569422]])"
      ]
     },
     "execution_count": 111,
     "metadata": {},
     "output_type": "execute_result"
    }
   ],
   "source": [
    "interaction_reduction"
   ]
  },
  {
   "cell_type": "code",
   "execution_count": null,
   "metadata": {},
   "outputs": [],
   "source": [
    "data = np.array([[1, 2], [1, 4], [1, 0], [4, 2], [4, 4], [4, 0]])\n",
    "n_data = data.shape[0] # Number of data points\n",
    "n_clusters = 3\n",
    "p = 2\n",
    "expo = 2\n"
   ]
  },
  {
   "cell_type": "code",
   "execution_count": null,
   "metadata": {},
   "outputs": [],
   "source": [
    "# Initialize the partition matrix\n",
    "U = np.random.random(size=(n_clusters, n_data))\n",
    "val = sum(U)\n",
    "U = np.divide(U, np.dot(np.ones((n_clusters, 1)), np.reshape(val, (1, n_data))))\n"
   ]
  },
  {
   "cell_type": "code",
   "execution_count": null,
   "metadata": {},
   "outputs": [],
   "source": [
    "mf = np.power(U, expo)\n",
    "np.divide(np.dot(mf, data), (np.ones((data.shape[1], 1))*sum(mf.T)).T)"
   ]
  },
  {
   "cell_type": "code",
   "execution_count": null,
   "metadata": {},
   "outputs": [],
   "source": [
    "np.array([np.sum(data[j, :] * U[i, j] ** 2 for j in range(n_data))\n",
    "         for i in range(n_clusters)])\n"
   ]
  },
  {
   "cell_type": "code",
   "execution_count": null,
   "metadata": {},
   "outputs": [],
   "source": [
    "np.sum(1 + U[0, j] / (X.size ** p) for j in range(n))"
   ]
  },
  {
   "cell_type": "code",
   "execution_count": null,
   "metadata": {},
   "outputs": [],
   "source": [
    "S.append(sum([1 + u(i, j) / pow(n, p) for i in range(n_clusters) for j in range(n)]) / X.size)"
   ]
  },
  {
   "cell_type": "code",
   "execution_count": null,
   "metadata": {},
   "outputs": [],
   "source": [
    "v = np.empty((n_clusters, X.shape[1])) # The cluster centers"
   ]
  },
  {
   "cell_type": "code",
   "execution_count": null,
   "metadata": {},
   "outputs": [],
   "source": [
    "v[0] = np.sum([U[0, j] ** 2 * X[j] for j in range(n)])"
   ]
  },
  {
   "cell_type": "code",
   "execution_count": null,
   "metadata": {},
   "outputs": [],
   "source": [
    "[X[j,:] * U[0, j] ** 2 for j in range(n)]"
   ]
  },
  {
   "cell_type": "code",
   "execution_count": null,
   "metadata": {},
   "outputs": [],
   "source": [
    "np.sum(np.array([[1, 2], [1, 4]]), axis=0)"
   ]
  },
  {
   "cell_type": "code",
   "execution_count": null,
   "metadata": {},
   "outputs": [],
   "source": [
    "np.array([np.sum(X[j,:] * U[0, j] ** 2 for j in range(n)) for i in range(3)])"
   ]
  }
 ],
 "metadata": {
  "interpreter": {
   "hash": "d02331cd1603ec76c6a0d691d59c880477777fc72f4efeafcd9cb0c05515e5a1"
  },
  "kernelspec": {
   "display_name": "Python 3.10.1 64-bit",
   "language": "python",
   "name": "python3"
  },
  "language_info": {
   "codemirror_mode": {
    "name": "ipython",
    "version": 3
   },
   "file_extension": ".py",
   "mimetype": "text/x-python",
   "name": "python",
   "nbconvert_exporter": "python",
   "pygments_lexer": "ipython3",
   "version": "3.10.1"
  },
  "orig_nbformat": 4
 },
 "nbformat": 4,
 "nbformat_minor": 2
}
