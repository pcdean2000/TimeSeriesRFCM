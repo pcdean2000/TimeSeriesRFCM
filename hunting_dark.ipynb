{
 "cells": [
  {
   "cell_type": "code",
   "execution_count": 6,
   "metadata": {},
   "outputs": [],
   "source": [
    "import pandas as pd\n",
    "import glob\n",
    "import pathlib\n",
    "from sklearn.neighbors import NearestNeighbors\n",
    "from sklearn.cluster import DBSCAN\n",
    "from kneed import KneeLocator\n",
    "from sklearn.cluster import AgglomerativeClustering\n",
    "from scipy.cluster.hierarchy import dendrogram\n",
    "import numpy as np\n",
    "from matplotlib import pyplot as plt"
   ]
  },
  {
   "cell_type": "markdown",
   "metadata": {},
   "source": [
    "### 取得特徵資料\n",
    "- level 包含\n",
    "  - IPsrc\n",
    "  - IPdst\n",
    "  - IPsrc/24\n",
    "  - IPsrc/16\n",
    "  - IPsrc/8\n",
    "  - IPdst/24\n",
    "  - IPdst/16\n",
    "  - IPdst/8\n",
    "  - traffic per time slot\n",
    "- feature 包含\n",
    "  - #pkts\n",
    "  - #bytes\n",
    "  - #syn"
   ]
  },
  {
   "cell_type": "code",
   "execution_count": 2,
   "metadata": {},
   "outputs": [],
   "source": [
    "# IPsrc\n",
    "# IPdst\n",
    "# IPsrc/24\n",
    "# IPsrc/16\n",
    "# IPsrc/8\n",
    "# IPdst/24\n",
    "# IPdst/16\n",
    "# IPdst/8\n",
    "# traffic per time slot\n",
    "\n",
    "# Load all the files in the folder\n",
    "# for filename in glob.glob(\"data/*\"):\n",
    "#     df = pd.read_csv(filename, index_col=0)\n",
    "#     df = df[[\"sa\", \"da\", \"flg\", \"ipkt\", \"opkt\", \"ibyt\", \"obyt\"]]\n",
    "#     df[[\"sa_8\", \"sa_16\", \"sa_24\", \"sa_32\"]] = df[\"sa\"].str.split(\".\", expand=True)\n",
    "#     df[[\"da_8\", \"da_16\", \"da_24\", \"da_32\"]] = df[\"da\"].str.split(\".\", expand=True)\n",
    "#     df[\"pkt\"] = df[\"ipkt\"] + df[\"opkt\"]\n",
    "#     df[\"byt\"] = df[\"ibyt\"] + df[\"obyt\"]\n",
    "    \n",
    "#     # IPsrc\n",
    "#     df_grouped = df.groupby(['sa'])\n",
    "#     features = df_grouped[[\"pkt\", \"byt\"]].sum()\n",
    "#     features[\"syn\"] = df_grouped[\"flg\"].agg(lambda x: x.str.contains(\"S\").sum())\n",
    "#     pathlib.Path(\"hunting_data/IPsrc\").mkdir(parents=True, exist_ok=True)\n",
    "#     features.to_csv(os.path.join(\"hunting_data\", filename.replace(\"data\", \"IPsrc\")))\n",
    "    \n",
    "#     # IPdst\n",
    "#     df_grouped = df.groupby(['da'])\n",
    "#     features = df_grouped[[\"pkt\", \"byt\"]].sum()\n",
    "#     features[\"syn\"] = df_grouped[\"flg\"].agg(lambda x: x.str.contains(\"S\").sum())\n",
    "#     pathlib.Path(\"hunting_data/IPdst\").mkdir(parents=True, exist_ok=True)\n",
    "#     features.to_csv(os.path.join(\"hunting_data\", filename.replace(\"data\", \"IPdst\")))\n",
    "    \n",
    "#     # IPsrc/24\n",
    "#     df_grouped = df.groupby(['sa_8', 'sa_16', 'sa_24'])\n",
    "#     features = df_grouped[[\"pkt\", \"byt\"]].sum()\n",
    "#     features[\"syn\"] = df_grouped[\"flg\"].agg(lambda x: x.str.contains(\"S\").sum())\n",
    "#     pathlib.Path(\"hunting_data/IPsrc_24\").mkdir(parents=True, exist_ok=True)\n",
    "#     features.to_csv(os.path.join(\"hunting_data\", filename.replace(\"data\", \"IPsrc_24\")))\n",
    "    \n",
    "#     #IPsrc/16\n",
    "#     df_grouped = df.groupby(['sa_8', 'sa_16'])\n",
    "#     features = df_grouped[[\"pkt\", \"byt\"]].sum()\n",
    "#     features[\"syn\"] = df_grouped[\"flg\"].agg(lambda x: x.str.contains(\"S\").sum())\n",
    "#     pathlib.Path(\"hunting_data/IPsrc_16\").mkdir(parents=True, exist_ok=True)\n",
    "#     features.to_csv(os.path.join(\"hunting_data\", filename.replace(\"data\", \"IPsrc_16\")))\n",
    "    \n",
    "#     #IPsrc/8\n",
    "#     df_grouped = df.groupby(['sa_8'])\n",
    "#     features = df_grouped[[\"pkt\", \"byt\"]].sum()\n",
    "#     features[\"syn\"] = df_grouped[\"flg\"].agg(lambda x: x.str.contains(\"S\").sum())\n",
    "#     pathlib.Path(\"hunting_data/IPsrc_8\").mkdir(parents=True, exist_ok=True)\n",
    "#     features.to_csv(os.path.join(\"hunting_data\", filename.replace(\"data\", \"IPsrc_8\")))\n",
    "    \n",
    "#     #IPdst/24\n",
    "#     df_grouped = df.groupby(['da_8', 'da_16', 'da_24'])\n",
    "#     features = df_grouped[[\"pkt\", \"byt\"]].sum()\n",
    "#     features[\"syn\"] = df_grouped[\"flg\"].agg(lambda x: x.str.contains(\"S\").sum())\n",
    "#     pathlib.Path(\"hunting_data/IPdst_24\").mkdir(parents=True, exist_ok=True)\n",
    "#     features.to_csv(os.path.join(\"hunting_data\", filename.replace(\"data\", \"IPdst_24\")))\n",
    "    \n",
    "#     #IPdst/16\n",
    "#     df_grouped = df.groupby(['da_8', 'da_16'])\n",
    "#     features = df_grouped[[\"pkt\", \"byt\"]].sum()\n",
    "#     features[\"syn\"] = df_grouped[\"flg\"].agg(lambda x: x.str.contains(\"S\").sum())\n",
    "#     pathlib.Path(\"hunting_data/IPdst_16\").mkdir(parents=True, exist_ok=True)\n",
    "#     features.to_csv(os.path.join(\"hunting_data\", filename.replace(\"data\", \"IPdst_16\")))\n",
    "    \n",
    "#     #IPdst/8\n",
    "#     df_grouped = df.groupby(['da_8'])\n",
    "#     features = df_grouped[[\"pkt\", \"byt\"]].sum()\n",
    "#     features[\"syn\"] = df_grouped[\"flg\"].agg(lambda x: x.str.contains(\"S\").sum())\n",
    "#     pathlib.Path(\"hunting_data/IPdst_8\").mkdir(parents=True, exist_ok=True)\n",
    "#     features.to_csv(os.path.join(\"hunting_data\", filename.replace(\"data\", \"IPdst_8\")))\n",
    "    \n",
    "#     # traffic_id\n",
    "#     df_grouped = df.groupby(['sa', 'da'])\n",
    "#     features = df_grouped[[\"pkt\", \"byt\"]].sum()\n",
    "#     features[\"syn\"] = df_grouped[\"flg\"].agg(lambda x: x.str.contains(\"S\").sum())\n",
    "#     pathlib.Path(\"hunting_data/traffic_id\").mkdir(parents=True, exist_ok=True)\n",
    "#     features.to_csv(os.path.join(\"hunting_data\", filename.replace(\"data\", \"traffic_id\")))"
   ]
  },
  {
   "cell_type": "code",
   "execution_count": null,
   "metadata": {},
   "outputs": [],
   "source": [
    "for dirname in [\"IPsrc\", \"IPsrc_8\", \"IPsrc_16\", \"IPsrc_24\", \"IPdst_8\", \"IPdst_16\", \"IPdst_24\"]:\n",
    "    pathlib.Path(f\"hunting_data/labelled_{dirname}\").mkdir(parents=True, exist_ok=True)\n",
    "    with open(f\"hunting_data/labelled_{dirname}/log.txt\", \"w\") as f:\n",
    "        for filename in glob.glob(f\"hunting_data/{dirname}/*\"):\n",
    "            df = pd.read_csv(filename, index_col=0)\n",
    "            f.write(\"\\n----------------------------------------------------\\n\")\n",
    "            f.write(f\"Filename: {filename}\\n\")\n",
    "            index = 0\n",
    "            for feature in [[\"pkt\", \"byt\"], [\"byt\", \"syn\"], [\"pkt\", \"syn\"]]:\n",
    "                index += 1\n",
    "                f.write(f\"\\tfeature index: {index}\\n\")\n",
    "                f.write(f\"\\tdeature: {feature}\\n\")\n",
    "                sample = df[feature]\n",
    "                k = sample.columns.size\n",
    "                f.write(f\"\\tk: {k}\\n\")\n",
    "\n",
    "                nbrs = NearestNeighbors(n_neighbors=k).fit(sample)\n",
    "                distances, indices = nbrs.kneighbors(sample)\n",
    "                distance_desc = sorted(distances[:, k - 1], reverse=True)\n",
    "                kneedle = KneeLocator(range(1, len(distance_desc)+1),  # x values\n",
    "                                    distance_desc,  # y values\n",
    "                                    S=1.0,  # parameter suggested from paper\n",
    "                                    curve=\"convex\",  # parameter from figure\n",
    "                                    direction=\"decreasing\")  # parameter from figure\n",
    "                f.write(f\"\\tknee_y: {kneedle.knee_y}\\n\")\n",
    "                \n",
    "                clusters = DBSCAN(eps=kneedle.knee_y, min_samples=k).fit(sample)\n",
    "                df[f\"label_{index}\"] = clusters.labels_\n",
    "            \n",
    "            df.to_csv(filename.replace(dirname, f\"labelled_{dirname}\"))"
   ]
  },
  {
   "cell_type": "code",
   "execution_count": 3,
   "metadata": {},
   "outputs": [],
   "source": [
    "def plot_dendrogram(model, **kwargs):\n",
    "    # Create linkage matrix and then plot the dendrogram\n",
    "\n",
    "    # create the counts of samples under each node\n",
    "    counts = np.zeros(model.children_.shape[0])\n",
    "    n_samples = len(model.labels_)\n",
    "    for i, merge in enumerate(model.children_):\n",
    "        current_count = 0\n",
    "        for child_idx in merge:\n",
    "            if child_idx < n_samples:\n",
    "                current_count += 1  # leaf node\n",
    "            else:\n",
    "                current_count += counts[child_idx - n_samples]\n",
    "        counts[i] = current_count\n",
    "\n",
    "    linkage_matrix = np.column_stack(\n",
    "        [model.children_, model.distances_, counts]\n",
    "    ).astype(float)\n",
    "\n",
    "    # Plot the corresponding dendrogram\n",
    "    dendrogram(linkage_matrix, **kwargs)"
   ]
  },
  {
   "cell_type": "code",
   "execution_count": 73,
   "metadata": {},
   "outputs": [],
   "source": [
    "df = pd.read_csv(\"hunting_data/labelled_IPsrc/20210103_00_00.csv\")\n",
    "df.set_index(\"sa\", inplace=True)\n",
    "df = df[[\"label_1\", \"label_2\", \"label_3\"]]"
   ]
  },
  {
   "cell_type": "code",
   "execution_count": 89,
   "metadata": {},
   "outputs": [
    {
     "data": {
      "text/plain": [
       "label_1  label_2  label_3\n",
       " 0        0        0         12711\n",
       "                  -1            15\n",
       "                   4            12\n",
       "-1       -1       -1            10\n",
       " 6        6        8             9\n",
       " 0        0        6             7\n",
       " 5        5        0             5\n",
       " 3        3        0             5\n",
       " 0        0        2             5\n",
       "                   5             5\n",
       "                   14            4\n",
       "                   12            3\n",
       "                   9             3\n",
       "                   7             2\n",
       " 4        4       -1             2\n",
       " 0        0        11            2\n",
       "                   15            2\n",
       "                   3             2\n",
       "-1       -1        9             2\n",
       " 3        3        5             1\n",
       " 7        7       -1             1\n",
       " 6        6        13            1\n",
       "-1       -1        1             1\n",
       " 6        6        0             1\n",
       "                  -1             1\n",
       " 5        5        16            1\n",
       "-1       -1        4             1\n",
       " 5        5       -1             1\n",
       "-1       -1        7             1\n",
       " 3        3        16            1\n",
       "                   12            1\n",
       "                   2             1\n",
       " 0        0        10            1\n",
       " 3        3       -1             1\n",
       " 2        2        3             1\n",
       "                   1             1\n",
       "                   0             1\n",
       " 1        1        5             1\n",
       "                   0             1\n",
       "                  -1             1\n",
       "-1       -1        0             1\n",
       "                   10            1\n",
       "                   13            1\n",
       " 0        0        1             1\n",
       " 7        7        7             1\n",
       "dtype: int64"
      ]
     },
     "execution_count": 89,
     "metadata": {},
     "output_type": "execute_result"
    }
   ],
   "source": [
    "df.value_counts()"
   ]
  },
  {
   "cell_type": "code",
   "execution_count": 74,
   "metadata": {},
   "outputs": [],
   "source": [
    "def intersection(a, b):\n",
    "    return (a == b).sum() / a.size"
   ]
  },
  {
   "cell_type": "code",
   "execution_count": 75,
   "metadata": {},
   "outputs": [],
   "source": [
    "similarity_matrix = df.T.corr(method=intersection)"
   ]
  },
  {
   "cell_type": "code",
   "execution_count": 85,
   "metadata": {},
   "outputs": [
    {
     "data": {
      "text/plain": [
       "AgglomerativeClustering()"
      ]
     },
     "execution_count": 85,
     "metadata": {},
     "output_type": "execute_result"
    }
   ],
   "source": [
    "model = AgglomerativeClustering(distance_threshold=0, n_clusters=None)\n",
    "model.fit(similarity_matrix)"
   ]
  },
  {
   "cell_type": "code",
   "execution_count": 86,
   "metadata": {},
   "outputs": [
    {
     "data": {
      "text/plain": [
       "(array([0, 1], dtype=int64), array([12775,    57], dtype=int64))"
      ]
     },
     "execution_count": 86,
     "metadata": {},
     "output_type": "execute_result"
    }
   ],
   "source": [
    "np.unique(model.labels_, return_counts=True)"
   ]
  },
  {
   "cell_type": "code",
   "execution_count": 79,
   "metadata": {},
   "outputs": [
    {
     "data": {
      "image/png": "[encoded data removed]",
      "text/plain": [
       "<Figure size 432x288 with 1 Axes>"
      ]
     },
     "metadata": {
      "needs_background": "light"
     },
     "output_type": "display_data"
    }
   ],
   "source": [
    "plt.title(\"Hierarchical Clustering Dendrogram\")\n",
    "# plot the top three levels of the dendrogram\n",
    "plot_dendrogram(model, truncate_mode=\"level\", p=2)\n",
    "plt.xlabel(\"Number of points in node (or index of point if no parenthesis).\")\n",
    "plt.show()"
   ]
  },
  {
   "cell_type": "code",
   "execution_count": null,
   "metadata": {},
   "outputs": [],
   "source": [
    "import math\n",
    "int(\n",
    "    (1 / math.sqrt(5)) *\n",
    "    (\n",
    "        (((1 + math.sqrt(5)) / 2)**(n + 1)) -\n",
    "        (((1 - math.sqrt(5)) / 2)**(n + 1))\n",
    "    )\n",
    ")\n"
   ]
  }
 ],
 "metadata": {
  "kernelspec": {
   "display_name": "Python 3.11.0 64-bit",
   "language": "python",
   "name": "python3"
  },
  "language_info": {
   "codemirror_mode": {
    "name": "ipython",
    "version": 3
   },
   "file_extension": ".py",
   "mimetype": "text/x-python",
   "name": "python",
   "nbconvert_exporter": "python",
   "pygments_lexer": "ipython3",
   "version": "3.11.0"
  },
  "orig_nbformat": 4,
  "vscode": {
   "interpreter": {
    "hash": "1bbd4776ce5612284a8a6ecb61b3238f1005cd304432b166574e9dca3ba20737"
   }
  }
 },
 "nbformat": 4,
 "nbformat_minor": 2
}
