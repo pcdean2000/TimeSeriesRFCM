{
 "cells": [
  {
   "cell_type": "code",
   "execution_count": 29,
   "metadata": {},
   "outputs": [],
   "source": [
    "import json\n",
    "import os\n",
    "\n",
    "import numpy as np\n",
    "import pandas as p\n",
    "\n",
    "from glob import glob\n",
    "from pathlib import Path\n",
    "\n",
    "INTERVAL = 5\n",
    "TARGETFILENAME = 'sorted_rfcm_results.csv'"
   ]
  },
  {
   "cell_type": "code",
   "execution_count": 30,
   "metadata": {},
   "outputs": [
    {
     "name": "stdout",
     "output_type": "stream",
     "text": [
      "Dir:  timeseries_feature\\interval_5_src_feature                                                   \n",
      "Dir:  timeseries_feature\\interval_5_src_feature_reconstructed_STL_combined                                                   \n",
      "Dir:  timeseries_feature\\interval_5_src_feature_reconstructed_STL_detrend                                                   \n",
      "Dir:  timeseries_feature\\interval_5_src_feature_reconstructed_STL_seasonal                                                   \n",
      "Dir:  timeseries_feature\\interval_5_src_feature_reconstructed_STL_trend                                                   \n"
     ]
    }
   ],
   "source": [
    "for direction in ['src']:\n",
    "    for targetDir in glob(Path(f\"timeseries_feature/interval_{INTERVAL}_{direction}*/\").__str__()):\n",
    "        print(\"Dir: \", targetDir, \" \" * 50)\n",
    "        if os.path.exists(f\"{targetDir}/{TARGETFILENAME}\"):\n",
    "            print(f\"{TARGETFILENAME} already exists\")\n",
    "            continue\n",
    "        \n",
    "        with open(os.path.join(targetDir, \"types.json\")) as f:\n",
    "            types = json.load(f)\n",
    "        df = pd.read_csv(os.path.join(targetDir, 'rfcm_results.csv'), index_col=0, dtype=types)\n",
    "        \n",
    "        for col in df.columns:\n",
    "            df[col].replace({key: value for value, key in enumerate(df[col].value_counts().index)}, inplace=True)\n",
    "        \n",
    "        df.to_csv(os.path.join(targetDir, TARGETFILENAME))"
   ]
  },
  {
   "cell_type": "code",
   "execution_count": 31,
   "metadata": {},
   "outputs": [],
   "source": [
    "# with open('timeseries_feature/interval_30_src_feature/types.json') as f:\n",
    "#     types = json.load(f)\n",
    "# df = pd.read_csv('timeseries_feature/interval_5_src_feature/rfcm_results.csv', index_col=0, dtype=types)\n",
    "# df"
   ]
  },
  {
   "cell_type": "code",
   "execution_count": 32,
   "metadata": {},
   "outputs": [],
   "source": [
    "# for col in df.columns:\n",
    "#     print(df[col].replace({key: value for value, key in enumerate(df[col].value_counts().index)}))\n",
    "#     break"
   ]
  }
 ],
 "metadata": {
  "kernelspec": {
   "display_name": "Python 3",
   "language": "python",
   "name": "python3"
  },
  "language_info": {
   "codemirror_mode": {
    "name": "ipython",
    "version": 3
   },
   "file_extension": ".py",
   "mimetype": "text/x-python",
   "name": "python",
   "nbconvert_exporter": "python",
   "pygments_lexer": "ipython3",
   "version": "3.10.9"
  },
  "orig_nbformat": 4,
  "vscode": {
   "interpreter": {
    "hash": "d02331cd1603ec76c6a0d691d59c880477777fc72f4efeafcd9cb0c05515e5a1"
   }
  }
 },
 "nbformat": 4,
 "nbformat_minor": 2
}
