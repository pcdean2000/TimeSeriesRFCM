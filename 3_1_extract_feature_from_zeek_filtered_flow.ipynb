{
 "cells": [
  {
   "cell_type": "code",
   "execution_count": 9,
   "metadata": {},
   "outputs": [],
   "source": [
    "import pandas as pd\n",
    "\n",
    "import os"
   ]
  },
  {
   "cell_type": "code",
   "execution_count": 10,
   "metadata": {},
   "outputs": [],
   "source": [
    "netflow_filtered = pd.read_csv('pch/netflow/pch.20230329-20230331.csv')\n",
    "netflow_filtered[[\"ts\", \"te\"]] = netflow_filtered[[\"ts\", \"te\"]].astype(dtype='datetime64[ns]')"
   ]
  },
  {
   "attachments": {},
   "cell_type": "markdown",
   "metadata": {},
   "source": [
    "用 sa grouping"
   ]
  },
  {
   "cell_type": "code",
   "execution_count": 11,
   "metadata": {},
   "outputs": [
    {
     "name": "stdout",
     "output_type": "stream",
     "text": [
      "Key: 99.86.178.54                        \r"
     ]
    }
   ],
   "source": [
    "grouped = netflow_filtered.groupby('sa')\n",
    "\n",
    "for key, df in grouped:\n",
    "    print(\"Key: \" + key, \" \" * 20, end=\"\\r\")\n",
    "    if \":\" in key:\n",
    "        continue\n",
    "    targetFile = \"pch/20230329-20230331/src_feature/\" + key + \".parquet\"\n",
    "    if os.path.isfile(targetFile):\n",
    "        continue\n",
    "    \n",
    "    temp = {\n",
    "        \"ts\": [],\n",
    "        \"sa\": [],\n",
    "        \"ipkt\": [],\n",
    "        \"ibyt\": [],\n",
    "        \"opkt\": [],\n",
    "        \"obyt\": [],\n",
    "        \"flows\": [],\n",
    "        \"nda\": [],\n",
    "        \"nsp\": [],\n",
    "        \"ndp\": [],\n",
    "    }\n",
    "    for row in df.itertuples():\n",
    "        duration = int(row.td) + 1\n",
    "        for t in [row.ts + pd.Timedelta(seconds=s) for s in range(duration)]:\n",
    "            temp[\"ts\"].append(t)\n",
    "            temp[\"sa\"].append(row.sa)\n",
    "            temp[\"ipkt\"].append(row.ipkt / duration)\n",
    "            temp[\"ibyt\"].append(row.ibyt / duration)\n",
    "            temp[\"opkt\"].append(row.opkt / duration)\n",
    "            temp[\"obyt\"].append(row.obyt / duration)\n",
    "            temp[\"flows\"].append(1)\n",
    "            temp[\"nda\"].append(1)\n",
    "            temp[\"nsp\"].append(1)\n",
    "            temp[\"ndp\"].append(1)\n",
    "    temp = pd.DataFrame(temp)\n",
    "    \n",
    "    feature = pd.DataFrame()\n",
    "    feature[\"timeStart\"] = temp[\"ts\"]\n",
    "    feature[\"srcIP\"] = temp[\"sa\"]\n",
    "    feature[\"packets\"] = temp[\"ipkt\"] + temp[\"opkt\"]\n",
    "    feature[\"bytes\"] = temp[\"ibyt\"] + temp[\"obyt\"]\n",
    "    feature[\"bytes/packets\"] = feature[\"bytes\"] / feature[\"packets\"]\n",
    "    feature[\"flows\"] = temp[\"flows\"]\n",
    "    feature[\"flows/(bytes/packets)\"] = feature[\"flows\"] / feature[\"bytes/packets\"]\n",
    "    feature[\"nDstIP\"] = temp[\"nda\"]\n",
    "    feature[\"nSrcPort\"] = temp[\"nsp\"]\n",
    "    feature[\"nDstPort\"] = temp[\"ndp\"]\n",
    "    os.makedirs(os.path.dirname(targetFile), exist_ok=True)\n",
    "    feature.to_parquet(targetFile, index=False)"
   ]
  },
  {
   "attachments": {},
   "cell_type": "markdown",
   "metadata": {},
   "source": [
    "用 da grouping"
   ]
  },
  {
   "cell_type": "code",
   "execution_count": 12,
   "metadata": {},
   "outputs": [
    {
     "name": "stdout",
     "output_type": "stream",
     "text": [
      "Key: 99.86.229.113                       \r"
     ]
    }
   ],
   "source": [
    "grouped = netflow_filtered.groupby('da')\n",
    "\n",
    "for key, df in grouped:\n",
    "    print(\"Key: \" + key, \" \" * 20, end=\"\\r\")\n",
    "    if \":\" in key:\n",
    "        continue\n",
    "    targetFile = \"pch/20230329-20230331/dst_feature/\" + key + \".parguet\"\n",
    "    if os.path.isfile(targetFile):\n",
    "        continue\n",
    "    \n",
    "    temp = {\n",
    "        \"ts\": [],\n",
    "        \"da\": [],\n",
    "        \"ipkt\": [],\n",
    "        \"ibyt\": [],\n",
    "        \"opkt\": [],\n",
    "        \"obyt\": [],\n",
    "        \"flows\": [],\n",
    "        \"nsa\": [],\n",
    "        \"nsp\": [],\n",
    "        \"ndp\": [],\n",
    "    }\n",
    "    for row in df.itertuples():\n",
    "        duration = int(row.td) + 1\n",
    "        for t in [row.ts + pd.Timedelta(seconds=s) for s in range(duration)]:\n",
    "            temp[\"ts\"].append(t)\n",
    "            temp[\"da\"].append(row.da)\n",
    "            temp[\"ipkt\"].append(row.ipkt / duration)\n",
    "            temp[\"ibyt\"].append(row.ibyt / duration)\n",
    "            temp[\"opkt\"].append(row.opkt / duration)\n",
    "            temp[\"obyt\"].append(row.obyt / duration)\n",
    "            temp[\"flows\"].append(1)\n",
    "            temp[\"nsa\"].append(1)\n",
    "            temp[\"nsp\"].append(1)\n",
    "            temp[\"ndp\"].append(1)\n",
    "    temp = pd.DataFrame(temp)\n",
    "    \n",
    "    feature = pd.DataFrame()\n",
    "    feature[\"timeStart\"] = temp[\"ts\"]\n",
    "    feature[\"dstIP\"] = temp[\"da\"]\n",
    "    feature[\"packets\"] = temp[\"ipkt\"] + temp[\"opkt\"]\n",
    "    feature[\"bytes\"] = temp[\"ibyt\"] + temp[\"obyt\"]\n",
    "    feature[\"bytes/packets\"] = feature[\"bytes\"] / feature[\"packets\"]\n",
    "    feature[\"flows\"] = temp[\"flows\"]\n",
    "    feature[\"flows/(bytes/packets)\"] = feature[\"flows\"] / feature[\"bytes/packets\"]\n",
    "    feature[\"nSrcIP\"] = temp[\"nsa\"]\n",
    "    feature[\"nSrcPort\"] = temp[\"nsp\"]\n",
    "    feature[\"nDstPort\"] = temp[\"ndp\"]\n",
    "    os.makedirs(os.path.dirname(targetFile), exist_ok=True)\n",
    "    feature.to_parquet(targetFile, index=False)"
   ]
  }
 ],
 "metadata": {
  "kernelspec": {
   "display_name": "Python 3",
   "language": "python",
   "name": "python3"
  },
  "language_info": {
   "codemirror_mode": {
    "name": "ipython",
    "version": 3
   },
   "file_extension": ".py",
   "mimetype": "text/x-python",
   "name": "python",
   "nbconvert_exporter": "python",
   "pygments_lexer": "ipython3",
   "version": "3.10.9"
  },
  "orig_nbformat": 4,
  "vscode": {
   "interpreter": {
    "hash": "d02331cd1603ec76c6a0d691d59c880477777fc72f4efeafcd9cb0c05515e5a1"
   }
  }
 },
 "nbformat": 4,
 "nbformat_minor": 2
}
