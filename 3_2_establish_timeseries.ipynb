{
 "cells": [
  {
   "cell_type": "code",
   "execution_count": 1,
   "metadata": {},
   "outputs": [],
   "source": [
    "from datetime import datetime, timedelta\n",
    "from glob import glob\n",
    "from pathlib import Path\n",
    "\n",
    "import pandas as pd\n",
    "\n",
    "import os\n",
    "\n",
    "INTERVAL = 60"
   ]
  },
  {
   "attachments": {},
   "cell_type": "markdown",
   "metadata": {},
   "source": [
    "用 src feature 產生時間序列資料"
   ]
  },
  {
   "cell_type": "code",
   "execution_count": 2,
   "metadata": {},
   "outputs": [
    {
     "name": "stdout",
     "output_type": "stream",
     "text": [
      "Processing pch\\20230329-20230331\\src_feature\\205.251.192.172.parquet ...                     \r"
     ]
    },
    {
     "ename": "KeyboardInterrupt",
     "evalue": "",
     "output_type": "error",
     "traceback": [
      "\u001b[1;31m---------------------------------------------------------------------------\u001b[0m",
      "\u001b[1;31mKeyboardInterrupt\u001b[0m                         Traceback (most recent call last)",
      "Cell \u001b[1;32mIn[2], line 18\u001b[0m\n\u001b[0;32m     11\u001b[0m \u001b[39mwhile\u001b[39;00m start_time \u001b[39m<\u001b[39m\u001b[39m=\u001b[39m end_time:\n\u001b[0;32m     12\u001b[0m     filtered \u001b[39m=\u001b[39m df[(df[\u001b[39m\"\u001b[39m\u001b[39mtimeStart\u001b[39m\u001b[39m\"\u001b[39m] \u001b[39m>\u001b[39m\u001b[39m=\u001b[39m start_time) \u001b[39m&\u001b[39m (df[\u001b[39m\"\u001b[39m\u001b[39mtimeStart\u001b[39m\u001b[39m\"\u001b[39m] \u001b[39m<\u001b[39m start_time \u001b[39m+\u001b[39m timedelta(seconds\u001b[39m=\u001b[39mINTERVAL))]\n\u001b[0;32m     13\u001b[0m     result\u001b[39m.\u001b[39mappend(\n\u001b[0;32m     14\u001b[0m         {\n\u001b[0;32m     15\u001b[0m             \u001b[39m\"\u001b[39m\u001b[39mtimeStart\u001b[39m\u001b[39m\"\u001b[39m: start_time,\n\u001b[0;32m     16\u001b[0m             \u001b[39m\"\u001b[39m\u001b[39msrcIP\u001b[39m\u001b[39m\"\u001b[39m: df[\u001b[39m\"\u001b[39m\u001b[39msrcIP\u001b[39m\u001b[39m\"\u001b[39m]\u001b[39m.\u001b[39munique()\u001b[39m.\u001b[39mtolist()[\u001b[39m0\u001b[39m],\n\u001b[0;32m     17\u001b[0m             \u001b[39m\"\u001b[39m\u001b[39mpackets\u001b[39m\u001b[39m\"\u001b[39m: filtered[\u001b[39m\"\u001b[39m\u001b[39mpackets\u001b[39m\u001b[39m\"\u001b[39m]\u001b[39m.\u001b[39msum(),\n\u001b[1;32m---> 18\u001b[0m             \u001b[39m\"\u001b[39m\u001b[39mbytes\u001b[39m\u001b[39m\"\u001b[39m: filtered[\u001b[39m\"\u001b[39;49m\u001b[39mbytes\u001b[39;49m\u001b[39m\"\u001b[39;49m]\u001b[39m.\u001b[39;49msum(),\n\u001b[0;32m     19\u001b[0m             \u001b[39m\"\u001b[39m\u001b[39mflows\u001b[39m\u001b[39m\"\u001b[39m: filtered[\u001b[39m\"\u001b[39m\u001b[39mflows\u001b[39m\u001b[39m\"\u001b[39m]\u001b[39m.\u001b[39msum(),\n\u001b[0;32m     20\u001b[0m             \u001b[39m\"\u001b[39m\u001b[39mbytes/packets\u001b[39m\u001b[39m\"\u001b[39m: filtered[\u001b[39m\"\u001b[39m\u001b[39mbytes\u001b[39m\u001b[39m\"\u001b[39m]\u001b[39m.\u001b[39msum() \u001b[39m/\u001b[39m filtered[\u001b[39m\"\u001b[39m\u001b[39mpackets\u001b[39m\u001b[39m\"\u001b[39m]\u001b[39m.\u001b[39msum() \u001b[39mif\u001b[39;00m filtered[\u001b[39m\"\u001b[39m\u001b[39mpackets\u001b[39m\u001b[39m\"\u001b[39m]\u001b[39m.\u001b[39msum() \u001b[39m!=\u001b[39m \u001b[39m0\u001b[39m \u001b[39melse\u001b[39;00m \u001b[39m0\u001b[39m,\n\u001b[0;32m     21\u001b[0m             \u001b[39m\"\u001b[39m\u001b[39mflows/(bytes/packets)\u001b[39m\u001b[39m\"\u001b[39m: filtered[\u001b[39m\"\u001b[39m\u001b[39mflows\u001b[39m\u001b[39m\"\u001b[39m]\u001b[39m.\u001b[39msum() \u001b[39m/\u001b[39m (filtered[\u001b[39m\"\u001b[39m\u001b[39mbytes\u001b[39m\u001b[39m\"\u001b[39m]\u001b[39m.\u001b[39msum() \u001b[39m/\u001b[39m filtered[\u001b[39m\"\u001b[39m\u001b[39mpackets\u001b[39m\u001b[39m\"\u001b[39m]\u001b[39m.\u001b[39msum()) \u001b[39mif\u001b[39;00m filtered[\u001b[39m\"\u001b[39m\u001b[39mbytes\u001b[39m\u001b[39m\"\u001b[39m]\u001b[39m.\u001b[39msum() \u001b[39m!=\u001b[39m \u001b[39m0\u001b[39m \u001b[39mand\u001b[39;00m filtered[\u001b[39m\"\u001b[39m\u001b[39mpackets\u001b[39m\u001b[39m\"\u001b[39m]\u001b[39m.\u001b[39msum() \u001b[39m!=\u001b[39m \u001b[39m0\u001b[39m \u001b[39melse\u001b[39;00m \u001b[39m0\u001b[39m,\n\u001b[0;32m     22\u001b[0m             \u001b[39m\"\u001b[39m\u001b[39mnDstIP\u001b[39m\u001b[39m\"\u001b[39m: filtered[\u001b[39m\"\u001b[39m\u001b[39mnDstIP\u001b[39m\u001b[39m\"\u001b[39m]\u001b[39m.\u001b[39msum(),\n\u001b[0;32m     23\u001b[0m             \u001b[39m\"\u001b[39m\u001b[39mnSrcPort\u001b[39m\u001b[39m\"\u001b[39m: filtered[\u001b[39m\"\u001b[39m\u001b[39mnSrcPort\u001b[39m\u001b[39m\"\u001b[39m]\u001b[39m.\u001b[39msum(),\n\u001b[0;32m     24\u001b[0m             \u001b[39m\"\u001b[39m\u001b[39mnDstPort\u001b[39m\u001b[39m\"\u001b[39m: filtered[\u001b[39m\"\u001b[39m\u001b[39mnDstPort\u001b[39m\u001b[39m\"\u001b[39m]\u001b[39m.\u001b[39msum(),\n\u001b[0;32m     25\u001b[0m         }\n\u001b[0;32m     26\u001b[0m     )\n\u001b[0;32m     27\u001b[0m     start_time \u001b[39m+\u001b[39m\u001b[39m=\u001b[39m timedelta(seconds\u001b[39m=\u001b[39mINTERVAL)\n\u001b[0;32m     28\u001b[0m result \u001b[39m=\u001b[39m pd\u001b[39m.\u001b[39mDataFrame(result)\n",
      "File \u001b[1;32mc:\\Users\\pcdea\\AppData\\Local\\Programs\\Python\\Python310\\lib\\site-packages\\pandas\\core\\generic.py:11797\u001b[0m, in \u001b[0;36mNDFrame._add_numeric_operations.<locals>.sum\u001b[1;34m(self, axis, skipna, level, numeric_only, min_count, **kwargs)\u001b[0m\n\u001b[0;32m  11777\u001b[0m \u001b[39m@doc\u001b[39m(\n\u001b[0;32m  11778\u001b[0m     _num_doc,\n\u001b[0;32m  11779\u001b[0m     desc\u001b[39m=\u001b[39m\u001b[39m\"\u001b[39m\u001b[39mReturn the sum of the values over the requested axis.\u001b[39m\u001b[39m\\n\u001b[39;00m\u001b[39m\\n\u001b[39;00m\u001b[39m\"\u001b[39m\n\u001b[1;32m   (...)\u001b[0m\n\u001b[0;32m  11795\u001b[0m     \u001b[39m*\u001b[39m\u001b[39m*\u001b[39mkwargs,\n\u001b[0;32m  11796\u001b[0m ):\n\u001b[1;32m> 11797\u001b[0m     \u001b[39mreturn\u001b[39;00m NDFrame\u001b[39m.\u001b[39msum(\n\u001b[0;32m  11798\u001b[0m         \u001b[39mself\u001b[39m, axis, skipna, level, numeric_only, min_count, \u001b[39m*\u001b[39m\u001b[39m*\u001b[39mkwargs\n\u001b[0;32m  11799\u001b[0m     )\n",
      "File \u001b[1;32mc:\\Users\\pcdea\\AppData\\Local\\Programs\\Python\\Python310\\lib\\site-packages\\pandas\\core\\generic.py:11501\u001b[0m, in \u001b[0;36mNDFrame.sum\u001b[1;34m(self, axis, skipna, level, numeric_only, min_count, **kwargs)\u001b[0m\n\u001b[0;32m  11492\u001b[0m \u001b[39mdef\u001b[39;00m \u001b[39msum\u001b[39m(\n\u001b[0;32m  11493\u001b[0m     \u001b[39mself\u001b[39m,\n\u001b[0;32m  11494\u001b[0m     axis: Axis \u001b[39m|\u001b[39m \u001b[39mNone\u001b[39;00m \u001b[39m=\u001b[39m \u001b[39mNone\u001b[39;00m,\n\u001b[1;32m   (...)\u001b[0m\n\u001b[0;32m  11499\u001b[0m     \u001b[39m*\u001b[39m\u001b[39m*\u001b[39mkwargs,\n\u001b[0;32m  11500\u001b[0m ):\n\u001b[1;32m> 11501\u001b[0m     \u001b[39mreturn\u001b[39;00m \u001b[39mself\u001b[39m\u001b[39m.\u001b[39m_min_count_stat_function(\n\u001b[0;32m  11502\u001b[0m         \u001b[39m\"\u001b[39m\u001b[39msum\u001b[39m\u001b[39m\"\u001b[39m, nanops\u001b[39m.\u001b[39mnansum, axis, skipna, level, numeric_only, min_count, \u001b[39m*\u001b[39m\u001b[39m*\u001b[39mkwargs\n\u001b[0;32m  11503\u001b[0m     )\n",
      "File \u001b[1;32mc:\\Users\\pcdea\\AppData\\Local\\Programs\\Python\\Python310\\lib\\site-packages\\pandas\\core\\generic.py:11483\u001b[0m, in \u001b[0;36mNDFrame._min_count_stat_function\u001b[1;34m(self, name, func, axis, skipna, level, numeric_only, min_count, **kwargs)\u001b[0m\n\u001b[0;32m  11467\u001b[0m     warnings\u001b[39m.\u001b[39mwarn(\n\u001b[0;32m  11468\u001b[0m         \u001b[39m\"\u001b[39m\u001b[39mUsing the level keyword in DataFrame and Series aggregations is \u001b[39m\u001b[39m\"\u001b[39m\n\u001b[0;32m  11469\u001b[0m         \u001b[39m\"\u001b[39m\u001b[39mdeprecated and will be removed in a future version. Use groupby \u001b[39m\u001b[39m\"\u001b[39m\n\u001b[1;32m   (...)\u001b[0m\n\u001b[0;32m  11472\u001b[0m         stacklevel\u001b[39m=\u001b[39mfind_stack_level(),\n\u001b[0;32m  11473\u001b[0m     )\n\u001b[0;32m  11474\u001b[0m     \u001b[39mreturn\u001b[39;00m \u001b[39mself\u001b[39m\u001b[39m.\u001b[39m_agg_by_level(\n\u001b[0;32m  11475\u001b[0m         name,\n\u001b[0;32m  11476\u001b[0m         axis\u001b[39m=\u001b[39maxis,\n\u001b[1;32m   (...)\u001b[0m\n\u001b[0;32m  11480\u001b[0m         numeric_only\u001b[39m=\u001b[39mnumeric_only,\n\u001b[0;32m  11481\u001b[0m     )\n\u001b[1;32m> 11483\u001b[0m \u001b[39mreturn\u001b[39;00m \u001b[39mself\u001b[39;49m\u001b[39m.\u001b[39;49m_reduce(\n\u001b[0;32m  11484\u001b[0m     func,\n\u001b[0;32m  11485\u001b[0m     name\u001b[39m=\u001b[39;49mname,\n\u001b[0;32m  11486\u001b[0m     axis\u001b[39m=\u001b[39;49maxis,\n\u001b[0;32m  11487\u001b[0m     skipna\u001b[39m=\u001b[39;49mskipna,\n\u001b[0;32m  11488\u001b[0m     numeric_only\u001b[39m=\u001b[39;49mnumeric_only,\n\u001b[0;32m  11489\u001b[0m     min_count\u001b[39m=\u001b[39;49mmin_count,\n\u001b[0;32m  11490\u001b[0m )\n",
      "File \u001b[1;32mc:\\Users\\pcdea\\AppData\\Local\\Programs\\Python\\Python310\\lib\\site-packages\\pandas\\core\\series.py:4816\u001b[0m, in \u001b[0;36mSeries._reduce\u001b[1;34m(self, op, name, axis, skipna, numeric_only, filter_type, **kwds)\u001b[0m\n\u001b[0;32m   4812\u001b[0m     \u001b[39mraise\u001b[39;00m \u001b[39mNotImplementedError\u001b[39;00m(\n\u001b[0;32m   4813\u001b[0m         \u001b[39mf\u001b[39m\u001b[39m\"\u001b[39m\u001b[39mSeries.\u001b[39m\u001b[39m{\u001b[39;00mname\u001b[39m}\u001b[39;00m\u001b[39m does not implement \u001b[39m\u001b[39m{\u001b[39;00mkwd_name\u001b[39m}\u001b[39;00m\u001b[39m.\u001b[39m\u001b[39m\"\u001b[39m\n\u001b[0;32m   4814\u001b[0m     )\n\u001b[0;32m   4815\u001b[0m \u001b[39mwith\u001b[39;00m np\u001b[39m.\u001b[39merrstate(\u001b[39mall\u001b[39m\u001b[39m=\u001b[39m\u001b[39m\"\u001b[39m\u001b[39mignore\u001b[39m\u001b[39m\"\u001b[39m):\n\u001b[1;32m-> 4816\u001b[0m     \u001b[39mreturn\u001b[39;00m op(delegate, skipna\u001b[39m=\u001b[39mskipna, \u001b[39m*\u001b[39m\u001b[39m*\u001b[39mkwds)\n",
      "File \u001b[1;32mc:\\Users\\pcdea\\AppData\\Local\\Programs\\Python\\Python310\\lib\\site-packages\\pandas\\core\\nanops.py:93\u001b[0m, in \u001b[0;36mdisallow.__call__.<locals>._f\u001b[1;34m(*args, **kwargs)\u001b[0m\n\u001b[0;32m     91\u001b[0m \u001b[39mtry\u001b[39;00m:\n\u001b[0;32m     92\u001b[0m     \u001b[39mwith\u001b[39;00m np\u001b[39m.\u001b[39merrstate(invalid\u001b[39m=\u001b[39m\u001b[39m\"\u001b[39m\u001b[39mignore\u001b[39m\u001b[39m\"\u001b[39m):\n\u001b[1;32m---> 93\u001b[0m         \u001b[39mreturn\u001b[39;00m f(\u001b[39m*\u001b[39margs, \u001b[39m*\u001b[39m\u001b[39m*\u001b[39mkwargs)\n\u001b[0;32m     94\u001b[0m \u001b[39mexcept\u001b[39;00m \u001b[39mValueError\u001b[39;00m \u001b[39mas\u001b[39;00m e:\n\u001b[0;32m     95\u001b[0m     \u001b[39m# we want to transform an object array\u001b[39;00m\n\u001b[0;32m     96\u001b[0m     \u001b[39m# ValueError message to the more typical TypeError\u001b[39;00m\n\u001b[0;32m     97\u001b[0m     \u001b[39m# e.g. this is normally a disallowed function on\u001b[39;00m\n\u001b[0;32m     98\u001b[0m     \u001b[39m# object arrays that contain strings\u001b[39;00m\n\u001b[0;32m     99\u001b[0m     \u001b[39mif\u001b[39;00m is_object_dtype(args[\u001b[39m0\u001b[39m]):\n",
      "File \u001b[1;32mc:\\Users\\pcdea\\AppData\\Local\\Programs\\Python\\Python310\\lib\\site-packages\\pandas\\core\\nanops.py:418\u001b[0m, in \u001b[0;36m_datetimelike_compat.<locals>.new_func\u001b[1;34m(values, axis, skipna, mask, **kwargs)\u001b[0m\n\u001b[0;32m    415\u001b[0m \u001b[39mif\u001b[39;00m datetimelike \u001b[39mand\u001b[39;00m mask \u001b[39mis\u001b[39;00m \u001b[39mNone\u001b[39;00m:\n\u001b[0;32m    416\u001b[0m     mask \u001b[39m=\u001b[39m isna(values)\n\u001b[1;32m--> 418\u001b[0m result \u001b[39m=\u001b[39m func(values, axis\u001b[39m=\u001b[39maxis, skipna\u001b[39m=\u001b[39mskipna, mask\u001b[39m=\u001b[39mmask, \u001b[39m*\u001b[39m\u001b[39m*\u001b[39mkwargs)\n\u001b[0;32m    420\u001b[0m \u001b[39mif\u001b[39;00m datetimelike:\n\u001b[0;32m    421\u001b[0m     result \u001b[39m=\u001b[39m _wrap_results(result, orig_values\u001b[39m.\u001b[39mdtype, fill_value\u001b[39m=\u001b[39miNaT)\n",
      "File \u001b[1;32mc:\\Users\\pcdea\\AppData\\Local\\Programs\\Python\\Python310\\lib\\site-packages\\pandas\\core\\nanops.py:491\u001b[0m, in \u001b[0;36mmaybe_operate_rowwise.<locals>.newfunc\u001b[1;34m(values, axis, **kwargs)\u001b[0m\n\u001b[0;32m    488\u001b[0m         results \u001b[39m=\u001b[39m [func(x, \u001b[39m*\u001b[39m\u001b[39m*\u001b[39mkwargs) \u001b[39mfor\u001b[39;00m x \u001b[39min\u001b[39;00m arrs]\n\u001b[0;32m    489\u001b[0m     \u001b[39mreturn\u001b[39;00m np\u001b[39m.\u001b[39marray(results)\n\u001b[1;32m--> 491\u001b[0m \u001b[39mreturn\u001b[39;00m func(values, axis\u001b[39m=\u001b[39maxis, \u001b[39m*\u001b[39m\u001b[39m*\u001b[39mkwargs)\n",
      "File \u001b[1;32mc:\\Users\\pcdea\\AppData\\Local\\Programs\\Python\\Python310\\lib\\site-packages\\pandas\\core\\nanops.py:622\u001b[0m, in \u001b[0;36mnansum\u001b[1;34m(values, axis, skipna, min_count, mask)\u001b[0m\n\u001b[0;32m    588\u001b[0m \u001b[39m@disallow\u001b[39m(\u001b[39m\"\u001b[39m\u001b[39mM8\u001b[39m\u001b[39m\"\u001b[39m)\n\u001b[0;32m    589\u001b[0m \u001b[39m@_datetimelike_compat\u001b[39m\n\u001b[0;32m    590\u001b[0m \u001b[39m@maybe_operate_rowwise\u001b[39m\n\u001b[1;32m   (...)\u001b[0m\n\u001b[0;32m    597\u001b[0m     mask: npt\u001b[39m.\u001b[39mNDArray[np\u001b[39m.\u001b[39mbool_] \u001b[39m|\u001b[39m \u001b[39mNone\u001b[39;00m \u001b[39m=\u001b[39m \u001b[39mNone\u001b[39;00m,\n\u001b[0;32m    598\u001b[0m ) \u001b[39m-\u001b[39m\u001b[39m>\u001b[39m \u001b[39mfloat\u001b[39m:\n\u001b[0;32m    599\u001b[0m     \u001b[39m\"\"\"\u001b[39;00m\n\u001b[0;32m    600\u001b[0m \u001b[39m    Sum the elements along an axis ignoring NaNs\u001b[39;00m\n\u001b[0;32m    601\u001b[0m \n\u001b[1;32m   (...)\u001b[0m\n\u001b[0;32m    620\u001b[0m \u001b[39m    3.0\u001b[39;00m\n\u001b[0;32m    621\u001b[0m \u001b[39m    \"\"\"\u001b[39;00m\n\u001b[1;32m--> 622\u001b[0m     values, mask, dtype, dtype_max, _ \u001b[39m=\u001b[39m _get_values(\n\u001b[0;32m    623\u001b[0m         values, skipna, fill_value\u001b[39m=\u001b[39;49m\u001b[39m0\u001b[39;49m, mask\u001b[39m=\u001b[39;49mmask\n\u001b[0;32m    624\u001b[0m     )\n\u001b[0;32m    625\u001b[0m     dtype_sum \u001b[39m=\u001b[39m dtype_max\n\u001b[0;32m    626\u001b[0m     \u001b[39mif\u001b[39;00m is_float_dtype(dtype):\n",
      "File \u001b[1;32mc:\\Users\\pcdea\\AppData\\Local\\Programs\\Python\\Python310\\lib\\site-packages\\pandas\\core\\nanops.py:312\u001b[0m, in \u001b[0;36m_get_values\u001b[1;34m(values, skipna, fill_value, fill_value_typ, mask)\u001b[0m\n\u001b[0;32m    308\u001b[0m \u001b[39m# error: Incompatible types in assignment (expression has type \"Union[Any,\u001b[39;00m\n\u001b[0;32m    309\u001b[0m \u001b[39m# Union[ExtensionArray, ndarray]]\", variable has type \"ndarray\")\u001b[39;00m\n\u001b[0;32m    310\u001b[0m values \u001b[39m=\u001b[39m extract_array(values, extract_numpy\u001b[39m=\u001b[39m\u001b[39mTrue\u001b[39;00m)  \u001b[39m# type: ignore[assignment]\u001b[39;00m\n\u001b[1;32m--> 312\u001b[0m mask \u001b[39m=\u001b[39m _maybe_get_mask(values, skipna, mask)\n\u001b[0;32m    314\u001b[0m dtype \u001b[39m=\u001b[39m values\u001b[39m.\u001b[39mdtype\n\u001b[0;32m    316\u001b[0m datetimelike \u001b[39m=\u001b[39m \u001b[39mFalse\u001b[39;00m\n",
      "File \u001b[1;32mc:\\Users\\pcdea\\AppData\\Local\\Programs\\Python\\Python310\\lib\\site-packages\\pandas\\core\\nanops.py:256\u001b[0m, in \u001b[0;36m_maybe_get_mask\u001b[1;34m(values, skipna, mask)\u001b[0m\n\u001b[0;32m    253\u001b[0m         \u001b[39mreturn\u001b[39;00m \u001b[39mNone\u001b[39;00m\n\u001b[0;32m    255\u001b[0m     \u001b[39mif\u001b[39;00m skipna \u001b[39mor\u001b[39;00m needs_i8_conversion(values\u001b[39m.\u001b[39mdtype):\n\u001b[1;32m--> 256\u001b[0m         mask \u001b[39m=\u001b[39m isna(values)\n\u001b[0;32m    258\u001b[0m \u001b[39mreturn\u001b[39;00m mask\n",
      "File \u001b[1;32mc:\\Users\\pcdea\\AppData\\Local\\Programs\\Python\\Python310\\lib\\site-packages\\pandas\\core\\dtypes\\missing.py:185\u001b[0m, in \u001b[0;36misna\u001b[1;34m(obj)\u001b[0m\n\u001b[0;32m    108\u001b[0m \u001b[39mdef\u001b[39;00m \u001b[39misna\u001b[39m(obj: \u001b[39mobject\u001b[39m) \u001b[39m-\u001b[39m\u001b[39m>\u001b[39m \u001b[39mbool\u001b[39m \u001b[39m|\u001b[39m npt\u001b[39m.\u001b[39mNDArray[np\u001b[39m.\u001b[39mbool_] \u001b[39m|\u001b[39m NDFrame:\n\u001b[0;32m    109\u001b[0m     \u001b[39m\"\"\"\u001b[39;00m\n\u001b[0;32m    110\u001b[0m \u001b[39m    Detect missing values for an array-like object.\u001b[39;00m\n\u001b[0;32m    111\u001b[0m \n\u001b[1;32m   (...)\u001b[0m\n\u001b[0;32m    183\u001b[0m \u001b[39m    Name: 1, dtype: bool\u001b[39;00m\n\u001b[0;32m    184\u001b[0m \u001b[39m    \"\"\"\u001b[39;00m\n\u001b[1;32m--> 185\u001b[0m     \u001b[39mreturn\u001b[39;00m _isna(obj)\n",
      "File \u001b[1;32mc:\\Users\\pcdea\\AppData\\Local\\Programs\\Python\\Python310\\lib\\site-packages\\pandas\\core\\dtypes\\missing.py:214\u001b[0m, in \u001b[0;36m_isna\u001b[1;34m(obj, inf_as_na)\u001b[0m\n\u001b[0;32m    212\u001b[0m     \u001b[39mreturn\u001b[39;00m \u001b[39mFalse\u001b[39;00m\n\u001b[0;32m    213\u001b[0m \u001b[39melif\u001b[39;00m \u001b[39misinstance\u001b[39m(obj, (np\u001b[39m.\u001b[39mndarray, ABCExtensionArray)):\n\u001b[1;32m--> 214\u001b[0m     \u001b[39mreturn\u001b[39;00m _isna_array(obj, inf_as_na\u001b[39m=\u001b[39;49minf_as_na)\n\u001b[0;32m    215\u001b[0m \u001b[39melif\u001b[39;00m \u001b[39misinstance\u001b[39m(obj, ABCIndex):\n\u001b[0;32m    216\u001b[0m     \u001b[39m# Try to use cached isna, which also short-circuits for integer dtypes\u001b[39;00m\n\u001b[0;32m    217\u001b[0m     \u001b[39m#  and avoids materializing RangeIndex._values\u001b[39;00m\n\u001b[0;32m    218\u001b[0m     \u001b[39mif\u001b[39;00m \u001b[39mnot\u001b[39;00m obj\u001b[39m.\u001b[39m_can_hold_na:\n",
      "\u001b[1;31mKeyboardInterrupt\u001b[0m: "
     ]
    }
   ],
   "source": [
    "for filename in glob(Path('pch/20230329-20230331/src_feature/*').__str__()):\n",
    "    print(\"Processing\", filename, \"...\", \" \" * 20, end=\"\\r\")\n",
    "    targetFile = filename.replace('src_feature', f'interval_{INTERVAL}_src_feature')\n",
    "    if os.path.exists(targetFile):\n",
    "        continue\n",
    "    df = pd.read_parquet(filename)\n",
    "    df[[\"timeStart\"]] = df[[\"timeStart\"]].astype(dtype='datetime64[ns]')\n",
    "    start_time = datetime.fromisoformat(\"2023-03-29T00:00:00\")\n",
    "    end_time = start_time + timedelta(hours=72)\n",
    "    result = []\n",
    "    while start_time <= end_time:\n",
    "        filtered = df[(df[\"timeStart\"] >= start_time) & (df[\"timeStart\"] < start_time + timedelta(seconds=INTERVAL))]\n",
    "        result.append(\n",
    "            {\n",
    "                \"timeStart\": start_time,\n",
    "                \"srcIP\": df[\"srcIP\"].unique().tolist()[0],\n",
    "                \"packets\": filtered[\"packets\"].sum(),\n",
    "                \"bytes\": filtered[\"bytes\"].sum(),\n",
    "                \"flows\": filtered[\"flows\"].sum(),\n",
    "                \"bytes/packets\": filtered[\"bytes\"].sum() / filtered[\"packets\"].sum() if filtered[\"packets\"].sum() != 0 else 0,\n",
    "                \"flows/(bytes/packets)\": filtered[\"flows\"].sum() / (filtered[\"bytes\"].sum() / filtered[\"packets\"].sum()) if filtered[\"bytes\"].sum() != 0 and filtered[\"packets\"].sum() != 0 else 0,\n",
    "                \"nDstIP\": filtered[\"nDstIP\"].sum(),\n",
    "                \"nSrcPort\": filtered[\"nSrcPort\"].sum(),\n",
    "                \"nDstPort\": filtered[\"nDstPort\"].sum(),\n",
    "            }\n",
    "        )\n",
    "        start_time += timedelta(seconds=INTERVAL)\n",
    "    result = pd.DataFrame(result)\n",
    "    # print(result)\n",
    "    # break\n",
    "    os.makedirs(os.path.dirname(targetFile), exist_ok=True)\n",
    "    result.to_parquet(targetFile, index=False)"
   ]
  },
  {
   "attachments": {},
   "cell_type": "markdown",
   "metadata": {},
   "source": [
    "用 dst feature 產生時間序列資料"
   ]
  },
  {
   "cell_type": "code",
   "execution_count": null,
   "metadata": {},
   "outputs": [
    {
     "name": "stdout",
     "output_type": "stream",
     "text": [
      "Processing pch\\20230330\\dst_feature\\99.86.178.54.parguet ...                        \r"
     ]
    }
   ],
   "source": [
    "for filename in glob(Path('pch/20230329-20230331/dst_feature/*').__str__()):\n",
    "    print(\"Processing\", filename, \"...\", \" \" * 20, end=\"\\r\")\n",
    "    targetFile = filename.replace('dst_feature', f'interval_{INTERVAL}_dst_feature')\n",
    "    if os.path.exists(targetFile):\n",
    "        continue\n",
    "    df = pd.read_parquet(filename)\n",
    "    df[[\"timeStart\"]] = df[[\"timeStart\"]].astype(dtype='datetime64[ns]')\n",
    "    start_time = datetime.fromisoformat(\"2023-03-29T00:00:00\")\n",
    "    end_time = start_time + timedelta(hours=72)\n",
    "    result = []\n",
    "    while start_time <= end_time:\n",
    "        filtered = df[(df[\"timeStart\"] >= start_time) & (df[\"timeStart\"] < start_time + timedelta(seconds=INTERVAL))]\n",
    "        result.append(\n",
    "            {\n",
    "                \"timeStart\": start_time,\n",
    "                \"dstIP\": df[\"dstIP\"].unique().tolist()[0],\n",
    "                \"packets\": filtered[\"packets\"].sum(),\n",
    "                \"bytes\": filtered[\"bytes\"].sum(),\n",
    "                \"flows\": filtered[\"flows\"].sum(),\n",
    "                \"bytes/packets\": filtered[\"bytes\"].sum() / filtered[\"packets\"].sum() if filtered[\"packets\"].sum() != 0 else 0,\n",
    "                \"flows/(bytes/packets)\": filtered[\"flows\"].sum() / (filtered[\"bytes\"].sum() / filtered[\"packets\"].sum()) if filtered[\"bytes\"].sum() != 0 and filtered[\"packets\"].sum() != 0 else 0,\n",
    "                \"nSrcIP\": filtered[\"nSrcIP\"].sum(),\n",
    "                \"nSrcPort\": filtered[\"nSrcPort\"].sum(),\n",
    "                \"nDstPort\": filtered[\"nDstPort\"].sum(),\n",
    "            }\n",
    "        )\n",
    "        start_time += timedelta(seconds=INTERVAL)\n",
    "    result = pd.DataFrame(result)\n",
    "    # print(result)\n",
    "    # break\n",
    "    os.makedirs(os.path.dirname(targetFile), exist_ok=True)\n",
    "    result.to_parquet(targetFile, index=False)"
   ]
  }
 ],
 "metadata": {
  "kernelspec": {
   "display_name": "Python 3",
   "language": "python",
   "name": "python3"
  },
  "language_info": {
   "codemirror_mode": {
    "name": "ipython",
    "version": 3
   },
   "file_extension": ".py",
   "mimetype": "text/x-python",
   "name": "python",
   "nbconvert_exporter": "python",
   "pygments_lexer": "ipython3",
   "version": "3.10.9"
  },
  "orig_nbformat": 4,
  "vscode": {
   "interpreter": {
    "hash": "d02331cd1603ec76c6a0d691d59c880477777fc72f4efeafcd9cb0c05515e5a1"
   }
  }
 },
 "nbformat": 4,
 "nbformat_minor": 2
}
