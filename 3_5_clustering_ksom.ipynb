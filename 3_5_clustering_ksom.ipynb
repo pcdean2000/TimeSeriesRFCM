{
 "cells": [
  {
   "cell_type": "code",
   "execution_count": 4,
   "metadata": {},
   "outputs": [],
   "source": [
    "import os\n",
    "import warnings\n",
    "warnings.filterwarnings('ignore')\n",
    "\n",
    "import numpy as np\n",
    "\n",
    "from glob import glob\n",
    "from minisom import MiniSom\n",
    "from pathlib import Path\n",
    "\n",
    "INTERVAL = 15"
   ]
  },
  {
   "cell_type": "code",
   "execution_count": 5,
   "metadata": {},
   "outputs": [],
   "source": [
    "def dropna(nparray):\n",
    "    if isinstance(nparray[0], np.ndarray):\n",
    "        return np.array([dropna(x) for x in nparray])\n",
    "    else:\n",
    "        return nparray[~np.isnan(nparray)]"
   ]
  },
  {
   "cell_type": "code",
   "execution_count": 6,
   "metadata": {},
   "outputs": [
    {
     "name": "stdout",
     "output_type": "stream",
     "text": [
      "Dir:  timeseries\\pch\\20230330\\interval_15_src_feature\n",
      "\tPyts dataset shape:  (1563, 8, 61)\n",
      "\tX shape:  (1563, 488)\n",
      " [ 50000 / 50000 ] 100% - 0:00:00 left \n",
      " quantization error: 0.0\n",
      "\tKernel SOM shape:  (1563,)\n",
      "Dir:  timeseries\\pch\\20230330\\interval_15_dst_feature\n",
      "\tPyts dataset shape:  (4731, 8, 61)\n",
      "\tX shape:  (4731, 488)\n",
      " [ 50000 / 50000 ] 100% - 0:00:00 left \n",
      " quantization error: 0.0\n",
      "\tKernel SOM shape:  (4731,)\n"
     ]
    }
   ],
   "source": [
    "for direction in [\"src\", \"dst\"]:\n",
    "    for dirname in glob(Path(f'timeseries/pch/20230329/interval_{INTERVAL}_{direction}*').__str__()):\n",
    "        print(\"Dir: \", dirname)\n",
    "        # if os.path.exists(os.path.join(dirname, \"ksom_label.npy\")):\n",
    "        #     continue\n",
    "        pyts_dataset = np.load(os.path.join(dirname, \"pyts_dataset.npy\"))\n",
    "        pyts_dataset = dropna(pyts_dataset)\n",
    "        print(\"\\tPyts dataset shape: \", pyts_dataset.shape)\n",
    "        \n",
    "        \n",
    "        X = pyts_dataset.reshape(len(pyts_dataset), -1)\n",
    "        print(\"\\tX shape: \", X.shape)\n",
    "        \n",
    "        som_x = som_y = 10\n",
    "        som = MiniSom(som_x, som_y, len(X[0]), sigma=0.3, learning_rate = 0.1, random_seed=10)\n",
    "        som.random_weights_init(X)\n",
    "        som.train(X, 50000, verbose=True)\n",
    "        y_pred = np.array([som.winner(X[idx])[1] for idx in range(len(X))])\n",
    "        \n",
    "        np.save(os.path.join(dirname, \"ksom_label.npy\"), y_pred)\n",
    "        print(\"\\tKernel SOM shape: \", y_pred.shape)\n",
    "        del pyts_dataset, som, X, y_pred"
   ]
  }
 ],
 "metadata": {
  "kernelspec": {
   "display_name": "Python 3",
   "language": "python",
   "name": "python3"
  },
  "language_info": {
   "codemirror_mode": {
    "name": "ipython",
    "version": 3
   },
   "file_extension": ".py",
   "mimetype": "text/x-python",
   "name": "python",
   "nbconvert_exporter": "python",
   "pygments_lexer": "ipython3",
   "version": "3.10.9"
  },
  "orig_nbformat": 4,
  "vscode": {
   "interpreter": {
    "hash": "d02331cd1603ec76c6a0d691d59c880477777fc72f4efeafcd9cb0c05515e5a1"
   }
  }
 },
 "nbformat": 4,
 "nbformat_minor": 2
}
