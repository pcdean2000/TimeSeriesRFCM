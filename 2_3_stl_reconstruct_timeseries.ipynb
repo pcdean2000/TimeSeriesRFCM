{
 "cells": [
  {
   "cell_type": "code",
   "execution_count": 1,
   "metadata": {},
   "outputs": [],
   "source": [
    "import numpy as np\n",
    "import pandas as pd\n",
    "\n",
    "import warnings\n",
    "warnings.filterwarnings('ignore')\n",
    "\n",
    "from statsmodels.tsa.seasonal import seasonal_decompose\n",
    "\n",
    "import os\n",
    "from glob import glob\n",
    "from pathlib import Path\n",
    "\n",
    "INTERVAL = 1"
   ]
  },
  {
   "attachments": {},
   "cell_type": "markdown",
   "metadata": {},
   "source": [
    "reconstruct src feature"
   ]
  },
  {
   "cell_type": "code",
   "execution_count": 3,
   "metadata": {},
   "outputs": [
    {
     "name": "stdout",
     "output_type": "stream",
     "text": [
      "Reconstructing interval_1_src_feature\\219.136.103.165.parquet ...                     \r"
     ]
    },
    {
     "ename": "KeyboardInterrupt",
     "evalue": "",
     "output_type": "error",
     "traceback": [
      "\u001b[1;31m---------------------------------------------------------------------------\u001b[0m",
      "\u001b[1;31mKeyboardInterrupt\u001b[0m                         Traceback (most recent call last)",
      "Cell \u001b[1;32mIn[3], line 19\u001b[0m\n\u001b[0;32m     17\u001b[0m \u001b[39mfor\u001b[39;00m column \u001b[39min\u001b[39;00m df\u001b[39m.\u001b[39mcolumns\u001b[39m.\u001b[39mdifference([\u001b[39m\"\u001b[39m\u001b[39mtimeStart\u001b[39m\u001b[39m\"\u001b[39m, \u001b[39m\"\u001b[39m\u001b[39msrcIP\u001b[39m\u001b[39m\"\u001b[39m]):\n\u001b[0;32m     18\u001b[0m     index \u001b[39m=\u001b[39m np\u001b[39m.\u001b[39marray(\u001b[39m'\u001b[39m\u001b[39m2020-01-01\u001b[39m\u001b[39m'\u001b[39m, dtype\u001b[39m=\u001b[39mnp\u001b[39m.\u001b[39mdatetime64) \u001b[39m+\u001b[39m np\u001b[39m.\u001b[39marange(\u001b[39mlen\u001b[39m(df))\n\u001b[1;32m---> 19\u001b[0m     temp \u001b[39m=\u001b[39m pd\u001b[39m.\u001b[39mDataFrame({\u001b[39m'\u001b[39m\u001b[39mdata\u001b[39m\u001b[39m'\u001b[39m: df[column]\u001b[39m.\u001b[39mvalues}, index\u001b[39m=\u001b[39mindex)\u001b[39m.\u001b[39masfreq(\u001b[39m'\u001b[39m\u001b[39mD\u001b[39m\u001b[39m'\u001b[39m)\u001b[39m.\u001b[39mfillna(method\u001b[39m=\u001b[39m\u001b[39m'\u001b[39m\u001b[39mffill\u001b[39m\u001b[39m'\u001b[39m)\n\u001b[0;32m     20\u001b[0m     result \u001b[39m=\u001b[39m seasonal_decompose(x\u001b[39m=\u001b[39mtemp, model\u001b[39m=\u001b[39m\u001b[39m'\u001b[39m\u001b[39madditive\u001b[39m\u001b[39m'\u001b[39m)\n\u001b[0;32m     22\u001b[0m     trend \u001b[39m=\u001b[39m result\u001b[39m.\u001b[39mtrend\u001b[39m.\u001b[39mvalues\n",
      "File \u001b[1;32mc:\\Users\\pcdea\\AppData\\Local\\Programs\\Python\\Python310\\lib\\site-packages\\pandas\\core\\frame.py:3756\u001b[0m, in \u001b[0;36mDataFrame.__getitem__\u001b[1;34m(self, key)\u001b[0m\n\u001b[0;32m   3753\u001b[0m     \u001b[39mfor\u001b[39;00m i \u001b[39min\u001b[39;00m \u001b[39mrange\u001b[39m(\u001b[39mlen\u001b[39m(\u001b[39mself\u001b[39m\u001b[39m.\u001b[39mcolumns)):\n\u001b[0;32m   3754\u001b[0m         \u001b[39myield\u001b[39;00m \u001b[39mself\u001b[39m\u001b[39m.\u001b[39m_get_column_array(i)\n\u001b[1;32m-> 3756\u001b[0m \u001b[39mdef\u001b[39;00m \u001b[39m__getitem__\u001b[39m(\u001b[39mself\u001b[39m, key):\n\u001b[0;32m   3757\u001b[0m     check_deprecated_indexers(key)\n\u001b[0;32m   3758\u001b[0m     key \u001b[39m=\u001b[39m lib\u001b[39m.\u001b[39mitem_from_zerodim(key)\n",
      "\u001b[1;31mKeyboardInterrupt\u001b[0m: "
     ]
    }
   ],
   "source": [
    "original_prefix = f\"interval_{INTERVAL}_src_feature\"\n",
    "\n",
    "for filename in glob(Path(f\"{original_prefix}/*\").__str__()):\n",
    "    print(\"Reconstructing\", filename, \"...\", \" \" * 20, end=\"\\r\")\n",
    "    trendFilename = filename.replace(original_prefix, f\"{original_prefix}_reconstructed_STL_trend\")\n",
    "    seasonalFilename = filename.replace(original_prefix, f\"{original_prefix}_reconstructed_STL_seasonal\")\n",
    "    combinedFilename = filename.replace(original_prefix, f\"{original_prefix}_reconstructed_STL_combined\")\n",
    "    detrendFilename = filename.replace(original_prefix, f\"{original_prefix}_reconstructed_STL_detrend\")\n",
    "    if os.path.exists(detrendFilename):\n",
    "        continue\n",
    "    \n",
    "    df = pd.read_parquet(filename)\n",
    "    df_trend = pd.DataFrame(df[[\"timeStart\", \"srcIP\"]])\n",
    "    df_seasonal = pd.DataFrame(df[[\"timeStart\", \"srcIP\"]])\n",
    "    df_combined = pd.DataFrame(df[[\"timeStart\", \"srcIP\"]])\n",
    "    df_detrend = pd.DataFrame(df[[\"timeStart\", \"srcIP\"]])\n",
    "    for column in df.columns.difference([\"timeStart\", \"srcIP\"]):\n",
    "        index = np.array('2020-01-01', dtype=np.datetime64) + np.arange(len(df))\n",
    "        temp = pd.DataFrame({'data': df[column].values}, index=index).asfreq('D').fillna(method='ffill')\n",
    "        result = seasonal_decompose(x=temp, model='additive')\n",
    "        \n",
    "        trend = result.trend.values\n",
    "        seasonal = result.seasonal.values\n",
    "        detrend = (temp['data'] - result.trend.fillna(0)).values\n",
    "        \n",
    "        df_trend[column] = trend\n",
    "        df_seasonal[column] = seasonal\n",
    "        df_combined[column] = trend + seasonal\n",
    "        df_detrend[column] = detrend\n",
    "    \n",
    "    os.makedirs(os.path.dirname(trendFilename), exist_ok=True)\n",
    "    os.makedirs(os.path.dirname(seasonalFilename), exist_ok=True)\n",
    "    os.makedirs(os.path.dirname(combinedFilename), exist_ok=True)\n",
    "    os.makedirs(os.path.dirname(detrendFilename), exist_ok=True)\n",
    "        \n",
    "    df_trend.to_parquet(trendFilename, index=False)\n",
    "    df_seasonal.to_parquet(seasonalFilename, index=False)\n",
    "    df_combined.to_parquet(combinedFilename, index=False)\n",
    "    df_detrend.to_parquet(detrendFilename, index=False)"
   ]
  },
  {
   "attachments": {},
   "cell_type": "markdown",
   "metadata": {},
   "source": [
    "reconstruct dst feature"
   ]
  },
  {
   "cell_type": "code",
   "execution_count": null,
   "metadata": {},
   "outputs": [
    {
     "name": "stdout",
     "output_type": "stream",
     "text": [
      "Reconstructing interval_5_dst_feature\\99.91.213.113.parguet ...                       \r"
     ]
    }
   ],
   "source": [
    "original_prefix = f\"interval_{INTERVAL}_dst_feature\"\n",
    "\n",
    "for filename in glob(Path(f\"{original_prefix}/*\").__str__()):\n",
    "    print(\"Reconstructing\", filename, \"...\", \" \" * 20, end=\"\\r\")\n",
    "    trendFilename = filename.replace(original_prefix, f\"{original_prefix}_reconstructed_STL_trend\")\n",
    "    seasonalFilename = filename.replace(original_prefix, f\"{original_prefix}_reconstructed_STL_seasonal\")\n",
    "    combinedFilename = filename.replace(original_prefix, f\"{original_prefix}_reconstructed_STL_combined\")\n",
    "    detrendFilename = filename.replace(original_prefix, f\"{original_prefix}_reconstructed_STL_detrend\")\n",
    "    if os.path.exists(detrendFilename):\n",
    "        continue\n",
    "    \n",
    "    df = pd.read_parquet(filename)\n",
    "    df_trend = pd.DataFrame(df[[\"timeStart\", \"dstIP\"]])\n",
    "    df_seasonal = pd.DataFrame(df[[\"timeStart\", \"dstIP\"]])\n",
    "    df_combined = pd.DataFrame(df[[\"timeStart\", \"dstIP\"]])\n",
    "    df_detrend = pd.DataFrame(df[[\"timeStart\", \"dstIP\"]])\n",
    "    for column in df.columns.difference([\"timeStart\", \"dstIP\"]):\n",
    "        index = np.array('2020-01-01', dtype=np.datetime64) + np.arange(len(df))\n",
    "        temp = pd.DataFrame({'data': df[column].values}, index=index).asfreq('D').fillna(method='ffill')\n",
    "        result = seasonal_decompose(x=temp, model='additive')\n",
    "        \n",
    "        trend = result.trend.values\n",
    "        seasonal = result.seasonal.values\n",
    "        detrend = (temp['data'] - result.trend.fillna(0)).values\n",
    "        \n",
    "        df_trend[column] = trend\n",
    "        df_seasonal[column] = seasonal\n",
    "        df_combined[column] = trend + seasonal\n",
    "        df_detrend[column] = detrend\n",
    "    \n",
    "    os.makedirs(os.path.dirname(trendFilename), exist_ok=True)\n",
    "    os.makedirs(os.path.dirname(seasonalFilename), exist_ok=True)\n",
    "    os.makedirs(os.path.dirname(combinedFilename), exist_ok=True)\n",
    "    os.makedirs(os.path.dirname(detrendFilename), exist_ok=True)\n",
    "        \n",
    "    df_trend.to_parquet(trendFilename, index=False)\n",
    "    df_seasonal.to_parquet(seasonalFilename, index=False)\n",
    "    df_combined.to_parquet(combinedFilename, index=False)\n",
    "    df_detrend.to_parquet(detrendFilename, index=False)"
   ]
  },
  {
   "cell_type": "code",
   "execution_count": null,
   "metadata": {},
   "outputs": [],
   "source": [
    "# for filename in glob(Path('reconstructed_STL_trend/200702111400/*/*').__str__()):\n",
    "#     trendFilename = filename.replace(\"reconstructed_STL_trend\", \"reconstructed_dual_STL_trend\")\n",
    "#     seasonalFilename = filename.replace(\"reconstructed_STL_trend\", \"reconstructed_dual_STL_seasonal\")\n",
    "#     combinedFilename = filename.replace(\"reconstructed_STL_trend\", \"reconstructed_dual_STL_combined\")\n",
    "#     if os.path.exists(trendFilename):\n",
    "#         continue\n",
    "    \n",
    "#     df = pd.read_csv(filename)\n",
    "#     df_trend = pd.DataFrame(df[[\"timeStart\", \"SrcIP\"]])\n",
    "#     df_seasonal = pd.DataFrame(df[[\"timeStart\", \"SrcIP\"]])\n",
    "#     df_combined = pd.DataFrame(df[[\"timeStart\", \"SrcIP\"]])\n",
    "#     for column in df.columns.difference([\"timeStart\", \"SrcIP\"]):\n",
    "#         index = np.array('2020-01-01', dtype=np.datetime64) + np.arange(len(df))\n",
    "#         temp = pd.DataFrame({'data': df[column].values}, index=index).asfreq('D').fillna(method='ffill')\n",
    "#         result = seasonal_decompose(x=temp, model='additive')\n",
    "        \n",
    "#         trend = result.trend.values\n",
    "#         trend = np.where(np.isnan(trend), np.ma.array(trend, mask=np.isnan(trend)).mean(axis=0), trend)\n",
    "        \n",
    "#         seasonal = result.seasonal.values\n",
    "        \n",
    "#         df_trend[column] = trend\n",
    "#         df_seasonal[column] = seasonal\n",
    "#         df_combined[column] = trend + seasonal\n",
    "    \n",
    "#     os.makedirs(os.path.dirname(trendFilename), exist_ok=True)\n",
    "#     os.makedirs(os.path.dirname(seasonalFilename), exist_ok=True)\n",
    "#     os.makedirs(os.path.dirname(combinedFilename), exist_ok=True)\n",
    "        \n",
    "#     df_trend.to_csv(trendFilename, index=False)\n",
    "#     df_seasonal.to_csv(seasonalFilename, index=False)\n",
    "#     df_combined.to_csv(combinedFilename, index=False)"
   ]
  },
  {
   "cell_type": "code",
   "execution_count": null,
   "metadata": {},
   "outputs": [],
   "source": [
    "# for filename in glob(Path('reconstructed_dual_STL_trend/200702111400/*/*').__str__()):\n",
    "#     trendFilename = filename.replace(\"reconstructed_dual_STL_trend\", \"reconstructed_trial_STL_trend\")\n",
    "#     seasonalFilename = filename.replace(\"reconstructed_dual_STL_trend\", \"reconstructed_trial_STL_seasonal\")\n",
    "#     combinedFilename = filename.replace(\"reconstructed_dual_STL_trend\", \"reconstructed_trial_STL_combined\")\n",
    "#     if os.path.exists(trendFilename):\n",
    "#         continue\n",
    "    \n",
    "#     df = pd.read_csv(filename)\n",
    "#     df_trend = pd.DataFrame(df[[\"timeStart\", \"SrcIP\"]])\n",
    "#     df_seasonal = pd.DataFrame(df[[\"timeStart\", \"SrcIP\"]])\n",
    "#     df_combined = pd.DataFrame(df[[\"timeStart\", \"SrcIP\"]])\n",
    "#     for column in df.columns.difference([\"timeStart\", \"SrcIP\"]):\n",
    "#         index = np.array('2020-01-01', dtype=np.datetime64) + np.arange(len(df))\n",
    "#         temp = pd.DataFrame({'data': df[column].values}, index=index).asfreq('D').fillna(method='ffill')\n",
    "#         result = seasonal_decompose(x=temp, model='additive')\n",
    "        \n",
    "#         trend = result.trend.values\n",
    "#         trend = np.where(np.isnan(trend), np.ma.array(trend, mask=np.isnan(trend)).mean(axis=0), trend)\n",
    "        \n",
    "#         seasonal = result.seasonal.values\n",
    "        \n",
    "#         df_trend[column] = trend\n",
    "#         df_seasonal[column] = seasonal\n",
    "#         df_combined[column] = trend + seasonal\n",
    "    \n",
    "#     os.makedirs(os.path.dirname(trendFilename), exist_ok=True)\n",
    "#     os.makedirs(os.path.dirname(seasonalFilename), exist_ok=True)\n",
    "#     os.makedirs(os.path.dirname(combinedFilename), exist_ok=True)\n",
    "        \n",
    "#     df_trend.to_csv(trendFilename, index=False)\n",
    "#     df_seasonal.to_csv(seasonalFilename, index=False)\n",
    "#     df_combined.to_csv(combinedFilename, index=False)"
   ]
  },
  {
   "cell_type": "code",
   "execution_count": null,
   "metadata": {},
   "outputs": [],
   "source": [
    "# def parser(s):\n",
    "#     return datetime.strptime(s, '%Y-%m-%d %H:%M:%S')"
   ]
  },
  {
   "cell_type": "code",
   "execution_count": null,
   "metadata": {},
   "outputs": [],
   "source": [
    "# df = pd.read_csv(\"interval1/200702111400/256500/256507-212_136_45_198.csv\")\n",
    "# dates = np.array('2020-01-01', dtype=np.datetime64) + np.arange(len(df))\n",
    "# temp = pd.DataFrame({'data': df[\"bytes\"].values}, index=dates).asfreq('D').fillna(method='ffill')\n",
    "# result = seasonal_decompose(x=temp, model='additive')"
   ]
  },
  {
   "cell_type": "code",
   "execution_count": null,
   "metadata": {},
   "outputs": [],
   "source": [
    "# import numpy.ma as ma\n",
    "# a = result.trend.values\n",
    "# trend = np.where(np.isnan(a), ma.array(a, mask=np.isnan(a)).mean(axis=0), a)\n",
    "# seasonal = result.seasonal.values\n",
    "# (trend + seasonal).shape"
   ]
  }
 ],
 "metadata": {
  "kernelspec": {
   "display_name": "Python 3",
   "language": "python",
   "name": "python3"
  },
  "language_info": {
   "codemirror_mode": {
    "name": "ipython",
    "version": 3
   },
   "file_extension": ".py",
   "mimetype": "text/x-python",
   "name": "python",
   "nbconvert_exporter": "python",
   "pygments_lexer": "ipython3",
   "version": "3.10.9"
  },
  "orig_nbformat": 4,
  "vscode": {
   "interpreter": {
    "hash": "d02331cd1603ec76c6a0d691d59c880477777fc72f4efeafcd9cb0c05515e5a1"
   }
  }
 },
 "nbformat": 4,
 "nbformat_minor": 2
}
