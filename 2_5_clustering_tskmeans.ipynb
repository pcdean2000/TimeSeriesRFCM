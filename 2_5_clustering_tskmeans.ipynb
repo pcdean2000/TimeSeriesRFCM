{
 "cells": [
  {
   "cell_type": "code",
   "execution_count": 1,
   "metadata": {},
   "outputs": [],
   "source": [
    "import os\n",
    "import warnings\n",
    "warnings.filterwarnings('ignore')\n",
    "\n",
    "import numpy as np\n",
    "\n",
    "from glob import glob\n",
    "from pathlib import Path\n",
    "from tslearn.utils import from_pyts_dataset\n",
    "from tslearn.clustering import TimeSeriesKMeans\n",
    "\n",
    "INTERVAL = 10"
   ]
  },
  {
   "cell_type": "code",
   "execution_count": 2,
   "metadata": {},
   "outputs": [],
   "source": [
    "def dropna(nparray):\n",
    "    if isinstance(nparray[0], np.ndarray):\n",
    "        return np.array([dropna(x) for x in nparray])\n",
    "    else:\n",
    "        return nparray[~np.isnan(nparray)]"
   ]
  },
  {
   "cell_type": "code",
   "execution_count": 3,
   "metadata": {},
   "outputs": [
    {
     "name": "stdout",
     "output_type": "stream",
     "text": [
      "Dir:  timeseries\\interval_15_src_feature\n",
      "Dir:  timeseries\\interval_15_src_feature_reconstructed_STL_combined\n",
      "Dir:  timeseries\\interval_15_src_feature_reconstructed_STL_detrend\n",
      "Dir:  timeseries\\interval_15_src_feature_reconstructed_STL_seasonal\n",
      "Dir:  timeseries\\interval_15_src_feature_reconstructed_STL_trend\n",
      "Dir:  timeseries\\interval_15_dst_feature\n",
      "\tPyts dataset shape:  (190016, 8, 61)\n",
      "\tTslearn dataset shape:  (190016, 61, 8)\n",
      "77818052734781411557376.000 --> 48175797058805369405440.000 --> 44215933135305253584896.000 --> 43303603981423938109440.000 --> 42037721455178733846528.000 --> 41944009684539037188096.000 --> 41550463381501418405888.000 --> 41551806907791798435840.000 --> 41549060763108262281216.000 --> 41543966607947566415872.000 --> \n",
      "\tTslearn kmeans shape:  (190016,)\n",
      "Dir:  timeseries\\interval_15_dst_feature_reconstructed_STL_combined\n",
      "\tPyts dataset shape:  (190016, 8, 55)\n",
      "\tTslearn dataset shape:  (190016, 55, 8)\n",
      "51869135439549444390912.000 --> 13017496133271159832576.000 --> 13008458473075422265344.000 --> 13156621425589107032064.000 --> 11107227924745995419648.000 --> 10970898338089984327680.000 --> 10991718487065039470592.000 --> 11141509946612954169344.000 --> 10905502138703309438976.000 --> 10594197603083886788608.000 --> \n",
      "\tTslearn kmeans shape:  (190016,)\n",
      "Dir:  timeseries\\interval_15_dst_feature_reconstructed_STL_detrend\n",
      "\tPyts dataset shape:  (190016, 8, 61)\n",
      "\tTslearn dataset shape:  (190016, 61, 8)\n",
      "25384035092558814117888.000 --> 17221940616728110170112.000 --> 14682410160556030820352.000 --> 13854918372487250051072.000 --> 14042163433830212435968.000 --> 14202568678322366054400.000 --> 14348461903517677780992.000 --> 14375547775708813066240.000 --> 14479069749946078986240.000 --> 14504629817926993575936.000 --> \n",
      "\tTslearn kmeans shape:  (190016,)\n",
      "Dir:  timeseries\\interval_15_dst_feature_reconstructed_STL_seasonal\n",
      "\tPyts dataset shape:  (190016, 8, 61)\n",
      "\tTslearn dataset shape:  (190016, 61, 8)\n",
      "143480085143564173312.000 --> 71728055076376084480.000 --> 65881035816976900096.000 --> 65220308650908835840.000 --> 64356715464372846592.000 --> 65296805001389826048.000 --> 65635260869031133184.000 --> 65653413999302148096.000 --> 65678422966331318272.000 --> 65706161151095767040.000 --> \n",
      "\tTslearn kmeans shape:  (190016,)\n",
      "Dir:  timeseries\\interval_15_dst_feature_reconstructed_STL_trend\n",
      "\tPyts dataset shape:  (190016, 8, 55)\n",
      "\tTslearn dataset shape:  (190016, 55, 8)\n",
      "39777763028645242208256.000 --> 10209233540829721657344.000 --> 10207466469785264455680.000 --> 9800630472958193696768.000 --> 9812067321120844414976.000 --> 10148374114774850469888.000 --> 10020257448372708835328.000 --> 10040166241394598346752.000 --> 10059881300040739717120.000 --> 10435258029071847653376.000 --> \n",
      "\tTslearn kmeans shape:  (190016,)\n"
     ]
    }
   ],
   "source": [
    "for direction in [\"src\", \"dst\"]:\n",
    "    for dirname in glob(Path(f'timeseries/interval_{INTERVAL}_{direction}*').__str__()):\n",
    "        print(\"Dir: \", dirname)\n",
    "        if os.path.exists(os.path.join(dirname, \"tslearn_kmeans.npy\")):\n",
    "            continue\n",
    "        pyts_dataset = np.load(os.path.join(dirname, \"pyts_dataset.npy\"))\n",
    "        pyts_dataset = dropna(pyts_dataset)\n",
    "        print(\"\\tPyts dataset shape: \", pyts_dataset.shape)\n",
    "        X = from_pyts_dataset(pyts_dataset)\n",
    "        print(\"\\tTslearn dataset shape: \", X.shape)\n",
    "        model = TimeSeriesKMeans(n_clusters=10, metric=\"softdtw\", verbose=True, random_state=10, n_jobs=2, max_iter=10, tol=1e-3)\n",
    "        y_pred = model.fit_predict(X)\n",
    "        np.save(os.path.join(dirname, \"tslearn_tskmeans.npy\"), y_pred)\n",
    "        print(\"\\tTslearn kmeans shape: \", y_pred.shape)\n",
    "        del pyts_dataset, model, X, y_pred"
   ]
  },
  {
   "cell_type": "code",
   "execution_count": 4,
   "metadata": {},
   "outputs": [],
   "source": [
    "# pyts_timeseries = np.load(f\"interval{INTERVAL}_reconstructed_STL_trend_ts/200702111400/pyts_dataset.npy\")\n",
    "# pyts_timeseries.shape"
   ]
  },
  {
   "cell_type": "code",
   "execution_count": 5,
   "metadata": {},
   "outputs": [],
   "source": [
    "# tslearn_timeseries = from_pyts_dataset(pyts_timeseries)\n",
    "# tslearn_timeseries.shape"
   ]
  },
  {
   "cell_type": "code",
   "execution_count": 6,
   "metadata": {},
   "outputs": [],
   "source": [
    "# model = TimeSeriesKMeans(n_clusters=10, metric=\"softdtw\", max_iter=10, metric_params={\"gamma\": .01})\n",
    "# model.fit(tslearn_timeseries)\n",
    "# labels = model.labels_"
   ]
  },
  {
   "cell_type": "code",
   "execution_count": 7,
   "metadata": {},
   "outputs": [],
   "source": [
    "# np.asarray(np.unique(labels, return_counts=True)).T"
   ]
  },
  {
   "cell_type": "code",
   "execution_count": 8,
   "metadata": {},
   "outputs": [],
   "source": [
    "# np.save(f\"interval{INTERVAL}_reconstructed_STL_trend_ts/200702111400/labels.npy\", labels)"
   ]
  },
  {
   "cell_type": "code",
   "execution_count": 9,
   "metadata": {},
   "outputs": [],
   "source": [
    "# Save model\n",
    "# model.to_pickle(f\"interval{INTERVAL}_reconstructed_STL_trend_ts/200702111400/model.pkl\")"
   ]
  }
 ],
 "metadata": {
  "kernelspec": {
   "display_name": "Python 3",
   "language": "python",
   "name": "python3"
  },
  "language_info": {
   "codemirror_mode": {
    "name": "ipython",
    "version": 3
   },
   "file_extension": ".py",
   "mimetype": "text/x-python",
   "name": "python",
   "nbconvert_exporter": "python",
   "pygments_lexer": "ipython3",
   "version": "3.10.9"
  },
  "orig_nbformat": 4,
  "vscode": {
   "interpreter": {
    "hash": "d02331cd1603ec76c6a0d691d59c880477777fc72f4efeafcd9cb0c05515e5a1"
   }
  }
 },
 "nbformat": 4,
 "nbformat_minor": 2
}
